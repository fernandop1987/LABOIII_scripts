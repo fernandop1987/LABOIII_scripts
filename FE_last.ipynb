{
 "cells": [
  {
   "cell_type": "code",
   "execution_count": 1,
   "metadata": {},
   "outputs": [
    {
     "data": {
      "text/html": [
       "<div>\n",
       "<style scoped>\n",
       "    .dataframe tbody tr th:only-of-type {\n",
       "        vertical-align: middle;\n",
       "    }\n",
       "\n",
       "    .dataframe tbody tr th {\n",
       "        vertical-align: top;\n",
       "    }\n",
       "\n",
       "    .dataframe thead th {\n",
       "        text-align: right;\n",
       "    }\n",
       "</style>\n",
       "<table border=\"1\" class=\"dataframe\">\n",
       "  <thead>\n",
       "    <tr style=\"text-align: right;\">\n",
       "      <th></th>\n",
       "      <th>product_id</th>\n",
       "    </tr>\n",
       "  </thead>\n",
       "  <tbody>\n",
       "    <tr>\n",
       "      <th>0</th>\n",
       "      <td>20001</td>\n",
       "    </tr>\n",
       "    <tr>\n",
       "      <th>1</th>\n",
       "      <td>20002</td>\n",
       "    </tr>\n",
       "    <tr>\n",
       "      <th>2</th>\n",
       "      <td>20003</td>\n",
       "    </tr>\n",
       "    <tr>\n",
       "      <th>3</th>\n",
       "      <td>20004</td>\n",
       "    </tr>\n",
       "    <tr>\n",
       "      <th>4</th>\n",
       "      <td>20005</td>\n",
       "    </tr>\n",
       "  </tbody>\n",
       "</table>\n",
       "</div>"
      ],
      "text/plain": [
       "   product_id\n",
       "0       20001\n",
       "1       20002\n",
       "2       20003\n",
       "3       20004\n",
       "4       20005"
      ]
     },
     "execution_count": 1,
     "metadata": {},
     "output_type": "execute_result"
    }
   ],
   "source": [
    "import pandas as pd\n",
    "\n",
    "# Cargar product_id_apredecir201912.txt\n",
    "df_ids = pd.read_csv('product_id_apredecir201912.txt')\n",
    "df_ids.head()"
   ]
  },
  {
   "cell_type": "code",
   "execution_count": 2,
   "metadata": {},
   "outputs": [
    {
     "data": {
      "text/html": [
       "<div>\n",
       "<style scoped>\n",
       "    .dataframe tbody tr th:only-of-type {\n",
       "        vertical-align: middle;\n",
       "    }\n",
       "\n",
       "    .dataframe tbody tr th {\n",
       "        vertical-align: top;\n",
       "    }\n",
       "\n",
       "    .dataframe thead th {\n",
       "        text-align: right;\n",
       "    }\n",
       "</style>\n",
       "<table border=\"1\" class=\"dataframe\">\n",
       "  <thead>\n",
       "    <tr style=\"text-align: right;\">\n",
       "      <th></th>\n",
       "      <th>periodo</th>\n",
       "      <th>customer_id</th>\n",
       "      <th>product_id</th>\n",
       "      <th>plan_precios_cuidados</th>\n",
       "      <th>cust_request_qty</th>\n",
       "      <th>cust_request_tn</th>\n",
       "      <th>tn</th>\n",
       "    </tr>\n",
       "  </thead>\n",
       "  <tbody>\n",
       "    <tr>\n",
       "      <th>0</th>\n",
       "      <td>201701</td>\n",
       "      <td>10234</td>\n",
       "      <td>20524</td>\n",
       "      <td>0</td>\n",
       "      <td>2</td>\n",
       "      <td>0.05300</td>\n",
       "      <td>0.05300</td>\n",
       "    </tr>\n",
       "    <tr>\n",
       "      <th>1</th>\n",
       "      <td>201701</td>\n",
       "      <td>10032</td>\n",
       "      <td>20524</td>\n",
       "      <td>0</td>\n",
       "      <td>1</td>\n",
       "      <td>0.13628</td>\n",
       "      <td>0.13628</td>\n",
       "    </tr>\n",
       "    <tr>\n",
       "      <th>2</th>\n",
       "      <td>201701</td>\n",
       "      <td>10217</td>\n",
       "      <td>20524</td>\n",
       "      <td>0</td>\n",
       "      <td>1</td>\n",
       "      <td>0.03028</td>\n",
       "      <td>0.03028</td>\n",
       "    </tr>\n",
       "    <tr>\n",
       "      <th>3</th>\n",
       "      <td>201701</td>\n",
       "      <td>10125</td>\n",
       "      <td>20524</td>\n",
       "      <td>0</td>\n",
       "      <td>1</td>\n",
       "      <td>0.02271</td>\n",
       "      <td>0.02271</td>\n",
       "    </tr>\n",
       "    <tr>\n",
       "      <th>4</th>\n",
       "      <td>201701</td>\n",
       "      <td>10012</td>\n",
       "      <td>20524</td>\n",
       "      <td>0</td>\n",
       "      <td>11</td>\n",
       "      <td>1.54452</td>\n",
       "      <td>1.54452</td>\n",
       "    </tr>\n",
       "  </tbody>\n",
       "</table>\n",
       "</div>"
      ],
      "text/plain": [
       "   periodo  customer_id  product_id  plan_precios_cuidados  cust_request_qty  \\\n",
       "0   201701        10234       20524                      0                 2   \n",
       "1   201701        10032       20524                      0                 1   \n",
       "2   201701        10217       20524                      0                 1   \n",
       "3   201701        10125       20524                      0                 1   \n",
       "4   201701        10012       20524                      0                11   \n",
       "\n",
       "   cust_request_tn       tn  \n",
       "0          0.05300  0.05300  \n",
       "1          0.13628  0.13628  \n",
       "2          0.03028  0.03028  \n",
       "3          0.02271  0.02271  \n",
       "4          1.54452  1.54452  "
      ]
     },
     "execution_count": 2,
     "metadata": {},
     "output_type": "execute_result"
    }
   ],
   "source": [
    "# Cargar sell-in.txt (puede ser un archivo grande, leer solo columnas necesarias)\n",
    "sellin_cols = ['periodo', 'customer_id', 'product_id', 'plan_precios_cuidados', 'cust_request_qty', 'cust_request_tn', 'tn']\n",
    "df_sellin = pd.read_csv('sell-in.txt', sep='\\t', usecols=sellin_cols)\n",
    "df_sellin.head()"
   ]
  },
  {
   "cell_type": "code",
   "execution_count": 3,
   "metadata": {},
   "outputs": [
    {
     "data": {
      "text/plain": [
       "597"
      ]
     },
     "execution_count": 3,
     "metadata": {},
     "output_type": "execute_result"
    }
   ],
   "source": [
    "# Contar valores únicos de customer_id\n",
    "df_sellin['customer_id'].nunique()\n",
    "# Contar valores únicos de product_id\n",
    "#df_sellin['product_id'].nunique()\n",
    "# Contar valores únicos de periodo\n",
    "#df_sellin['periodo'].nunique()\n"
   ]
  },
  {
   "cell_type": "code",
   "execution_count": 4,
   "metadata": {},
   "outputs": [],
   "source": [
    "# Merge de ambos dataframes por product_id\n",
    "#df_merged = pd.merge(df_sellin, df_ids, on='product_id', how='inner')\n",
    "#df_merged.head()"
   ]
  },
  {
   "cell_type": "code",
   "execution_count": 5,
   "metadata": {},
   "outputs": [],
   "source": [
    "# Si 'periodo' es tipo string o int, conviértelo a datetime para mayor facilidad\n",
    "df_sellin['periodo'] = pd.to_datetime(df_sellin['periodo'], format='%Y%m')\n",
    "df_sellin= df_sellin.sort_values(['product_id', 'customer_id', 'periodo']).reset_index(drop=True)\n"
   ]
  },
  {
   "cell_type": "markdown",
   "metadata": {},
   "source": [
    "Hacer el producto cartesiano de producto-cliente-período y agregar 0s."
   ]
  },
  {
   "cell_type": "code",
   "execution_count": 6,
   "metadata": {},
   "outputs": [],
   "source": [
    "# 1. Listas de valores únicos\n",
    "product_ids = df_sellin['product_id'].unique()\n",
    "customer_ids = df_sellin['customer_id'].unique()\n",
    "periodos = pd.date_range(\n",
    "    start=df_sellin['periodo'].min(), \n",
    "    end=df_sellin['periodo'].max(), \n",
    "    freq='MS'  # Monthly start frequency\n",
    ")\n",
    "\n",
    "# 2. Producto cartesiano\n",
    "cartesian = pd.MultiIndex.from_product(\n",
    "    [product_ids, customer_ids, periodos], \n",
    "    names=['product_id', 'customer_id', 'periodo']\n",
    ").to_frame(index=False)"
   ]
  },
  {
   "cell_type": "code",
   "execution_count": 7,
   "metadata": {},
   "outputs": [],
   "source": [
    "# 3. Filtrar productos activos\n",
    "periodo_producto = df_sellin.groupby('product_id')['periodo'].agg(['min', 'max']).reset_index()\n",
    "periodo_producto.columns = ['product_id', 'periodo_min_producto', 'periodo_max_producto']\n",
    "\n",
    "# 4. Filtrar clientes activos\n",
    "periodo_customer = df_sellin.groupby('customer_id')['periodo'].agg(['min', 'max']).reset_index()\n",
    "periodo_customer.columns = ['customer_id', 'periodo_min_customer', 'periodo_max_customer']"
   ]
  },
  {
   "cell_type": "code",
   "execution_count": 8,
   "metadata": {},
   "outputs": [],
   "source": [
    "# 5. Merge para filtrar combinaciones válidas\n",
    "cartesian = cartesian.merge(periodo_producto, on='product_id', how='left')\n",
    "cartesian = cartesian.merge(periodo_customer, on='customer_id', how='left')\n",
    "\n",
    "# 6. Filtrar combinaciones donde el periodo esté dentro del rango activo\n",
    "cartesian = cartesian[\n",
    "    (cartesian['periodo'] >= cartesian['periodo_min_producto']) & \n",
    "    (cartesian['periodo'] <= cartesian['periodo_max_producto']) &\n",
    "    (cartesian['periodo'] >= cartesian['periodo_min_customer']) #&\n",
    "    #(cartesian['periodo'] <= cartesian['periodo_max_customer'])\n",
    "].copy()\n",
    "\n",
    "# 7. Merge con el dataset original\n",
    "df_final = cartesian.merge(\n",
    "    df_sellin, \n",
    "    on=['product_id', 'customer_id', 'periodo'], \n",
    "    how='left'\n",
    ")"
   ]
  },
  {
   "cell_type": "code",
   "execution_count": 9,
   "metadata": {},
   "outputs": [
    {
     "data": {
      "text/plain": [
       "(17173448, 11)"
      ]
     },
     "execution_count": 9,
     "metadata": {},
     "output_type": "execute_result"
    }
   ],
   "source": [
    "df_final.shape"
   ]
  },
  {
   "cell_type": "code",
   "execution_count": 10,
   "metadata": {},
   "outputs": [
    {
     "name": "stdout",
     "output_type": "stream",
     "text": [
      "   product_id  customer_id    periodo periodo_min_producto  \\\n",
      "0       20001        10001 2017-01-01           2017-01-01   \n",
      "1       20001        10001 2017-02-01           2017-01-01   \n",
      "2       20001        10001 2017-03-01           2017-01-01   \n",
      "3       20001        10001 2017-04-01           2017-01-01   \n",
      "4       20001        10001 2017-05-01           2017-01-01   \n",
      "\n",
      "  periodo_max_producto periodo_min_customer periodo_max_customer  \\\n",
      "0           2019-12-01           2017-01-01           2019-12-01   \n",
      "1           2019-12-01           2017-01-01           2019-12-01   \n",
      "2           2019-12-01           2017-01-01           2019-12-01   \n",
      "3           2019-12-01           2017-01-01           2019-12-01   \n",
      "4           2019-12-01           2017-01-01           2019-12-01   \n",
      "\n",
      "   plan_precios_cuidados  cust_request_qty  cust_request_tn         tn  \n",
      "0                    0.0              11.0         99.43861   99.43861  \n",
      "1                    0.0              23.0        198.84365  198.84365  \n",
      "2                    0.0              33.0         92.46537   92.46537  \n",
      "3                    0.0               8.0         13.29728   13.29728  \n",
      "4                    0.0              15.0        101.20711  101.00563  \n"
     ]
    }
   ],
   "source": [
    "# 8. Completar las ventas y cualquier otra variable faltante con 0\n",
    "df_final['tn'] = df_final['tn'].fillna(0)\n",
    "df_final['plan_precios_cuidados'] = df_final['plan_precios_cuidados'].fillna(0)\n",
    "df_final['cust_request_qty'] = df_final['cust_request_qty'].fillna(0)\n",
    "df_final['cust_request_tn'] = df_final['cust_request_tn'].fillna(0)\n",
    "# Podés extender esto a otras variables que consideres relevantes.\n",
    "\n",
    "# 9. Revisar el resultado\n",
    "print(df_final.head())"
   ]
  },
  {
   "cell_type": "markdown",
   "metadata": {},
   "source": [
    "Creación de variable target: tn_t_plus_2"
   ]
  },
  {
   "cell_type": "code",
   "execution_count": 11,
   "metadata": {},
   "outputs": [
    {
     "name": "stdout",
     "output_type": "stream",
     "text": [
      "    product_id  customer_id    periodo         tn  tn_t_plus_2\n",
      "0        20001        10001 2017-01-01   99.43861     92.46537\n",
      "1        20001        10001 2017-02-01  198.84365     13.29728\n",
      "2        20001        10001 2017-03-01   92.46537    101.00563\n",
      "3        20001        10001 2017-04-01   13.29728    128.04792\n",
      "4        20001        10001 2017-05-01  101.00563    101.20711\n",
      "5        20001        10001 2017-06-01  128.04792     43.33930\n",
      "6        20001        10001 2017-07-01  101.20711    289.35024\n",
      "7        20001        10001 2017-08-01   43.33930    222.11389\n",
      "8        20001        10001 2017-09-01  289.35024    111.54944\n",
      "9        20001        10001 2017-10-01  222.11389    131.27150\n",
      "10       20001        10001 2017-11-01  111.54944     49.61857\n",
      "11       20001        10001 2017-12-01  131.27150     88.44065\n",
      "12       20001        10001 2018-01-01   49.61857    214.72336\n",
      "13       20001        10001 2018-02-01   88.44065    132.83419\n",
      "14       20001        10001 2018-03-01  214.72336    165.73507\n",
      "15       20001        10001 2018-04-01  132.83419     92.29410\n",
      "16       20001        10001 2018-05-01  165.73507    256.05760\n",
      "17       20001        10001 2018-06-01   92.29410    139.24210\n",
      "18       20001        10001 2018-07-01  256.05760    358.57922\n",
      "19       20001        10001 2018-08-01  139.24210    245.21397\n"
     ]
    }
   ],
   "source": [
    "# Creamos la variable objetivo: tn en t+2 para cada combinación product_id y customer_id\n",
    "# df_merged['tn_t_plus_2']\n",
    "\n",
    "# Paso 1: Crear columna con periodo +2 meses\n",
    "df_final['periodo_target'] = df_final['periodo'] + pd.DateOffset(months=2)\n",
    "\n",
    "# Paso 2: Crear DataFrame con target\n",
    "target_df = df_final[['product_id', 'customer_id', 'periodo', 'tn']].copy()\n",
    "target_df.rename(columns={'periodo': 'periodo_target', 'tn': 'tn_t_plus_2'}, inplace=True)\n",
    "\n",
    "# Paso 3: Hacer el merge\n",
    "df_final = df_final.merge(\n",
    "    target_df,\n",
    "    on=['product_id', 'customer_id', 'periodo_target'],\n",
    "    how='left'\n",
    ")\n",
    "\n",
    "# Paso 4: Validar\n",
    "print(df_final[['product_id', 'customer_id', 'periodo', 'tn', 'tn_t_plus_2']].head(20))\n",
    "\n",
    "\n"
   ]
  },
  {
   "cell_type": "code",
   "execution_count": 12,
   "metadata": {},
   "outputs": [],
   "source": [
    "# Eliminamos filas donde no hay target (NaN)\n",
    "#df_model = df_merged.dropna(subset=['tn_t_plus_2'])"
   ]
  },
  {
   "cell_type": "code",
   "execution_count": 13,
   "metadata": {},
   "outputs": [
    {
     "data": {
      "text/html": [
       "<div>\n",
       "<style scoped>\n",
       "    .dataframe tbody tr th:only-of-type {\n",
       "        vertical-align: middle;\n",
       "    }\n",
       "\n",
       "    .dataframe tbody tr th {\n",
       "        vertical-align: top;\n",
       "    }\n",
       "\n",
       "    .dataframe thead th {\n",
       "        text-align: right;\n",
       "    }\n",
       "</style>\n",
       "<table border=\"1\" class=\"dataframe\">\n",
       "  <thead>\n",
       "    <tr style=\"text-align: right;\">\n",
       "      <th></th>\n",
       "      <th>product_id</th>\n",
       "      <th>customer_id</th>\n",
       "      <th>periodo</th>\n",
       "      <th>periodo_min_producto</th>\n",
       "      <th>periodo_max_producto</th>\n",
       "      <th>periodo_min_customer</th>\n",
       "      <th>periodo_max_customer</th>\n",
       "      <th>plan_precios_cuidados</th>\n",
       "      <th>cust_request_qty</th>\n",
       "      <th>cust_request_tn</th>\n",
       "      <th>tn</th>\n",
       "      <th>periodo_target</th>\n",
       "      <th>tn_t_plus_2</th>\n",
       "    </tr>\n",
       "  </thead>\n",
       "  <tbody>\n",
       "    <tr>\n",
       "      <th>8959408</th>\n",
       "      <td>20524</td>\n",
       "      <td>10125</td>\n",
       "      <td>2017-01-01</td>\n",
       "      <td>2017-01-01</td>\n",
       "      <td>2019-12-01</td>\n",
       "      <td>2017-01-01</td>\n",
       "      <td>2019-11-01</td>\n",
       "      <td>0.0</td>\n",
       "      <td>1.0</td>\n",
       "      <td>0.02271</td>\n",
       "      <td>0.02271</td>\n",
       "      <td>2017-03-01</td>\n",
       "      <td>0.00000</td>\n",
       "    </tr>\n",
       "    <tr>\n",
       "      <th>8959409</th>\n",
       "      <td>20524</td>\n",
       "      <td>10125</td>\n",
       "      <td>2017-02-01</td>\n",
       "      <td>2017-01-01</td>\n",
       "      <td>2019-12-01</td>\n",
       "      <td>2017-01-01</td>\n",
       "      <td>2019-11-01</td>\n",
       "      <td>0.0</td>\n",
       "      <td>0.0</td>\n",
       "      <td>0.00000</td>\n",
       "      <td>0.00000</td>\n",
       "      <td>2017-04-01</td>\n",
       "      <td>0.00757</td>\n",
       "    </tr>\n",
       "    <tr>\n",
       "      <th>8959410</th>\n",
       "      <td>20524</td>\n",
       "      <td>10125</td>\n",
       "      <td>2017-03-01</td>\n",
       "      <td>2017-01-01</td>\n",
       "      <td>2019-12-01</td>\n",
       "      <td>2017-01-01</td>\n",
       "      <td>2019-11-01</td>\n",
       "      <td>0.0</td>\n",
       "      <td>0.0</td>\n",
       "      <td>0.00000</td>\n",
       "      <td>0.00000</td>\n",
       "      <td>2017-05-01</td>\n",
       "      <td>0.00757</td>\n",
       "    </tr>\n",
       "    <tr>\n",
       "      <th>8959411</th>\n",
       "      <td>20524</td>\n",
       "      <td>10125</td>\n",
       "      <td>2017-04-01</td>\n",
       "      <td>2017-01-01</td>\n",
       "      <td>2019-12-01</td>\n",
       "      <td>2017-01-01</td>\n",
       "      <td>2019-11-01</td>\n",
       "      <td>0.0</td>\n",
       "      <td>1.0</td>\n",
       "      <td>0.00757</td>\n",
       "      <td>0.00757</td>\n",
       "      <td>2017-06-01</td>\n",
       "      <td>0.00000</td>\n",
       "    </tr>\n",
       "    <tr>\n",
       "      <th>8959412</th>\n",
       "      <td>20524</td>\n",
       "      <td>10125</td>\n",
       "      <td>2017-05-01</td>\n",
       "      <td>2017-01-01</td>\n",
       "      <td>2019-12-01</td>\n",
       "      <td>2017-01-01</td>\n",
       "      <td>2019-11-01</td>\n",
       "      <td>0.0</td>\n",
       "      <td>1.0</td>\n",
       "      <td>0.00757</td>\n",
       "      <td>0.00757</td>\n",
       "      <td>2017-07-01</td>\n",
       "      <td>0.00000</td>\n",
       "    </tr>\n",
       "    <tr>\n",
       "      <th>8959413</th>\n",
       "      <td>20524</td>\n",
       "      <td>10125</td>\n",
       "      <td>2017-06-01</td>\n",
       "      <td>2017-01-01</td>\n",
       "      <td>2019-12-01</td>\n",
       "      <td>2017-01-01</td>\n",
       "      <td>2019-11-01</td>\n",
       "      <td>0.0</td>\n",
       "      <td>0.0</td>\n",
       "      <td>0.00000</td>\n",
       "      <td>0.00000</td>\n",
       "      <td>2017-08-01</td>\n",
       "      <td>0.00000</td>\n",
       "    </tr>\n",
       "    <tr>\n",
       "      <th>8959414</th>\n",
       "      <td>20524</td>\n",
       "      <td>10125</td>\n",
       "      <td>2017-07-01</td>\n",
       "      <td>2017-01-01</td>\n",
       "      <td>2019-12-01</td>\n",
       "      <td>2017-01-01</td>\n",
       "      <td>2019-11-01</td>\n",
       "      <td>0.0</td>\n",
       "      <td>0.0</td>\n",
       "      <td>0.00000</td>\n",
       "      <td>0.00000</td>\n",
       "      <td>2017-09-01</td>\n",
       "      <td>0.00757</td>\n",
       "    </tr>\n",
       "    <tr>\n",
       "      <th>8959415</th>\n",
       "      <td>20524</td>\n",
       "      <td>10125</td>\n",
       "      <td>2017-08-01</td>\n",
       "      <td>2017-01-01</td>\n",
       "      <td>2019-12-01</td>\n",
       "      <td>2017-01-01</td>\n",
       "      <td>2019-11-01</td>\n",
       "      <td>0.0</td>\n",
       "      <td>0.0</td>\n",
       "      <td>0.00000</td>\n",
       "      <td>0.00000</td>\n",
       "      <td>2017-10-01</td>\n",
       "      <td>0.00757</td>\n",
       "    </tr>\n",
       "    <tr>\n",
       "      <th>8959416</th>\n",
       "      <td>20524</td>\n",
       "      <td>10125</td>\n",
       "      <td>2017-09-01</td>\n",
       "      <td>2017-01-01</td>\n",
       "      <td>2019-12-01</td>\n",
       "      <td>2017-01-01</td>\n",
       "      <td>2019-11-01</td>\n",
       "      <td>0.0</td>\n",
       "      <td>1.0</td>\n",
       "      <td>0.00757</td>\n",
       "      <td>0.00757</td>\n",
       "      <td>2017-11-01</td>\n",
       "      <td>0.00000</td>\n",
       "    </tr>\n",
       "    <tr>\n",
       "      <th>8959417</th>\n",
       "      <td>20524</td>\n",
       "      <td>10125</td>\n",
       "      <td>2017-10-01</td>\n",
       "      <td>2017-01-01</td>\n",
       "      <td>2019-12-01</td>\n",
       "      <td>2017-01-01</td>\n",
       "      <td>2019-11-01</td>\n",
       "      <td>0.0</td>\n",
       "      <td>1.0</td>\n",
       "      <td>0.00757</td>\n",
       "      <td>0.00757</td>\n",
       "      <td>2017-12-01</td>\n",
       "      <td>0.00000</td>\n",
       "    </tr>\n",
       "  </tbody>\n",
       "</table>\n",
       "</div>"
      ],
      "text/plain": [
       "         product_id  customer_id    periodo periodo_min_producto  \\\n",
       "8959408       20524        10125 2017-01-01           2017-01-01   \n",
       "8959409       20524        10125 2017-02-01           2017-01-01   \n",
       "8959410       20524        10125 2017-03-01           2017-01-01   \n",
       "8959411       20524        10125 2017-04-01           2017-01-01   \n",
       "8959412       20524        10125 2017-05-01           2017-01-01   \n",
       "8959413       20524        10125 2017-06-01           2017-01-01   \n",
       "8959414       20524        10125 2017-07-01           2017-01-01   \n",
       "8959415       20524        10125 2017-08-01           2017-01-01   \n",
       "8959416       20524        10125 2017-09-01           2017-01-01   \n",
       "8959417       20524        10125 2017-10-01           2017-01-01   \n",
       "\n",
       "        periodo_max_producto periodo_min_customer periodo_max_customer  \\\n",
       "8959408           2019-12-01           2017-01-01           2019-11-01   \n",
       "8959409           2019-12-01           2017-01-01           2019-11-01   \n",
       "8959410           2019-12-01           2017-01-01           2019-11-01   \n",
       "8959411           2019-12-01           2017-01-01           2019-11-01   \n",
       "8959412           2019-12-01           2017-01-01           2019-11-01   \n",
       "8959413           2019-12-01           2017-01-01           2019-11-01   \n",
       "8959414           2019-12-01           2017-01-01           2019-11-01   \n",
       "8959415           2019-12-01           2017-01-01           2019-11-01   \n",
       "8959416           2019-12-01           2017-01-01           2019-11-01   \n",
       "8959417           2019-12-01           2017-01-01           2019-11-01   \n",
       "\n",
       "         plan_precios_cuidados  cust_request_qty  cust_request_tn       tn  \\\n",
       "8959408                    0.0               1.0          0.02271  0.02271   \n",
       "8959409                    0.0               0.0          0.00000  0.00000   \n",
       "8959410                    0.0               0.0          0.00000  0.00000   \n",
       "8959411                    0.0               1.0          0.00757  0.00757   \n",
       "8959412                    0.0               1.0          0.00757  0.00757   \n",
       "8959413                    0.0               0.0          0.00000  0.00000   \n",
       "8959414                    0.0               0.0          0.00000  0.00000   \n",
       "8959415                    0.0               0.0          0.00000  0.00000   \n",
       "8959416                    0.0               1.0          0.00757  0.00757   \n",
       "8959417                    0.0               1.0          0.00757  0.00757   \n",
       "\n",
       "        periodo_target  tn_t_plus_2  \n",
       "8959408     2017-03-01      0.00000  \n",
       "8959409     2017-04-01      0.00757  \n",
       "8959410     2017-05-01      0.00757  \n",
       "8959411     2017-06-01      0.00000  \n",
       "8959412     2017-07-01      0.00000  \n",
       "8959413     2017-08-01      0.00000  \n",
       "8959414     2017-09-01      0.00757  \n",
       "8959415     2017-10-01      0.00757  \n",
       "8959416     2017-11-01      0.00000  \n",
       "8959417     2017-12-01      0.00000  "
      ]
     },
     "execution_count": 13,
     "metadata": {},
     "output_type": "execute_result"
    }
   ],
   "source": [
    "# Probar combinaciones de producto - cliente\n",
    "df_final[(df_final['product_id'] == 20524) & (df_final['customer_id'] == 10125)].head(10)"
   ]
  },
  {
   "cell_type": "markdown",
   "metadata": {},
   "source": [
    "Feature engeneering"
   ]
  },
  {
   "cell_type": "code",
   "execution_count": 14,
   "metadata": {},
   "outputs": [
    {
     "data": {
      "text/html": [
       "<div>\n",
       "<style scoped>\n",
       "    .dataframe tbody tr th:only-of-type {\n",
       "        vertical-align: middle;\n",
       "    }\n",
       "\n",
       "    .dataframe tbody tr th {\n",
       "        vertical-align: top;\n",
       "    }\n",
       "\n",
       "    .dataframe thead th {\n",
       "        text-align: right;\n",
       "    }\n",
       "</style>\n",
       "<table border=\"1\" class=\"dataframe\">\n",
       "  <thead>\n",
       "    <tr style=\"text-align: right;\">\n",
       "      <th></th>\n",
       "      <th>product_id</th>\n",
       "      <th>customer_id</th>\n",
       "      <th>periodo</th>\n",
       "      <th>plan_precios_cuidados</th>\n",
       "      <th>cust_request_qty</th>\n",
       "      <th>cust_request_tn</th>\n",
       "      <th>tn</th>\n",
       "      <th>tn_t_plus_2</th>\n",
       "    </tr>\n",
       "  </thead>\n",
       "  <tbody>\n",
       "    <tr>\n",
       "      <th>0</th>\n",
       "      <td>20001</td>\n",
       "      <td>10001</td>\n",
       "      <td>2017-01-01</td>\n",
       "      <td>0.0</td>\n",
       "      <td>11.0</td>\n",
       "      <td>99.43861</td>\n",
       "      <td>99.43861</td>\n",
       "      <td>92.46537</td>\n",
       "    </tr>\n",
       "    <tr>\n",
       "      <th>1</th>\n",
       "      <td>20001</td>\n",
       "      <td>10001</td>\n",
       "      <td>2017-02-01</td>\n",
       "      <td>0.0</td>\n",
       "      <td>23.0</td>\n",
       "      <td>198.84365</td>\n",
       "      <td>198.84365</td>\n",
       "      <td>13.29728</td>\n",
       "    </tr>\n",
       "    <tr>\n",
       "      <th>2</th>\n",
       "      <td>20001</td>\n",
       "      <td>10001</td>\n",
       "      <td>2017-03-01</td>\n",
       "      <td>0.0</td>\n",
       "      <td>33.0</td>\n",
       "      <td>92.46537</td>\n",
       "      <td>92.46537</td>\n",
       "      <td>101.00563</td>\n",
       "    </tr>\n",
       "    <tr>\n",
       "      <th>3</th>\n",
       "      <td>20001</td>\n",
       "      <td>10001</td>\n",
       "      <td>2017-04-01</td>\n",
       "      <td>0.0</td>\n",
       "      <td>8.0</td>\n",
       "      <td>13.29728</td>\n",
       "      <td>13.29728</td>\n",
       "      <td>128.04792</td>\n",
       "    </tr>\n",
       "    <tr>\n",
       "      <th>4</th>\n",
       "      <td>20001</td>\n",
       "      <td>10001</td>\n",
       "      <td>2017-05-01</td>\n",
       "      <td>0.0</td>\n",
       "      <td>15.0</td>\n",
       "      <td>101.20711</td>\n",
       "      <td>101.00563</td>\n",
       "      <td>101.20711</td>\n",
       "    </tr>\n",
       "  </tbody>\n",
       "</table>\n",
       "</div>"
      ],
      "text/plain": [
       "   product_id  customer_id    periodo  plan_precios_cuidados  \\\n",
       "0       20001        10001 2017-01-01                    0.0   \n",
       "1       20001        10001 2017-02-01                    0.0   \n",
       "2       20001        10001 2017-03-01                    0.0   \n",
       "3       20001        10001 2017-04-01                    0.0   \n",
       "4       20001        10001 2017-05-01                    0.0   \n",
       "\n",
       "   cust_request_qty  cust_request_tn         tn  tn_t_plus_2  \n",
       "0              11.0         99.43861   99.43861     92.46537  \n",
       "1              23.0        198.84365  198.84365     13.29728  \n",
       "2              33.0         92.46537   92.46537    101.00563  \n",
       "3               8.0         13.29728   13.29728    128.04792  \n",
       "4              15.0        101.20711  101.00563    101.20711  "
      ]
     },
     "execution_count": 14,
     "metadata": {},
     "output_type": "execute_result"
    }
   ],
   "source": [
    "df_full = df_final.copy()\n",
    "\n",
    "# Elimino columnas innecesarias\n",
    "df_full.drop(columns=['periodo_min_producto', 'periodo_max_producto', 'periodo_min_customer', 'periodo_max_customer', 'periodo_target'], inplace=True)\n",
    "df_full.head()"
   ]
  },
  {
   "cell_type": "code",
   "execution_count": 15,
   "metadata": {},
   "outputs": [
    {
     "data": {
      "text/plain": [
       "(17173448, 8)"
      ]
     },
     "execution_count": 15,
     "metadata": {},
     "output_type": "execute_result"
    }
   ],
   "source": [
    "df_full.shape"
   ]
  },
  {
   "cell_type": "markdown",
   "metadata": {},
   "source": [
    "1. Lags (valores previos)\n"
   ]
  },
  {
   "cell_type": "code",
   "execution_count": 16,
   "metadata": {},
   "outputs": [],
   "source": [
    "for lag in range(1, 37):\n",
    "    df_full[f'tn_lag_{lag}'] = df_full.groupby(['product_id', 'customer_id'])['tn'].shift(lag)"
   ]
  },
  {
   "cell_type": "markdown",
   "metadata": {},
   "source": [
    "2. Rolling Mean (media móvil)\n",
    "media de los últimos 3, 6, 9 y 12 meses:"
   ]
  },
  {
   "cell_type": "code",
   "execution_count": 17,
   "metadata": {},
   "outputs": [],
   "source": [
    "for window in [3, 6, 9, 12, 15, 18, 21, 24]:  #15, 18, 21, 24\n",
    "    df_full[f'tn_rollmean_{window}'] = (\n",
    "        df_full.groupby(['product_id', 'customer_id'])['tn']\n",
    "        .transform(lambda x: x.rolling(window, min_periods=1).mean())\n",
    "    )"
   ]
  },
  {
   "cell_type": "markdown",
   "metadata": {},
   "source": [
    "3. Rolling Sum (suma móvil)\n",
    "la suma de los últimos 3 meses:"
   ]
  },
  {
   "cell_type": "code",
   "execution_count": 18,
   "metadata": {},
   "outputs": [],
   "source": [
    "df_full['tn_rollsum_3'] = (\n",
    "    df_full.groupby(['product_id', 'customer_id'])['tn']\n",
    "    .transform(lambda x: x.rolling(3, min_periods=1).sum())\n",
    ")"
   ]
  },
  {
   "cell_type": "markdown",
   "metadata": {},
   "source": [
    "4. Promedio histórico por producto y cliente\n",
    "Capturar el comportamiento típico de cada combinación:"
   ]
  },
  {
   "cell_type": "code",
   "execution_count": 19,
   "metadata": {},
   "outputs": [],
   "source": [
    "# Promedio histórico de tn por product_id y customer_id hasta el periodo actual (excluyendo el actual)\n",
    "df_full['tn_mean_hist'] = (\n",
    "    df_full.groupby(['product_id', 'customer_id'])['tn']\n",
    "    .transform(lambda x: x.expanding().mean().shift(1))\n",
    ")"
   ]
  },
  {
   "cell_type": "markdown",
   "metadata": {},
   "source": [
    "5. Lag y rolling para otras variables\n",
    "Repetir la lógica para otras columnas como cust_request_qty y cust_request_tn:"
   ]
  },
  {
   "cell_type": "code",
   "execution_count": 20,
   "metadata": {},
   "outputs": [],
   "source": [
    "for col in ['cust_request_qty', 'cust_request_tn']:\n",
    "    for lag in [1, 2, 3]:\n",
    "        df_full[f'{col}_lag_{lag}'] = df_full.groupby(['product_id', 'customer_id'])[col].shift(lag)\n",
    "    \n",
    "    for window in [3, 6, 12]:\n",
    "        df_full[f'{col}_rollmean_{window}'] = (\n",
    "            df_full.groupby(['product_id', 'customer_id'])[col]\n",
    "            .transform(lambda x: x.rolling(window, min_periods=1).mean())\n",
    "        )"
   ]
  },
  {
   "cell_type": "markdown",
   "metadata": {},
   "source": [
    "6. Diferencias respecto a valores pasados"
   ]
  },
  {
   "cell_type": "code",
   "execution_count": 21,
   "metadata": {},
   "outputs": [],
   "source": [
    "for lag in [1, 2, 3, 6]:\n",
    "    df_full[f'tn_diff_lag_{lag}'] = (\n",
    "        df_full.groupby(['product_id', 'customer_id'])['tn']\n",
    "        .transform(lambda x: x - x.shift(lag))\n",
    "    )\n"
   ]
  },
  {
   "cell_type": "markdown",
   "metadata": {},
   "source": [
    "7. Diferencias respecto a rolling mean"
   ]
  },
  {
   "cell_type": "code",
   "execution_count": 22,
   "metadata": {},
   "outputs": [],
   "source": [
    "for window in [3, 6, 9, 12]:\n",
    "    rm_col = f'tn_rollmean_{window}'\n",
    "    df_full[f'tn_diff_rm_{window}'] = df_full['tn'] - df_full[rm_col]\n"
   ]
  },
  {
   "cell_type": "markdown",
   "metadata": {},
   "source": [
    "8. Ratios respecto a rolling mean"
   ]
  },
  {
   "cell_type": "code",
   "execution_count": 23,
   "metadata": {},
   "outputs": [],
   "source": [
    "for window in [3, 6, 9, 12]:\n",
    "    rm_col = f'tn_rollmean_{window}'\n",
    "    df_full[f'tn_ratio_rm_{window}'] = df_full['tn'] / (df_full[rm_col] + 0.1)  # evita división por cero\n"
   ]
  },
  {
   "cell_type": "markdown",
   "metadata": {},
   "source": [
    "9. Indicadores binarios"
   ]
  },
  {
   "cell_type": "code",
   "execution_count": 24,
   "metadata": {},
   "outputs": [],
   "source": [
    "df_full['tn_is_increasing'] = (\n",
    "    df_full.groupby(['product_id', 'customer_id'])['tn']\n",
    "    .transform(lambda x: (x > x.shift(1)).astype(int))\n",
    ")\n",
    "\n",
    "for window in [3, 6]:\n",
    "    rm_col = f'tn_rollmean_{window}'\n",
    "    df_full[f'tn_above_rm_{window}'] = (df_full['tn'] > df_full[rm_col]).astype(int)\n"
   ]
  },
  {
   "cell_type": "markdown",
   "metadata": {},
   "source": [
    "10. Volatilidad local (qué tan variable es el valor en una ventana)"
   ]
  },
  {
   "cell_type": "code",
   "execution_count": 25,
   "metadata": {},
   "outputs": [],
   "source": [
    "for window in [3, 6, 12]:\n",
    "    df_full[f'tn_volatility_{window}'] = (\n",
    "        df_full.groupby(['product_id', 'customer_id'])['tn']\n",
    "        .transform(lambda x: x.rolling(window).std())\n",
    "    )"
   ]
  },
  {
   "cell_type": "markdown",
   "metadata": {},
   "source": [
    "11. Ratio contra t-1 o rolling anterior (más versiones)"
   ]
  },
  {
   "cell_type": "code",
   "execution_count": 26,
   "metadata": {},
   "outputs": [],
   "source": [
    "for lag in [1, 2, 3]:\n",
    "    df_full[f'tn_ratio_lag_{lag}'] = df_full['tn'] / (df_full.groupby(['product_id', 'customer_id'])['tn'].shift(lag) + 0.1)\n"
   ]
  },
  {
   "cell_type": "markdown",
   "metadata": {},
   "source": [
    "12. Contadores de inactividad o explosión (períodos que pasaron sin ventas / períodos con crecimiento fuerte)"
   ]
  },
  {
   "cell_type": "code",
   "execution_count": 27,
   "metadata": {},
   "outputs": [],
   "source": [
    "df_full['tn_zero'] = (df_full['tn'] == 0).astype(int)\n",
    "\n",
    "for window in [3, 6, 12]:\n",
    "    df_full[f'tn_zero_count_{window}'] = (\n",
    "        df_full.groupby(['product_id', 'customer_id'])['tn_zero']\n",
    "        .transform(lambda x: x.rolling(window, min_periods=1).sum())\n",
    "    )\n",
    "\n"
   ]
  },
  {
   "cell_type": "markdown",
   "metadata": {},
   "source": [
    "13. Features categóricos de comportamiento (Agrupar por cuartiles)"
   ]
  },
  {
   "cell_type": "code",
   "execution_count": 29,
   "metadata": {},
   "outputs": [],
   "source": [
    "import numpy as np\n",
    "\n",
    "df_full['tn_quantile'] = (\n",
    "    df_full.groupby(['product_id', 'customer_id'])['tn']\n",
    "    .transform(lambda x: pd.qcut(\n",
    "        x.rank(method='first') if x.nunique() >= 4 else pd.Series([np.nan]*len(x), index=x.index),\n",
    "        4,\n",
    "        labels=False,\n",
    "        duplicates='drop'\n",
    "    ))\n",
    ")\n"
   ]
  },
  {
   "cell_type": "markdown",
   "metadata": {},
   "source": [
    "14. Features temporales (mes, estacionalidad)"
   ]
  },
  {
   "cell_type": "code",
   "execution_count": 30,
   "metadata": {},
   "outputs": [],
   "source": [
    "import numpy as np\n",
    "\n",
    "df_full['month'] = df_full['periodo'].dt.month\n",
    "df_full['quarter'] = df_full['periodo'].dt.quarter\n",
    "df_full['year'] = df_full['periodo'].dt.year\n",
    "df_full['month_sin'] = np.sin(2 * np.pi * df_full['month'] / 12)\n",
    "df_full['month_cos'] = np.cos(2 * np.pi * df_full['month'] / 12)\n"
   ]
  },
  {
   "cell_type": "code",
   "execution_count": 31,
   "metadata": {},
   "outputs": [
    {
     "data": {
      "text/html": [
       "<div>\n",
       "<style scoped>\n",
       "    .dataframe tbody tr th:only-of-type {\n",
       "        vertical-align: middle;\n",
       "    }\n",
       "\n",
       "    .dataframe tbody tr th {\n",
       "        vertical-align: top;\n",
       "    }\n",
       "\n",
       "    .dataframe thead th {\n",
       "        text-align: right;\n",
       "    }\n",
       "</style>\n",
       "<table border=\"1\" class=\"dataframe\">\n",
       "  <thead>\n",
       "    <tr style=\"text-align: right;\">\n",
       "      <th></th>\n",
       "      <th>product_id</th>\n",
       "      <th>customer_id</th>\n",
       "      <th>periodo</th>\n",
       "      <th>plan_precios_cuidados</th>\n",
       "      <th>cust_request_qty</th>\n",
       "      <th>cust_request_tn</th>\n",
       "      <th>tn</th>\n",
       "      <th>tn_t_plus_2</th>\n",
       "      <th>tn_lag_1</th>\n",
       "      <th>tn_lag_2</th>\n",
       "      <th>...</th>\n",
       "      <th>tn_zero</th>\n",
       "      <th>tn_zero_count_3</th>\n",
       "      <th>tn_zero_count_6</th>\n",
       "      <th>tn_zero_count_12</th>\n",
       "      <th>tn_quantile</th>\n",
       "      <th>month</th>\n",
       "      <th>quarter</th>\n",
       "      <th>year</th>\n",
       "      <th>month_sin</th>\n",
       "      <th>month_cos</th>\n",
       "    </tr>\n",
       "  </thead>\n",
       "  <tbody>\n",
       "    <tr>\n",
       "      <th>0</th>\n",
       "      <td>20001</td>\n",
       "      <td>10001</td>\n",
       "      <td>2017-01-01</td>\n",
       "      <td>0.0</td>\n",
       "      <td>11.0</td>\n",
       "      <td>99.43861</td>\n",
       "      <td>99.43861</td>\n",
       "      <td>92.46537</td>\n",
       "      <td>NaN</td>\n",
       "      <td>NaN</td>\n",
       "      <td>...</td>\n",
       "      <td>0</td>\n",
       "      <td>0.0</td>\n",
       "      <td>0.0</td>\n",
       "      <td>0.0</td>\n",
       "      <td>0.0</td>\n",
       "      <td>1</td>\n",
       "      <td>1</td>\n",
       "      <td>2017</td>\n",
       "      <td>0.500000</td>\n",
       "      <td>8.660254e-01</td>\n",
       "    </tr>\n",
       "    <tr>\n",
       "      <th>1</th>\n",
       "      <td>20001</td>\n",
       "      <td>10001</td>\n",
       "      <td>2017-02-01</td>\n",
       "      <td>0.0</td>\n",
       "      <td>23.0</td>\n",
       "      <td>198.84365</td>\n",
       "      <td>198.84365</td>\n",
       "      <td>13.29728</td>\n",
       "      <td>99.43861</td>\n",
       "      <td>NaN</td>\n",
       "      <td>...</td>\n",
       "      <td>0</td>\n",
       "      <td>0.0</td>\n",
       "      <td>0.0</td>\n",
       "      <td>0.0</td>\n",
       "      <td>2.0</td>\n",
       "      <td>2</td>\n",
       "      <td>1</td>\n",
       "      <td>2017</td>\n",
       "      <td>0.866025</td>\n",
       "      <td>5.000000e-01</td>\n",
       "    </tr>\n",
       "    <tr>\n",
       "      <th>2</th>\n",
       "      <td>20001</td>\n",
       "      <td>10001</td>\n",
       "      <td>2017-03-01</td>\n",
       "      <td>0.0</td>\n",
       "      <td>33.0</td>\n",
       "      <td>92.46537</td>\n",
       "      <td>92.46537</td>\n",
       "      <td>101.00563</td>\n",
       "      <td>198.84365</td>\n",
       "      <td>99.43861</td>\n",
       "      <td>...</td>\n",
       "      <td>0</td>\n",
       "      <td>0.0</td>\n",
       "      <td>0.0</td>\n",
       "      <td>0.0</td>\n",
       "      <td>0.0</td>\n",
       "      <td>3</td>\n",
       "      <td>1</td>\n",
       "      <td>2017</td>\n",
       "      <td>1.000000</td>\n",
       "      <td>6.123234e-17</td>\n",
       "    </tr>\n",
       "    <tr>\n",
       "      <th>3</th>\n",
       "      <td>20001</td>\n",
       "      <td>10001</td>\n",
       "      <td>2017-04-01</td>\n",
       "      <td>0.0</td>\n",
       "      <td>8.0</td>\n",
       "      <td>13.29728</td>\n",
       "      <td>13.29728</td>\n",
       "      <td>128.04792</td>\n",
       "      <td>92.46537</td>\n",
       "      <td>198.84365</td>\n",
       "      <td>...</td>\n",
       "      <td>0</td>\n",
       "      <td>0.0</td>\n",
       "      <td>0.0</td>\n",
       "      <td>0.0</td>\n",
       "      <td>0.0</td>\n",
       "      <td>4</td>\n",
       "      <td>2</td>\n",
       "      <td>2017</td>\n",
       "      <td>0.866025</td>\n",
       "      <td>-5.000000e-01</td>\n",
       "    </tr>\n",
       "    <tr>\n",
       "      <th>4</th>\n",
       "      <td>20001</td>\n",
       "      <td>10001</td>\n",
       "      <td>2017-05-01</td>\n",
       "      <td>0.0</td>\n",
       "      <td>15.0</td>\n",
       "      <td>101.20711</td>\n",
       "      <td>101.00563</td>\n",
       "      <td>101.20711</td>\n",
       "      <td>13.29728</td>\n",
       "      <td>92.46537</td>\n",
       "      <td>...</td>\n",
       "      <td>0</td>\n",
       "      <td>0.0</td>\n",
       "      <td>0.0</td>\n",
       "      <td>0.0</td>\n",
       "      <td>1.0</td>\n",
       "      <td>5</td>\n",
       "      <td>2</td>\n",
       "      <td>2017</td>\n",
       "      <td>0.500000</td>\n",
       "      <td>-8.660254e-01</td>\n",
       "    </tr>\n",
       "  </tbody>\n",
       "</table>\n",
       "<p>5 rows × 97 columns</p>\n",
       "</div>"
      ],
      "text/plain": [
       "   product_id  customer_id    periodo  plan_precios_cuidados  \\\n",
       "0       20001        10001 2017-01-01                    0.0   \n",
       "1       20001        10001 2017-02-01                    0.0   \n",
       "2       20001        10001 2017-03-01                    0.0   \n",
       "3       20001        10001 2017-04-01                    0.0   \n",
       "4       20001        10001 2017-05-01                    0.0   \n",
       "\n",
       "   cust_request_qty  cust_request_tn         tn  tn_t_plus_2   tn_lag_1  \\\n",
       "0              11.0         99.43861   99.43861     92.46537        NaN   \n",
       "1              23.0        198.84365  198.84365     13.29728   99.43861   \n",
       "2              33.0         92.46537   92.46537    101.00563  198.84365   \n",
       "3               8.0         13.29728   13.29728    128.04792   92.46537   \n",
       "4              15.0        101.20711  101.00563    101.20711   13.29728   \n",
       "\n",
       "    tn_lag_2  ...  tn_zero  tn_zero_count_3  tn_zero_count_6  \\\n",
       "0        NaN  ...        0              0.0              0.0   \n",
       "1        NaN  ...        0              0.0              0.0   \n",
       "2   99.43861  ...        0              0.0              0.0   \n",
       "3  198.84365  ...        0              0.0              0.0   \n",
       "4   92.46537  ...        0              0.0              0.0   \n",
       "\n",
       "   tn_zero_count_12  tn_quantile  month  quarter  year  month_sin  \\\n",
       "0               0.0          0.0      1        1  2017   0.500000   \n",
       "1               0.0          2.0      2        1  2017   0.866025   \n",
       "2               0.0          0.0      3        1  2017   1.000000   \n",
       "3               0.0          0.0      4        2  2017   0.866025   \n",
       "4               0.0          1.0      5        2  2017   0.500000   \n",
       "\n",
       "      month_cos  \n",
       "0  8.660254e-01  \n",
       "1  5.000000e-01  \n",
       "2  6.123234e-17  \n",
       "3 -5.000000e-01  \n",
       "4 -8.660254e-01  \n",
       "\n",
       "[5 rows x 97 columns]"
      ]
     },
     "execution_count": 31,
     "metadata": {},
     "output_type": "execute_result"
    }
   ],
   "source": [
    "# Probar combinaciones de producto - cliente\n",
    "#df_full[(df_full['product_id'] == 20524) & (df_final['customer_id'] == 10125)].head(10)\n",
    "df_full.head()"
   ]
  },
  {
   "cell_type": "code",
   "execution_count": 49,
   "metadata": {},
   "outputs": [],
   "source": [
    "# Guardar el DataFrame final\n",
    "df_full.to_parquet(\"df_full.parquet\")"
   ]
  },
  {
   "cell_type": "markdown",
   "metadata": {},
   "source": [
    "---"
   ]
  }
 ],
 "metadata": {
  "kernelspec": {
   "display_name": ".venv",
   "language": "python",
   "name": "python3"
  },
  "language_info": {
   "codemirror_mode": {
    "name": "ipython",
    "version": 3
   },
   "file_extension": ".py",
   "mimetype": "text/x-python",
   "name": "python",
   "nbconvert_exporter": "python",
   "pygments_lexer": "ipython3",
   "version": "3.10.11"
  }
 },
 "nbformat": 4,
 "nbformat_minor": 2
}
