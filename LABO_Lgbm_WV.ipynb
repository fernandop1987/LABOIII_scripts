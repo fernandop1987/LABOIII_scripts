{
 "cells": [
  {
   "cell_type": "code",
   "execution_count": 1,
   "metadata": {},
   "outputs": [
    {
     "data": {
      "text/html": [
       "<div>\n",
       "<style scoped>\n",
       "    .dataframe tbody tr th:only-of-type {\n",
       "        vertical-align: middle;\n",
       "    }\n",
       "\n",
       "    .dataframe tbody tr th {\n",
       "        vertical-align: top;\n",
       "    }\n",
       "\n",
       "    .dataframe thead th {\n",
       "        text-align: right;\n",
       "    }\n",
       "</style>\n",
       "<table border=\"1\" class=\"dataframe\">\n",
       "  <thead>\n",
       "    <tr style=\"text-align: right;\">\n",
       "      <th></th>\n",
       "      <th>product_id</th>\n",
       "    </tr>\n",
       "  </thead>\n",
       "  <tbody>\n",
       "    <tr>\n",
       "      <th>0</th>\n",
       "      <td>20001</td>\n",
       "    </tr>\n",
       "    <tr>\n",
       "      <th>1</th>\n",
       "      <td>20002</td>\n",
       "    </tr>\n",
       "    <tr>\n",
       "      <th>2</th>\n",
       "      <td>20003</td>\n",
       "    </tr>\n",
       "    <tr>\n",
       "      <th>3</th>\n",
       "      <td>20004</td>\n",
       "    </tr>\n",
       "    <tr>\n",
       "      <th>4</th>\n",
       "      <td>20005</td>\n",
       "    </tr>\n",
       "  </tbody>\n",
       "</table>\n",
       "</div>"
      ],
      "text/plain": [
       "   product_id\n",
       "0       20001\n",
       "1       20002\n",
       "2       20003\n",
       "3       20004\n",
       "4       20005"
      ]
     },
     "execution_count": 1,
     "metadata": {},
     "output_type": "execute_result"
    }
   ],
   "source": [
    "import pandas as pd\n",
    "\n",
    "# Cargar product_id_apredecir201912.txt\n",
    "df_ids = pd.read_csv('product_id_apredecir201912.txt')\n",
    "df_ids.head()"
   ]
  },
  {
   "cell_type": "code",
   "execution_count": 2,
   "metadata": {},
   "outputs": [
    {
     "data": {
      "text/html": [
       "<div>\n",
       "<style scoped>\n",
       "    .dataframe tbody tr th:only-of-type {\n",
       "        vertical-align: middle;\n",
       "    }\n",
       "\n",
       "    .dataframe tbody tr th {\n",
       "        vertical-align: top;\n",
       "    }\n",
       "\n",
       "    .dataframe thead th {\n",
       "        text-align: right;\n",
       "    }\n",
       "</style>\n",
       "<table border=\"1\" class=\"dataframe\">\n",
       "  <thead>\n",
       "    <tr style=\"text-align: right;\">\n",
       "      <th></th>\n",
       "      <th>periodo</th>\n",
       "      <th>customer_id</th>\n",
       "      <th>product_id</th>\n",
       "      <th>plan_precios_cuidados</th>\n",
       "      <th>cust_request_qty</th>\n",
       "      <th>cust_request_tn</th>\n",
       "      <th>tn</th>\n",
       "    </tr>\n",
       "  </thead>\n",
       "  <tbody>\n",
       "    <tr>\n",
       "      <th>0</th>\n",
       "      <td>201701</td>\n",
       "      <td>10234</td>\n",
       "      <td>20524</td>\n",
       "      <td>0</td>\n",
       "      <td>2</td>\n",
       "      <td>0.05300</td>\n",
       "      <td>0.05300</td>\n",
       "    </tr>\n",
       "    <tr>\n",
       "      <th>1</th>\n",
       "      <td>201701</td>\n",
       "      <td>10032</td>\n",
       "      <td>20524</td>\n",
       "      <td>0</td>\n",
       "      <td>1</td>\n",
       "      <td>0.13628</td>\n",
       "      <td>0.13628</td>\n",
       "    </tr>\n",
       "    <tr>\n",
       "      <th>2</th>\n",
       "      <td>201701</td>\n",
       "      <td>10217</td>\n",
       "      <td>20524</td>\n",
       "      <td>0</td>\n",
       "      <td>1</td>\n",
       "      <td>0.03028</td>\n",
       "      <td>0.03028</td>\n",
       "    </tr>\n",
       "    <tr>\n",
       "      <th>3</th>\n",
       "      <td>201701</td>\n",
       "      <td>10125</td>\n",
       "      <td>20524</td>\n",
       "      <td>0</td>\n",
       "      <td>1</td>\n",
       "      <td>0.02271</td>\n",
       "      <td>0.02271</td>\n",
       "    </tr>\n",
       "    <tr>\n",
       "      <th>4</th>\n",
       "      <td>201701</td>\n",
       "      <td>10012</td>\n",
       "      <td>20524</td>\n",
       "      <td>0</td>\n",
       "      <td>11</td>\n",
       "      <td>1.54452</td>\n",
       "      <td>1.54452</td>\n",
       "    </tr>\n",
       "  </tbody>\n",
       "</table>\n",
       "</div>"
      ],
      "text/plain": [
       "   periodo  customer_id  product_id  plan_precios_cuidados  cust_request_qty  \\\n",
       "0   201701        10234       20524                      0                 2   \n",
       "1   201701        10032       20524                      0                 1   \n",
       "2   201701        10217       20524                      0                 1   \n",
       "3   201701        10125       20524                      0                 1   \n",
       "4   201701        10012       20524                      0                11   \n",
       "\n",
       "   cust_request_tn       tn  \n",
       "0          0.05300  0.05300  \n",
       "1          0.13628  0.13628  \n",
       "2          0.03028  0.03028  \n",
       "3          0.02271  0.02271  \n",
       "4          1.54452  1.54452  "
      ]
     },
     "execution_count": 2,
     "metadata": {},
     "output_type": "execute_result"
    }
   ],
   "source": [
    "# Cargar sell-in.txt (puede ser un archivo grande, leer solo columnas necesarias)\n",
    "sellin_cols = ['periodo', 'customer_id', 'product_id', 'plan_precios_cuidados', 'cust_request_qty', 'cust_request_tn', 'tn']\n",
    "df_sellin = pd.read_csv('sell-in.txt', sep='\\t', usecols=sellin_cols)\n",
    "df_sellin.head()"
   ]
  },
  {
   "cell_type": "code",
   "execution_count": 3,
   "metadata": {},
   "outputs": [
    {
     "data": {
      "text/plain": [
       "597"
      ]
     },
     "execution_count": 3,
     "metadata": {},
     "output_type": "execute_result"
    }
   ],
   "source": [
    "# Contar valores únicos de customer_id\n",
    "df_sellin['customer_id'].nunique()\n",
    "# Contar valores únicos de product_id\n",
    "#df_sellin['product_id'].nunique()\n",
    "# Contar valores únicos de periodo\n",
    "#df_sellin['periodo'].nunique()\n"
   ]
  },
  {
   "cell_type": "code",
   "execution_count": 4,
   "metadata": {},
   "outputs": [],
   "source": [
    "# Merge de ambos dataframes por product_id\n",
    "#df_merged = pd.merge(df_sellin, df_ids, on='product_id', how='inner')\n",
    "#df_merged.head()"
   ]
  },
  {
   "cell_type": "code",
   "execution_count": 4,
   "metadata": {},
   "outputs": [],
   "source": [
    "# Si 'periodo' es tipo string o int, conviértelo a datetime para mayor facilidad\n",
    "df_sellin['periodo'] = pd.to_datetime(df_sellin['periodo'], format='%Y%m')\n",
    "df_sellin= df_sellin.sort_values(['product_id', 'customer_id', 'periodo']).reset_index(drop=True)\n"
   ]
  },
  {
   "cell_type": "markdown",
   "metadata": {},
   "source": [
    "Hacer el producto cartesiano de producto-cliente-período y agregar 0s."
   ]
  },
  {
   "cell_type": "code",
   "execution_count": 5,
   "metadata": {},
   "outputs": [],
   "source": [
    "# 1. Listas de valores únicos\n",
    "product_ids = df_sellin['product_id'].unique()\n",
    "customer_ids = df_sellin['customer_id'].unique()\n",
    "periodos = pd.date_range(\n",
    "    start=df_sellin['periodo'].min(), \n",
    "    end=df_sellin['periodo'].max(), \n",
    "    freq='MS'  # Monthly start frequency\n",
    ")\n",
    "\n",
    "# 2. Producto cartesiano\n",
    "cartesian = pd.MultiIndex.from_product(\n",
    "    [product_ids, customer_ids, periodos], \n",
    "    names=['product_id', 'customer_id', 'periodo']\n",
    ").to_frame(index=False)"
   ]
  },
  {
   "cell_type": "code",
   "execution_count": 6,
   "metadata": {},
   "outputs": [],
   "source": [
    "# 3. Filtrar productos activos\n",
    "periodo_producto = df_sellin.groupby('product_id')['periodo'].agg(['min', 'max']).reset_index()\n",
    "periodo_producto.columns = ['product_id', 'periodo_min_producto', 'periodo_max_producto']\n",
    "\n",
    "# 4. Filtrar clientes activos\n",
    "periodo_customer = df_sellin.groupby('customer_id')['periodo'].agg(['min', 'max']).reset_index()\n",
    "periodo_customer.columns = ['customer_id', 'periodo_min_customer', 'periodo_max_customer']"
   ]
  },
  {
   "cell_type": "code",
   "execution_count": 7,
   "metadata": {},
   "outputs": [],
   "source": [
    "# 5. Merge para filtrar combinaciones válidas\n",
    "cartesian = cartesian.merge(periodo_producto, on='product_id', how='left')\n",
    "cartesian = cartesian.merge(periodo_customer, on='customer_id', how='left')\n",
    "\n",
    "# 6. Filtrar combinaciones donde el periodo esté dentro del rango activo\n",
    "cartesian = cartesian[\n",
    "    (cartesian['periodo'] >= cartesian['periodo_min_producto']) & \n",
    "    (cartesian['periodo'] <= cartesian['periodo_max_producto']) &\n",
    "    (cartesian['periodo'] >= cartesian['periodo_min_customer']) #&\n",
    "    #(cartesian['periodo'] <= cartesian['periodo_max_customer'])\n",
    "].copy()\n",
    "\n",
    "# 7. Merge con el dataset original\n",
    "df_final = cartesian.merge(\n",
    "    df_sellin, \n",
    "    on=['product_id', 'customer_id', 'periodo'], \n",
    "    how='left'\n",
    ")"
   ]
  },
  {
   "cell_type": "code",
   "execution_count": 8,
   "metadata": {},
   "outputs": [
    {
     "data": {
      "text/plain": [
       "(17173448, 11)"
      ]
     },
     "execution_count": 8,
     "metadata": {},
     "output_type": "execute_result"
    }
   ],
   "source": [
    "df_final.shape"
   ]
  },
  {
   "cell_type": "code",
   "execution_count": 9,
   "metadata": {},
   "outputs": [
    {
     "name": "stdout",
     "output_type": "stream",
     "text": [
      "   product_id  customer_id    periodo periodo_min_producto  \\\n",
      "0       20001        10001 2017-01-01           2017-01-01   \n",
      "1       20001        10001 2017-02-01           2017-01-01   \n",
      "2       20001        10001 2017-03-01           2017-01-01   \n",
      "3       20001        10001 2017-04-01           2017-01-01   \n",
      "4       20001        10001 2017-05-01           2017-01-01   \n",
      "\n",
      "  periodo_max_producto periodo_min_customer periodo_max_customer  \\\n",
      "0           2019-12-01           2017-01-01           2019-12-01   \n",
      "1           2019-12-01           2017-01-01           2019-12-01   \n",
      "2           2019-12-01           2017-01-01           2019-12-01   \n",
      "3           2019-12-01           2017-01-01           2019-12-01   \n",
      "4           2019-12-01           2017-01-01           2019-12-01   \n",
      "\n",
      "   plan_precios_cuidados  cust_request_qty  cust_request_tn         tn  \n",
      "0                    0.0              11.0         99.43861   99.43861  \n",
      "1                    0.0              23.0        198.84365  198.84365  \n",
      "2                    0.0              33.0         92.46537   92.46537  \n",
      "3                    0.0               8.0         13.29728   13.29728  \n",
      "4                    0.0              15.0        101.20711  101.00563  \n"
     ]
    }
   ],
   "source": [
    "# 8. Completar las ventas y cualquier otra variable faltante con 0\n",
    "df_final['tn'] = df_final['tn'].fillna(0)\n",
    "df_final['plan_precios_cuidados'] = df_final['plan_precios_cuidados'].fillna(0)\n",
    "df_final['cust_request_qty'] = df_final['cust_request_qty'].fillna(0)\n",
    "df_final['cust_request_tn'] = df_final['cust_request_tn'].fillna(0)\n",
    "# Podés extender esto a otras variables que consideres relevantes.\n",
    "\n",
    "# 9. Revisar el resultado\n",
    "print(df_final.head())"
   ]
  },
  {
   "cell_type": "markdown",
   "metadata": {},
   "source": [
    "Creación de variable target: tn_t_plus_2"
   ]
  },
  {
   "cell_type": "code",
   "execution_count": 10,
   "metadata": {},
   "outputs": [
    {
     "name": "stdout",
     "output_type": "stream",
     "text": [
      "    product_id  customer_id    periodo         tn  tn_t_plus_2\n",
      "0        20001        10001 2017-01-01   99.43861     92.46537\n",
      "1        20001        10001 2017-02-01  198.84365     13.29728\n",
      "2        20001        10001 2017-03-01   92.46537    101.00563\n",
      "3        20001        10001 2017-04-01   13.29728    128.04792\n",
      "4        20001        10001 2017-05-01  101.00563    101.20711\n",
      "5        20001        10001 2017-06-01  128.04792     43.33930\n",
      "6        20001        10001 2017-07-01  101.20711    289.35024\n",
      "7        20001        10001 2017-08-01   43.33930    222.11389\n",
      "8        20001        10001 2017-09-01  289.35024    111.54944\n",
      "9        20001        10001 2017-10-01  222.11389    131.27150\n",
      "10       20001        10001 2017-11-01  111.54944     49.61857\n",
      "11       20001        10001 2017-12-01  131.27150     88.44065\n",
      "12       20001        10001 2018-01-01   49.61857    214.72336\n",
      "13       20001        10001 2018-02-01   88.44065    132.83419\n",
      "14       20001        10001 2018-03-01  214.72336    165.73507\n",
      "15       20001        10001 2018-04-01  132.83419     92.29410\n",
      "16       20001        10001 2018-05-01  165.73507    256.05760\n",
      "17       20001        10001 2018-06-01   92.29410    139.24210\n",
      "18       20001        10001 2018-07-01  256.05760    358.57922\n",
      "19       20001        10001 2018-08-01  139.24210    245.21397\n"
     ]
    }
   ],
   "source": [
    "# Creamos la variable objetivo: tn en t+2 para cada combinación product_id y customer_id\n",
    "# df_merged['tn_t_plus_2']\n",
    "\n",
    "# Paso 1: Crear columna con periodo +2 meses\n",
    "df_final['periodo_target'] = df_final['periodo'] + pd.DateOffset(months=2)\n",
    "\n",
    "# Paso 2: Crear DataFrame con target\n",
    "target_df = df_final[['product_id', 'customer_id', 'periodo', 'tn']].copy()\n",
    "target_df.rename(columns={'periodo': 'periodo_target', 'tn': 'tn_t_plus_2'}, inplace=True)\n",
    "\n",
    "# Paso 3: Hacer el merge\n",
    "df_final = df_final.merge(\n",
    "    target_df,\n",
    "    on=['product_id', 'customer_id', 'periodo_target'],\n",
    "    how='left'\n",
    ")\n",
    "\n",
    "# Paso 4: Validar\n",
    "print(df_final[['product_id', 'customer_id', 'periodo', 'tn', 'tn_t_plus_2']].head(20))\n",
    "\n",
    "\n"
   ]
  },
  {
   "cell_type": "code",
   "execution_count": 12,
   "metadata": {},
   "outputs": [],
   "source": [
    "# Eliminamos filas donde no hay target (NaN)\n",
    "#df_model = df_merged.dropna(subset=['tn_t_plus_2'])"
   ]
  },
  {
   "cell_type": "code",
   "execution_count": 11,
   "metadata": {},
   "outputs": [
    {
     "data": {
      "text/html": [
       "<div>\n",
       "<style scoped>\n",
       "    .dataframe tbody tr th:only-of-type {\n",
       "        vertical-align: middle;\n",
       "    }\n",
       "\n",
       "    .dataframe tbody tr th {\n",
       "        vertical-align: top;\n",
       "    }\n",
       "\n",
       "    .dataframe thead th {\n",
       "        text-align: right;\n",
       "    }\n",
       "</style>\n",
       "<table border=\"1\" class=\"dataframe\">\n",
       "  <thead>\n",
       "    <tr style=\"text-align: right;\">\n",
       "      <th></th>\n",
       "      <th>product_id</th>\n",
       "      <th>customer_id</th>\n",
       "      <th>periodo</th>\n",
       "      <th>periodo_min_producto</th>\n",
       "      <th>periodo_max_producto</th>\n",
       "      <th>periodo_min_customer</th>\n",
       "      <th>periodo_max_customer</th>\n",
       "      <th>plan_precios_cuidados</th>\n",
       "      <th>cust_request_qty</th>\n",
       "      <th>cust_request_tn</th>\n",
       "      <th>tn</th>\n",
       "      <th>periodo_target</th>\n",
       "      <th>tn_t_plus_2</th>\n",
       "    </tr>\n",
       "  </thead>\n",
       "  <tbody>\n",
       "    <tr>\n",
       "      <th>8959408</th>\n",
       "      <td>20524</td>\n",
       "      <td>10125</td>\n",
       "      <td>2017-01-01</td>\n",
       "      <td>2017-01-01</td>\n",
       "      <td>2019-12-01</td>\n",
       "      <td>2017-01-01</td>\n",
       "      <td>2019-11-01</td>\n",
       "      <td>0.0</td>\n",
       "      <td>1.0</td>\n",
       "      <td>0.02271</td>\n",
       "      <td>0.02271</td>\n",
       "      <td>2017-03-01</td>\n",
       "      <td>0.00000</td>\n",
       "    </tr>\n",
       "    <tr>\n",
       "      <th>8959409</th>\n",
       "      <td>20524</td>\n",
       "      <td>10125</td>\n",
       "      <td>2017-02-01</td>\n",
       "      <td>2017-01-01</td>\n",
       "      <td>2019-12-01</td>\n",
       "      <td>2017-01-01</td>\n",
       "      <td>2019-11-01</td>\n",
       "      <td>0.0</td>\n",
       "      <td>0.0</td>\n",
       "      <td>0.00000</td>\n",
       "      <td>0.00000</td>\n",
       "      <td>2017-04-01</td>\n",
       "      <td>0.00757</td>\n",
       "    </tr>\n",
       "    <tr>\n",
       "      <th>8959410</th>\n",
       "      <td>20524</td>\n",
       "      <td>10125</td>\n",
       "      <td>2017-03-01</td>\n",
       "      <td>2017-01-01</td>\n",
       "      <td>2019-12-01</td>\n",
       "      <td>2017-01-01</td>\n",
       "      <td>2019-11-01</td>\n",
       "      <td>0.0</td>\n",
       "      <td>0.0</td>\n",
       "      <td>0.00000</td>\n",
       "      <td>0.00000</td>\n",
       "      <td>2017-05-01</td>\n",
       "      <td>0.00757</td>\n",
       "    </tr>\n",
       "    <tr>\n",
       "      <th>8959411</th>\n",
       "      <td>20524</td>\n",
       "      <td>10125</td>\n",
       "      <td>2017-04-01</td>\n",
       "      <td>2017-01-01</td>\n",
       "      <td>2019-12-01</td>\n",
       "      <td>2017-01-01</td>\n",
       "      <td>2019-11-01</td>\n",
       "      <td>0.0</td>\n",
       "      <td>1.0</td>\n",
       "      <td>0.00757</td>\n",
       "      <td>0.00757</td>\n",
       "      <td>2017-06-01</td>\n",
       "      <td>0.00000</td>\n",
       "    </tr>\n",
       "    <tr>\n",
       "      <th>8959412</th>\n",
       "      <td>20524</td>\n",
       "      <td>10125</td>\n",
       "      <td>2017-05-01</td>\n",
       "      <td>2017-01-01</td>\n",
       "      <td>2019-12-01</td>\n",
       "      <td>2017-01-01</td>\n",
       "      <td>2019-11-01</td>\n",
       "      <td>0.0</td>\n",
       "      <td>1.0</td>\n",
       "      <td>0.00757</td>\n",
       "      <td>0.00757</td>\n",
       "      <td>2017-07-01</td>\n",
       "      <td>0.00000</td>\n",
       "    </tr>\n",
       "    <tr>\n",
       "      <th>8959413</th>\n",
       "      <td>20524</td>\n",
       "      <td>10125</td>\n",
       "      <td>2017-06-01</td>\n",
       "      <td>2017-01-01</td>\n",
       "      <td>2019-12-01</td>\n",
       "      <td>2017-01-01</td>\n",
       "      <td>2019-11-01</td>\n",
       "      <td>0.0</td>\n",
       "      <td>0.0</td>\n",
       "      <td>0.00000</td>\n",
       "      <td>0.00000</td>\n",
       "      <td>2017-08-01</td>\n",
       "      <td>0.00000</td>\n",
       "    </tr>\n",
       "    <tr>\n",
       "      <th>8959414</th>\n",
       "      <td>20524</td>\n",
       "      <td>10125</td>\n",
       "      <td>2017-07-01</td>\n",
       "      <td>2017-01-01</td>\n",
       "      <td>2019-12-01</td>\n",
       "      <td>2017-01-01</td>\n",
       "      <td>2019-11-01</td>\n",
       "      <td>0.0</td>\n",
       "      <td>0.0</td>\n",
       "      <td>0.00000</td>\n",
       "      <td>0.00000</td>\n",
       "      <td>2017-09-01</td>\n",
       "      <td>0.00757</td>\n",
       "    </tr>\n",
       "    <tr>\n",
       "      <th>8959415</th>\n",
       "      <td>20524</td>\n",
       "      <td>10125</td>\n",
       "      <td>2017-08-01</td>\n",
       "      <td>2017-01-01</td>\n",
       "      <td>2019-12-01</td>\n",
       "      <td>2017-01-01</td>\n",
       "      <td>2019-11-01</td>\n",
       "      <td>0.0</td>\n",
       "      <td>0.0</td>\n",
       "      <td>0.00000</td>\n",
       "      <td>0.00000</td>\n",
       "      <td>2017-10-01</td>\n",
       "      <td>0.00757</td>\n",
       "    </tr>\n",
       "    <tr>\n",
       "      <th>8959416</th>\n",
       "      <td>20524</td>\n",
       "      <td>10125</td>\n",
       "      <td>2017-09-01</td>\n",
       "      <td>2017-01-01</td>\n",
       "      <td>2019-12-01</td>\n",
       "      <td>2017-01-01</td>\n",
       "      <td>2019-11-01</td>\n",
       "      <td>0.0</td>\n",
       "      <td>1.0</td>\n",
       "      <td>0.00757</td>\n",
       "      <td>0.00757</td>\n",
       "      <td>2017-11-01</td>\n",
       "      <td>0.00000</td>\n",
       "    </tr>\n",
       "    <tr>\n",
       "      <th>8959417</th>\n",
       "      <td>20524</td>\n",
       "      <td>10125</td>\n",
       "      <td>2017-10-01</td>\n",
       "      <td>2017-01-01</td>\n",
       "      <td>2019-12-01</td>\n",
       "      <td>2017-01-01</td>\n",
       "      <td>2019-11-01</td>\n",
       "      <td>0.0</td>\n",
       "      <td>1.0</td>\n",
       "      <td>0.00757</td>\n",
       "      <td>0.00757</td>\n",
       "      <td>2017-12-01</td>\n",
       "      <td>0.00000</td>\n",
       "    </tr>\n",
       "  </tbody>\n",
       "</table>\n",
       "</div>"
      ],
      "text/plain": [
       "         product_id  customer_id    periodo periodo_min_producto  \\\n",
       "8959408       20524        10125 2017-01-01           2017-01-01   \n",
       "8959409       20524        10125 2017-02-01           2017-01-01   \n",
       "8959410       20524        10125 2017-03-01           2017-01-01   \n",
       "8959411       20524        10125 2017-04-01           2017-01-01   \n",
       "8959412       20524        10125 2017-05-01           2017-01-01   \n",
       "8959413       20524        10125 2017-06-01           2017-01-01   \n",
       "8959414       20524        10125 2017-07-01           2017-01-01   \n",
       "8959415       20524        10125 2017-08-01           2017-01-01   \n",
       "8959416       20524        10125 2017-09-01           2017-01-01   \n",
       "8959417       20524        10125 2017-10-01           2017-01-01   \n",
       "\n",
       "        periodo_max_producto periodo_min_customer periodo_max_customer  \\\n",
       "8959408           2019-12-01           2017-01-01           2019-11-01   \n",
       "8959409           2019-12-01           2017-01-01           2019-11-01   \n",
       "8959410           2019-12-01           2017-01-01           2019-11-01   \n",
       "8959411           2019-12-01           2017-01-01           2019-11-01   \n",
       "8959412           2019-12-01           2017-01-01           2019-11-01   \n",
       "8959413           2019-12-01           2017-01-01           2019-11-01   \n",
       "8959414           2019-12-01           2017-01-01           2019-11-01   \n",
       "8959415           2019-12-01           2017-01-01           2019-11-01   \n",
       "8959416           2019-12-01           2017-01-01           2019-11-01   \n",
       "8959417           2019-12-01           2017-01-01           2019-11-01   \n",
       "\n",
       "         plan_precios_cuidados  cust_request_qty  cust_request_tn       tn  \\\n",
       "8959408                    0.0               1.0          0.02271  0.02271   \n",
       "8959409                    0.0               0.0          0.00000  0.00000   \n",
       "8959410                    0.0               0.0          0.00000  0.00000   \n",
       "8959411                    0.0               1.0          0.00757  0.00757   \n",
       "8959412                    0.0               1.0          0.00757  0.00757   \n",
       "8959413                    0.0               0.0          0.00000  0.00000   \n",
       "8959414                    0.0               0.0          0.00000  0.00000   \n",
       "8959415                    0.0               0.0          0.00000  0.00000   \n",
       "8959416                    0.0               1.0          0.00757  0.00757   \n",
       "8959417                    0.0               1.0          0.00757  0.00757   \n",
       "\n",
       "        periodo_target  tn_t_plus_2  \n",
       "8959408     2017-03-01      0.00000  \n",
       "8959409     2017-04-01      0.00757  \n",
       "8959410     2017-05-01      0.00757  \n",
       "8959411     2017-06-01      0.00000  \n",
       "8959412     2017-07-01      0.00000  \n",
       "8959413     2017-08-01      0.00000  \n",
       "8959414     2017-09-01      0.00757  \n",
       "8959415     2017-10-01      0.00757  \n",
       "8959416     2017-11-01      0.00000  \n",
       "8959417     2017-12-01      0.00000  "
      ]
     },
     "execution_count": 11,
     "metadata": {},
     "output_type": "execute_result"
    }
   ],
   "source": [
    "# Probar combinaciones de producto - cliente\n",
    "df_final[(df_final['product_id'] == 20524) & (df_final['customer_id'] == 10125)].head(10)"
   ]
  },
  {
   "cell_type": "markdown",
   "metadata": {},
   "source": [
    "Feature engeneering"
   ]
  },
  {
   "cell_type": "code",
   "execution_count": 12,
   "metadata": {},
   "outputs": [
    {
     "data": {
      "text/html": [
       "<div>\n",
       "<style scoped>\n",
       "    .dataframe tbody tr th:only-of-type {\n",
       "        vertical-align: middle;\n",
       "    }\n",
       "\n",
       "    .dataframe tbody tr th {\n",
       "        vertical-align: top;\n",
       "    }\n",
       "\n",
       "    .dataframe thead th {\n",
       "        text-align: right;\n",
       "    }\n",
       "</style>\n",
       "<table border=\"1\" class=\"dataframe\">\n",
       "  <thead>\n",
       "    <tr style=\"text-align: right;\">\n",
       "      <th></th>\n",
       "      <th>product_id</th>\n",
       "      <th>customer_id</th>\n",
       "      <th>periodo</th>\n",
       "      <th>plan_precios_cuidados</th>\n",
       "      <th>cust_request_qty</th>\n",
       "      <th>cust_request_tn</th>\n",
       "      <th>tn</th>\n",
       "      <th>tn_t_plus_2</th>\n",
       "    </tr>\n",
       "  </thead>\n",
       "  <tbody>\n",
       "    <tr>\n",
       "      <th>0</th>\n",
       "      <td>20001</td>\n",
       "      <td>10001</td>\n",
       "      <td>2017-01-01</td>\n",
       "      <td>0.0</td>\n",
       "      <td>11.0</td>\n",
       "      <td>99.43861</td>\n",
       "      <td>99.43861</td>\n",
       "      <td>92.46537</td>\n",
       "    </tr>\n",
       "    <tr>\n",
       "      <th>1</th>\n",
       "      <td>20001</td>\n",
       "      <td>10001</td>\n",
       "      <td>2017-02-01</td>\n",
       "      <td>0.0</td>\n",
       "      <td>23.0</td>\n",
       "      <td>198.84365</td>\n",
       "      <td>198.84365</td>\n",
       "      <td>13.29728</td>\n",
       "    </tr>\n",
       "    <tr>\n",
       "      <th>2</th>\n",
       "      <td>20001</td>\n",
       "      <td>10001</td>\n",
       "      <td>2017-03-01</td>\n",
       "      <td>0.0</td>\n",
       "      <td>33.0</td>\n",
       "      <td>92.46537</td>\n",
       "      <td>92.46537</td>\n",
       "      <td>101.00563</td>\n",
       "    </tr>\n",
       "    <tr>\n",
       "      <th>3</th>\n",
       "      <td>20001</td>\n",
       "      <td>10001</td>\n",
       "      <td>2017-04-01</td>\n",
       "      <td>0.0</td>\n",
       "      <td>8.0</td>\n",
       "      <td>13.29728</td>\n",
       "      <td>13.29728</td>\n",
       "      <td>128.04792</td>\n",
       "    </tr>\n",
       "    <tr>\n",
       "      <th>4</th>\n",
       "      <td>20001</td>\n",
       "      <td>10001</td>\n",
       "      <td>2017-05-01</td>\n",
       "      <td>0.0</td>\n",
       "      <td>15.0</td>\n",
       "      <td>101.20711</td>\n",
       "      <td>101.00563</td>\n",
       "      <td>101.20711</td>\n",
       "    </tr>\n",
       "  </tbody>\n",
       "</table>\n",
       "</div>"
      ],
      "text/plain": [
       "   product_id  customer_id    periodo  plan_precios_cuidados  \\\n",
       "0       20001        10001 2017-01-01                    0.0   \n",
       "1       20001        10001 2017-02-01                    0.0   \n",
       "2       20001        10001 2017-03-01                    0.0   \n",
       "3       20001        10001 2017-04-01                    0.0   \n",
       "4       20001        10001 2017-05-01                    0.0   \n",
       "\n",
       "   cust_request_qty  cust_request_tn         tn  tn_t_plus_2  \n",
       "0              11.0         99.43861   99.43861     92.46537  \n",
       "1              23.0        198.84365  198.84365     13.29728  \n",
       "2              33.0         92.46537   92.46537    101.00563  \n",
       "3               8.0         13.29728   13.29728    128.04792  \n",
       "4              15.0        101.20711  101.00563    101.20711  "
      ]
     },
     "execution_count": 12,
     "metadata": {},
     "output_type": "execute_result"
    }
   ],
   "source": [
    "df_full = df_final.copy()\n",
    "\n",
    "# Elimino columnas innecesarias\n",
    "df_full.drop(columns=['periodo_min_producto', 'periodo_max_producto', 'periodo_min_customer', 'periodo_max_customer', 'periodo_target'], inplace=True)\n",
    "df_full.head()"
   ]
  },
  {
   "cell_type": "code",
   "execution_count": 13,
   "metadata": {},
   "outputs": [
    {
     "data": {
      "text/plain": [
       "(17173448, 8)"
      ]
     },
     "execution_count": 13,
     "metadata": {},
     "output_type": "execute_result"
    }
   ],
   "source": [
    "df_full.shape"
   ]
  },
  {
   "cell_type": "markdown",
   "metadata": {},
   "source": [
    "1. Lags (valores previos)\n"
   ]
  },
  {
   "cell_type": "code",
   "execution_count": 14,
   "metadata": {},
   "outputs": [],
   "source": [
    "for lag in [1, 2, 3, 4, 5, 6, 7, 8, 9, 10, 11, 12, 13, 14, 15, 16, 17, 18, 19, 20, 21, 22, 23, 24]:\n",
    "    df_full[f'tn_lag_{lag}'] = df_full.groupby(['product_id', 'customer_id'])['tn'].shift(lag)"
   ]
  },
  {
   "cell_type": "markdown",
   "metadata": {},
   "source": [
    "2. Rolling Mean (media móvil)\n",
    "media de los últimos 3, 6, 9 y 12 meses:"
   ]
  },
  {
   "cell_type": "code",
   "execution_count": 15,
   "metadata": {},
   "outputs": [],
   "source": [
    "for window in [3, 6, 9, 12, 15, 18]:  #15, 18, 21, 24\n",
    "    df_full[f'tn_rollmean_{window}'] = (\n",
    "        df_full.groupby(['product_id', 'customer_id'])['tn']\n",
    "        .transform(lambda x: x.rolling(window, min_periods=1).mean())\n",
    "    )"
   ]
  },
  {
   "cell_type": "markdown",
   "metadata": {},
   "source": [
    "3. Rolling Sum (suma móvil)\n",
    "la suma de los últimos 3 meses:"
   ]
  },
  {
   "cell_type": "code",
   "execution_count": 16,
   "metadata": {},
   "outputs": [],
   "source": [
    "df_full['tn_rollsum_3'] = (\n",
    "    df_full.groupby(['product_id', 'customer_id'])['tn']\n",
    "    .transform(lambda x: x.rolling(3, min_periods=1).sum())\n",
    ")"
   ]
  },
  {
   "cell_type": "markdown",
   "metadata": {},
   "source": [
    "4. Promedio histórico por producto y cliente\n",
    "Capturar el comportamiento típico de cada combinación:"
   ]
  },
  {
   "cell_type": "code",
   "execution_count": 17,
   "metadata": {},
   "outputs": [],
   "source": [
    "# Promedio histórico de tn por product_id y customer_id hasta el periodo actual (excluyendo el actual)\n",
    "df_full['tn_mean_hist'] = (\n",
    "    df_full.groupby(['product_id', 'customer_id'])['tn']\n",
    "    .transform(lambda x: x.expanding().mean().shift(1))\n",
    ")"
   ]
  },
  {
   "cell_type": "markdown",
   "metadata": {},
   "source": [
    "5. Lag y rolling para otras variables\n",
    "Repetir la lógica para otras columnas como cust_request_qty y cust_request_tn:"
   ]
  },
  {
   "cell_type": "code",
   "execution_count": 18,
   "metadata": {},
   "outputs": [],
   "source": [
    "for col in ['cust_request_qty', 'cust_request_tn']:\n",
    "    for lag in [1, 2, 3]:\n",
    "        df_full[f'{col}_lag_{lag}'] = df_full.groupby(['product_id', 'customer_id'])[col].shift(lag)\n",
    "    \n",
    "    for window in [3, 6, 12]:\n",
    "        df_full[f'{col}_rollmean_{window}'] = (\n",
    "            df_full.groupby(['product_id', 'customer_id'])[col]\n",
    "            .transform(lambda x: x.rolling(window, min_periods=1).mean())\n",
    "        )\n"
   ]
  },
  {
   "cell_type": "code",
   "execution_count": 21,
   "metadata": {},
   "outputs": [],
   "source": [
    "#6. Eliminar filas con NaN en features\n",
    "#df_model = df_full.dropna(subset=['tn_lag_1', 'tn_lag_2', 'tn_lag_3', 'tn_t_plus_2'])"
   ]
  },
  {
   "cell_type": "code",
   "execution_count": 19,
   "metadata": {},
   "outputs": [
    {
     "data": {
      "text/html": [
       "<div>\n",
       "<style scoped>\n",
       "    .dataframe tbody tr th:only-of-type {\n",
       "        vertical-align: middle;\n",
       "    }\n",
       "\n",
       "    .dataframe tbody tr th {\n",
       "        vertical-align: top;\n",
       "    }\n",
       "\n",
       "    .dataframe thead th {\n",
       "        text-align: right;\n",
       "    }\n",
       "</style>\n",
       "<table border=\"1\" class=\"dataframe\">\n",
       "  <thead>\n",
       "    <tr style=\"text-align: right;\">\n",
       "      <th></th>\n",
       "      <th>product_id</th>\n",
       "      <th>customer_id</th>\n",
       "      <th>periodo</th>\n",
       "      <th>plan_precios_cuidados</th>\n",
       "      <th>cust_request_qty</th>\n",
       "      <th>cust_request_tn</th>\n",
       "      <th>tn</th>\n",
       "      <th>tn_t_plus_2</th>\n",
       "      <th>tn_lag_1</th>\n",
       "      <th>tn_lag_2</th>\n",
       "      <th>...</th>\n",
       "      <th>cust_request_qty_lag_3</th>\n",
       "      <th>cust_request_qty_rollmean_3</th>\n",
       "      <th>cust_request_qty_rollmean_6</th>\n",
       "      <th>cust_request_qty_rollmean_12</th>\n",
       "      <th>cust_request_tn_lag_1</th>\n",
       "      <th>cust_request_tn_lag_2</th>\n",
       "      <th>cust_request_tn_lag_3</th>\n",
       "      <th>cust_request_tn_rollmean_3</th>\n",
       "      <th>cust_request_tn_rollmean_6</th>\n",
       "      <th>cust_request_tn_rollmean_12</th>\n",
       "    </tr>\n",
       "  </thead>\n",
       "  <tbody>\n",
       "    <tr>\n",
       "      <th>8959408</th>\n",
       "      <td>20524</td>\n",
       "      <td>10125</td>\n",
       "      <td>2017-01-01</td>\n",
       "      <td>0.0</td>\n",
       "      <td>1.0</td>\n",
       "      <td>0.02271</td>\n",
       "      <td>0.02271</td>\n",
       "      <td>0.00000</td>\n",
       "      <td>NaN</td>\n",
       "      <td>NaN</td>\n",
       "      <td>...</td>\n",
       "      <td>NaN</td>\n",
       "      <td>1.000000</td>\n",
       "      <td>1.000000</td>\n",
       "      <td>1.000000</td>\n",
       "      <td>NaN</td>\n",
       "      <td>NaN</td>\n",
       "      <td>NaN</td>\n",
       "      <td>0.022710</td>\n",
       "      <td>0.022710</td>\n",
       "      <td>0.022710</td>\n",
       "    </tr>\n",
       "    <tr>\n",
       "      <th>8959409</th>\n",
       "      <td>20524</td>\n",
       "      <td>10125</td>\n",
       "      <td>2017-02-01</td>\n",
       "      <td>0.0</td>\n",
       "      <td>0.0</td>\n",
       "      <td>0.00000</td>\n",
       "      <td>0.00000</td>\n",
       "      <td>0.00757</td>\n",
       "      <td>0.02271</td>\n",
       "      <td>NaN</td>\n",
       "      <td>...</td>\n",
       "      <td>NaN</td>\n",
       "      <td>0.500000</td>\n",
       "      <td>0.500000</td>\n",
       "      <td>0.500000</td>\n",
       "      <td>0.02271</td>\n",
       "      <td>NaN</td>\n",
       "      <td>NaN</td>\n",
       "      <td>0.011355</td>\n",
       "      <td>0.011355</td>\n",
       "      <td>0.011355</td>\n",
       "    </tr>\n",
       "    <tr>\n",
       "      <th>8959410</th>\n",
       "      <td>20524</td>\n",
       "      <td>10125</td>\n",
       "      <td>2017-03-01</td>\n",
       "      <td>0.0</td>\n",
       "      <td>0.0</td>\n",
       "      <td>0.00000</td>\n",
       "      <td>0.00000</td>\n",
       "      <td>0.00757</td>\n",
       "      <td>0.00000</td>\n",
       "      <td>0.02271</td>\n",
       "      <td>...</td>\n",
       "      <td>NaN</td>\n",
       "      <td>0.333333</td>\n",
       "      <td>0.333333</td>\n",
       "      <td>0.333333</td>\n",
       "      <td>0.00000</td>\n",
       "      <td>0.02271</td>\n",
       "      <td>NaN</td>\n",
       "      <td>0.007570</td>\n",
       "      <td>0.007570</td>\n",
       "      <td>0.007570</td>\n",
       "    </tr>\n",
       "    <tr>\n",
       "      <th>8959411</th>\n",
       "      <td>20524</td>\n",
       "      <td>10125</td>\n",
       "      <td>2017-04-01</td>\n",
       "      <td>0.0</td>\n",
       "      <td>1.0</td>\n",
       "      <td>0.00757</td>\n",
       "      <td>0.00757</td>\n",
       "      <td>0.00000</td>\n",
       "      <td>0.00000</td>\n",
       "      <td>0.00000</td>\n",
       "      <td>...</td>\n",
       "      <td>1.0</td>\n",
       "      <td>0.333333</td>\n",
       "      <td>0.500000</td>\n",
       "      <td>0.500000</td>\n",
       "      <td>0.00000</td>\n",
       "      <td>0.00000</td>\n",
       "      <td>0.02271</td>\n",
       "      <td>0.002523</td>\n",
       "      <td>0.007570</td>\n",
       "      <td>0.007570</td>\n",
       "    </tr>\n",
       "    <tr>\n",
       "      <th>8959412</th>\n",
       "      <td>20524</td>\n",
       "      <td>10125</td>\n",
       "      <td>2017-05-01</td>\n",
       "      <td>0.0</td>\n",
       "      <td>1.0</td>\n",
       "      <td>0.00757</td>\n",
       "      <td>0.00757</td>\n",
       "      <td>0.00000</td>\n",
       "      <td>0.00757</td>\n",
       "      <td>0.00000</td>\n",
       "      <td>...</td>\n",
       "      <td>0.0</td>\n",
       "      <td>0.666667</td>\n",
       "      <td>0.600000</td>\n",
       "      <td>0.600000</td>\n",
       "      <td>0.00757</td>\n",
       "      <td>0.00000</td>\n",
       "      <td>0.00000</td>\n",
       "      <td>0.005047</td>\n",
       "      <td>0.007570</td>\n",
       "      <td>0.007570</td>\n",
       "    </tr>\n",
       "    <tr>\n",
       "      <th>8959413</th>\n",
       "      <td>20524</td>\n",
       "      <td>10125</td>\n",
       "      <td>2017-06-01</td>\n",
       "      <td>0.0</td>\n",
       "      <td>0.0</td>\n",
       "      <td>0.00000</td>\n",
       "      <td>0.00000</td>\n",
       "      <td>0.00000</td>\n",
       "      <td>0.00757</td>\n",
       "      <td>0.00757</td>\n",
       "      <td>...</td>\n",
       "      <td>0.0</td>\n",
       "      <td>0.666667</td>\n",
       "      <td>0.500000</td>\n",
       "      <td>0.500000</td>\n",
       "      <td>0.00757</td>\n",
       "      <td>0.00757</td>\n",
       "      <td>0.00000</td>\n",
       "      <td>0.005047</td>\n",
       "      <td>0.006308</td>\n",
       "      <td>0.006308</td>\n",
       "    </tr>\n",
       "    <tr>\n",
       "      <th>8959414</th>\n",
       "      <td>20524</td>\n",
       "      <td>10125</td>\n",
       "      <td>2017-07-01</td>\n",
       "      <td>0.0</td>\n",
       "      <td>0.0</td>\n",
       "      <td>0.00000</td>\n",
       "      <td>0.00000</td>\n",
       "      <td>0.00757</td>\n",
       "      <td>0.00000</td>\n",
       "      <td>0.00757</td>\n",
       "      <td>...</td>\n",
       "      <td>1.0</td>\n",
       "      <td>0.333333</td>\n",
       "      <td>0.333333</td>\n",
       "      <td>0.428571</td>\n",
       "      <td>0.00000</td>\n",
       "      <td>0.00757</td>\n",
       "      <td>0.00757</td>\n",
       "      <td>0.002523</td>\n",
       "      <td>0.002523</td>\n",
       "      <td>0.005407</td>\n",
       "    </tr>\n",
       "    <tr>\n",
       "      <th>8959415</th>\n",
       "      <td>20524</td>\n",
       "      <td>10125</td>\n",
       "      <td>2017-08-01</td>\n",
       "      <td>0.0</td>\n",
       "      <td>0.0</td>\n",
       "      <td>0.00000</td>\n",
       "      <td>0.00000</td>\n",
       "      <td>0.00757</td>\n",
       "      <td>0.00000</td>\n",
       "      <td>0.00000</td>\n",
       "      <td>...</td>\n",
       "      <td>1.0</td>\n",
       "      <td>0.000000</td>\n",
       "      <td>0.333333</td>\n",
       "      <td>0.375000</td>\n",
       "      <td>0.00000</td>\n",
       "      <td>0.00000</td>\n",
       "      <td>0.00757</td>\n",
       "      <td>0.000000</td>\n",
       "      <td>0.002523</td>\n",
       "      <td>0.004731</td>\n",
       "    </tr>\n",
       "    <tr>\n",
       "      <th>8959416</th>\n",
       "      <td>20524</td>\n",
       "      <td>10125</td>\n",
       "      <td>2017-09-01</td>\n",
       "      <td>0.0</td>\n",
       "      <td>1.0</td>\n",
       "      <td>0.00757</td>\n",
       "      <td>0.00757</td>\n",
       "      <td>0.00000</td>\n",
       "      <td>0.00000</td>\n",
       "      <td>0.00000</td>\n",
       "      <td>...</td>\n",
       "      <td>0.0</td>\n",
       "      <td>0.333333</td>\n",
       "      <td>0.500000</td>\n",
       "      <td>0.444444</td>\n",
       "      <td>0.00000</td>\n",
       "      <td>0.00000</td>\n",
       "      <td>0.00000</td>\n",
       "      <td>0.002523</td>\n",
       "      <td>0.003785</td>\n",
       "      <td>0.005047</td>\n",
       "    </tr>\n",
       "    <tr>\n",
       "      <th>8959417</th>\n",
       "      <td>20524</td>\n",
       "      <td>10125</td>\n",
       "      <td>2017-10-01</td>\n",
       "      <td>0.0</td>\n",
       "      <td>1.0</td>\n",
       "      <td>0.00757</td>\n",
       "      <td>0.00757</td>\n",
       "      <td>0.00000</td>\n",
       "      <td>0.00757</td>\n",
       "      <td>0.00000</td>\n",
       "      <td>...</td>\n",
       "      <td>0.0</td>\n",
       "      <td>0.666667</td>\n",
       "      <td>0.500000</td>\n",
       "      <td>0.500000</td>\n",
       "      <td>0.00757</td>\n",
       "      <td>0.00000</td>\n",
       "      <td>0.00000</td>\n",
       "      <td>0.005047</td>\n",
       "      <td>0.003785</td>\n",
       "      <td>0.005299</td>\n",
       "    </tr>\n",
       "  </tbody>\n",
       "</table>\n",
       "<p>10 rows × 52 columns</p>\n",
       "</div>"
      ],
      "text/plain": [
       "         product_id  customer_id    periodo  plan_precios_cuidados  \\\n",
       "8959408       20524        10125 2017-01-01                    0.0   \n",
       "8959409       20524        10125 2017-02-01                    0.0   \n",
       "8959410       20524        10125 2017-03-01                    0.0   \n",
       "8959411       20524        10125 2017-04-01                    0.0   \n",
       "8959412       20524        10125 2017-05-01                    0.0   \n",
       "8959413       20524        10125 2017-06-01                    0.0   \n",
       "8959414       20524        10125 2017-07-01                    0.0   \n",
       "8959415       20524        10125 2017-08-01                    0.0   \n",
       "8959416       20524        10125 2017-09-01                    0.0   \n",
       "8959417       20524        10125 2017-10-01                    0.0   \n",
       "\n",
       "         cust_request_qty  cust_request_tn       tn  tn_t_plus_2  tn_lag_1  \\\n",
       "8959408               1.0          0.02271  0.02271      0.00000       NaN   \n",
       "8959409               0.0          0.00000  0.00000      0.00757   0.02271   \n",
       "8959410               0.0          0.00000  0.00000      0.00757   0.00000   \n",
       "8959411               1.0          0.00757  0.00757      0.00000   0.00000   \n",
       "8959412               1.0          0.00757  0.00757      0.00000   0.00757   \n",
       "8959413               0.0          0.00000  0.00000      0.00000   0.00757   \n",
       "8959414               0.0          0.00000  0.00000      0.00757   0.00000   \n",
       "8959415               0.0          0.00000  0.00000      0.00757   0.00000   \n",
       "8959416               1.0          0.00757  0.00757      0.00000   0.00000   \n",
       "8959417               1.0          0.00757  0.00757      0.00000   0.00757   \n",
       "\n",
       "         tn_lag_2  ...  cust_request_qty_lag_3  cust_request_qty_rollmean_3  \\\n",
       "8959408       NaN  ...                     NaN                     1.000000   \n",
       "8959409       NaN  ...                     NaN                     0.500000   \n",
       "8959410   0.02271  ...                     NaN                     0.333333   \n",
       "8959411   0.00000  ...                     1.0                     0.333333   \n",
       "8959412   0.00000  ...                     0.0                     0.666667   \n",
       "8959413   0.00757  ...                     0.0                     0.666667   \n",
       "8959414   0.00757  ...                     1.0                     0.333333   \n",
       "8959415   0.00000  ...                     1.0                     0.000000   \n",
       "8959416   0.00000  ...                     0.0                     0.333333   \n",
       "8959417   0.00000  ...                     0.0                     0.666667   \n",
       "\n",
       "         cust_request_qty_rollmean_6  cust_request_qty_rollmean_12  \\\n",
       "8959408                     1.000000                      1.000000   \n",
       "8959409                     0.500000                      0.500000   \n",
       "8959410                     0.333333                      0.333333   \n",
       "8959411                     0.500000                      0.500000   \n",
       "8959412                     0.600000                      0.600000   \n",
       "8959413                     0.500000                      0.500000   \n",
       "8959414                     0.333333                      0.428571   \n",
       "8959415                     0.333333                      0.375000   \n",
       "8959416                     0.500000                      0.444444   \n",
       "8959417                     0.500000                      0.500000   \n",
       "\n",
       "         cust_request_tn_lag_1  cust_request_tn_lag_2  cust_request_tn_lag_3  \\\n",
       "8959408                    NaN                    NaN                    NaN   \n",
       "8959409                0.02271                    NaN                    NaN   \n",
       "8959410                0.00000                0.02271                    NaN   \n",
       "8959411                0.00000                0.00000                0.02271   \n",
       "8959412                0.00757                0.00000                0.00000   \n",
       "8959413                0.00757                0.00757                0.00000   \n",
       "8959414                0.00000                0.00757                0.00757   \n",
       "8959415                0.00000                0.00000                0.00757   \n",
       "8959416                0.00000                0.00000                0.00000   \n",
       "8959417                0.00757                0.00000                0.00000   \n",
       "\n",
       "         cust_request_tn_rollmean_3  cust_request_tn_rollmean_6  \\\n",
       "8959408                    0.022710                    0.022710   \n",
       "8959409                    0.011355                    0.011355   \n",
       "8959410                    0.007570                    0.007570   \n",
       "8959411                    0.002523                    0.007570   \n",
       "8959412                    0.005047                    0.007570   \n",
       "8959413                    0.005047                    0.006308   \n",
       "8959414                    0.002523                    0.002523   \n",
       "8959415                    0.000000                    0.002523   \n",
       "8959416                    0.002523                    0.003785   \n",
       "8959417                    0.005047                    0.003785   \n",
       "\n",
       "         cust_request_tn_rollmean_12  \n",
       "8959408                     0.022710  \n",
       "8959409                     0.011355  \n",
       "8959410                     0.007570  \n",
       "8959411                     0.007570  \n",
       "8959412                     0.007570  \n",
       "8959413                     0.006308  \n",
       "8959414                     0.005407  \n",
       "8959415                     0.004731  \n",
       "8959416                     0.005047  \n",
       "8959417                     0.005299  \n",
       "\n",
       "[10 rows x 52 columns]"
      ]
     },
     "execution_count": 19,
     "metadata": {},
     "output_type": "execute_result"
    }
   ],
   "source": [
    "# Probar combinaciones de producto - cliente\n",
    "df_full[(df_full['product_id'] == 20524) & (df_final['customer_id'] == 10125)].head(10)\n",
    "#df_full.head()"
   ]
  },
  {
   "cell_type": "code",
   "execution_count": 59,
   "metadata": {},
   "outputs": [],
   "source": [
    "# Exporto df_full a CSV\n",
    "#df_full.to_csv('df_full_features.csv', index=False)"
   ]
  },
  {
   "cell_type": "markdown",
   "metadata": {},
   "source": [
    "Entrenamiento del modelo Light GBM"
   ]
  },
  {
   "cell_type": "markdown",
   "metadata": {},
   "source": [
    "Preparar los datos de entrenamiento y test\n",
    "Entrenamiento: Usa todos los datos donde tn_t_plus_2 no es NaN y el período es menor a 201912 (para no usar datos del futuro).\n",
    "Test: Filtra las filas donde el período es 201912 (diciembre 2019), ya que para esas filas queremos predecir tn en 202002 (febrero 2020)."
   ]
  },
  {
   "cell_type": "code",
   "execution_count": 20,
   "metadata": {},
   "outputs": [],
   "source": [
    "# Lista de features: incluye todas las columnas que empiezan con los prefijos de los features\n",
    "feature_cols = [\n",
    "    col for col in df_full.columns\n",
    "    if (\n",
    "        col.startswith('tn_lag_') or\n",
    "        col.startswith('tn_roll') or\n",
    "        col.startswith('cust_request_qty_lag_') or\n",
    "        col.startswith('cust_request_qty_roll') or\n",
    "        col.startswith('cust_request_tn_lag_') or\n",
    "        col.startswith('cust_request_tn_roll') or\n",
    "        col == 'plan_precios_cuidados'  \n",
    "    )\n",
    "]"
   ]
  },
  {
   "cell_type": "code",
   "execution_count": 21,
   "metadata": {},
   "outputs": [
    {
     "data": {
      "text/html": [
       "<div>\n",
       "<style scoped>\n",
       "    .dataframe tbody tr th:only-of-type {\n",
       "        vertical-align: middle;\n",
       "    }\n",
       "\n",
       "    .dataframe tbody tr th {\n",
       "        vertical-align: top;\n",
       "    }\n",
       "\n",
       "    .dataframe thead th {\n",
       "        text-align: right;\n",
       "    }\n",
       "</style>\n",
       "<table border=\"1\" class=\"dataframe\">\n",
       "  <thead>\n",
       "    <tr style=\"text-align: right;\">\n",
       "      <th></th>\n",
       "      <th>product_id</th>\n",
       "      <th>customer_id</th>\n",
       "      <th>periodo</th>\n",
       "      <th>plan_precios_cuidados</th>\n",
       "      <th>cust_request_qty</th>\n",
       "      <th>cust_request_tn</th>\n",
       "      <th>tn</th>\n",
       "      <th>tn_t_plus_2</th>\n",
       "      <th>tn_lag_1</th>\n",
       "      <th>tn_lag_2</th>\n",
       "      <th>...</th>\n",
       "      <th>cust_request_qty_lag_3</th>\n",
       "      <th>cust_request_qty_rollmean_3</th>\n",
       "      <th>cust_request_qty_rollmean_6</th>\n",
       "      <th>cust_request_qty_rollmean_12</th>\n",
       "      <th>cust_request_tn_lag_1</th>\n",
       "      <th>cust_request_tn_lag_2</th>\n",
       "      <th>cust_request_tn_lag_3</th>\n",
       "      <th>cust_request_tn_rollmean_3</th>\n",
       "      <th>cust_request_tn_rollmean_6</th>\n",
       "      <th>cust_request_tn_rollmean_12</th>\n",
       "    </tr>\n",
       "  </thead>\n",
       "  <tbody>\n",
       "    <tr>\n",
       "      <th>1203554</th>\n",
       "      <td>20064</td>\n",
       "      <td>10001</td>\n",
       "      <td>2019-02-01</td>\n",
       "      <td>0.0</td>\n",
       "      <td>4.0</td>\n",
       "      <td>3.4944</td>\n",
       "      <td>3.4944</td>\n",
       "      <td>6.4610</td>\n",
       "      <td>24.8976</td>\n",
       "      <td>10.4832</td>\n",
       "      <td>...</td>\n",
       "      <td>7.0</td>\n",
       "      <td>9.000000</td>\n",
       "      <td>9.666667</td>\n",
       "      <td>6.916667</td>\n",
       "      <td>24.8976</td>\n",
       "      <td>10.4832</td>\n",
       "      <td>8.7360</td>\n",
       "      <td>12.958400</td>\n",
       "      <td>13.540800</td>\n",
       "      <td>10.155600</td>\n",
       "    </tr>\n",
       "    <tr>\n",
       "      <th>1203555</th>\n",
       "      <td>20064</td>\n",
       "      <td>10001</td>\n",
       "      <td>2019-03-01</td>\n",
       "      <td>0.0</td>\n",
       "      <td>7.0</td>\n",
       "      <td>5.7148</td>\n",
       "      <td>5.7148</td>\n",
       "      <td>11.3568</td>\n",
       "      <td>3.4944</td>\n",
       "      <td>24.8976</td>\n",
       "      <td>...</td>\n",
       "      <td>5.0</td>\n",
       "      <td>9.666667</td>\n",
       "      <td>9.166667</td>\n",
       "      <td>7.250000</td>\n",
       "      <td>3.4944</td>\n",
       "      <td>24.8976</td>\n",
       "      <td>10.4832</td>\n",
       "      <td>11.368933</td>\n",
       "      <td>12.200067</td>\n",
       "      <td>9.867433</td>\n",
       "    </tr>\n",
       "    <tr>\n",
       "      <th>1203556</th>\n",
       "      <td>20064</td>\n",
       "      <td>10001</td>\n",
       "      <td>2019-04-01</td>\n",
       "      <td>0.0</td>\n",
       "      <td>2.0</td>\n",
       "      <td>6.4610</td>\n",
       "      <td>6.4610</td>\n",
       "      <td>6.9888</td>\n",
       "      <td>5.7148</td>\n",
       "      <td>3.4944</td>\n",
       "      <td>...</td>\n",
       "      <td>18.0</td>\n",
       "      <td>4.333333</td>\n",
       "      <td>7.166667</td>\n",
       "      <td>7.250000</td>\n",
       "      <td>5.7148</td>\n",
       "      <td>3.4944</td>\n",
       "      <td>24.8976</td>\n",
       "      <td>5.223400</td>\n",
       "      <td>9.964500</td>\n",
       "      <td>10.242050</td>\n",
       "    </tr>\n",
       "    <tr>\n",
       "      <th>1203557</th>\n",
       "      <td>20064</td>\n",
       "      <td>10001</td>\n",
       "      <td>2019-05-01</td>\n",
       "      <td>0.0</td>\n",
       "      <td>3.0</td>\n",
       "      <td>11.3568</td>\n",
       "      <td>11.3568</td>\n",
       "      <td>15.3062</td>\n",
       "      <td>6.4610</td>\n",
       "      <td>5.7148</td>\n",
       "      <td>...</td>\n",
       "      <td>4.0</td>\n",
       "      <td>4.000000</td>\n",
       "      <td>6.500000</td>\n",
       "      <td>7.333333</td>\n",
       "      <td>6.4610</td>\n",
       "      <td>5.7148</td>\n",
       "      <td>3.4944</td>\n",
       "      <td>7.844200</td>\n",
       "      <td>10.401300</td>\n",
       "      <td>10.933650</td>\n",
       "    </tr>\n",
       "    <tr>\n",
       "      <th>1203558</th>\n",
       "      <td>20064</td>\n",
       "      <td>10001</td>\n",
       "      <td>2019-06-01</td>\n",
       "      <td>0.0</td>\n",
       "      <td>5.0</td>\n",
       "      <td>6.9888</td>\n",
       "      <td>6.9888</td>\n",
       "      <td>2.8392</td>\n",
       "      <td>11.3568</td>\n",
       "      <td>6.4610</td>\n",
       "      <td>...</td>\n",
       "      <td>7.0</td>\n",
       "      <td>3.333333</td>\n",
       "      <td>6.500000</td>\n",
       "      <td>7.333333</td>\n",
       "      <td>11.3568</td>\n",
       "      <td>6.4610</td>\n",
       "      <td>5.7148</td>\n",
       "      <td>8.268867</td>\n",
       "      <td>9.818900</td>\n",
       "      <td>10.751650</td>\n",
       "    </tr>\n",
       "    <tr>\n",
       "      <th>1203559</th>\n",
       "      <td>20064</td>\n",
       "      <td>10001</td>\n",
       "      <td>2019-07-01</td>\n",
       "      <td>0.0</td>\n",
       "      <td>4.0</td>\n",
       "      <td>15.3062</td>\n",
       "      <td>15.3062</td>\n",
       "      <td>2.6208</td>\n",
       "      <td>6.9888</td>\n",
       "      <td>11.3568</td>\n",
       "      <td>...</td>\n",
       "      <td>2.0</td>\n",
       "      <td>4.000000</td>\n",
       "      <td>4.166667</td>\n",
       "      <td>7.083333</td>\n",
       "      <td>6.9888</td>\n",
       "      <td>11.3568</td>\n",
       "      <td>6.4610</td>\n",
       "      <td>11.217267</td>\n",
       "      <td>8.220333</td>\n",
       "      <td>11.444767</td>\n",
       "    </tr>\n",
       "    <tr>\n",
       "      <th>1203560</th>\n",
       "      <td>20064</td>\n",
       "      <td>10001</td>\n",
       "      <td>2019-08-01</td>\n",
       "      <td>0.0</td>\n",
       "      <td>2.0</td>\n",
       "      <td>2.8392</td>\n",
       "      <td>2.8392</td>\n",
       "      <td>9.6096</td>\n",
       "      <td>15.3062</td>\n",
       "      <td>6.9888</td>\n",
       "      <td>...</td>\n",
       "      <td>3.0</td>\n",
       "      <td>3.666667</td>\n",
       "      <td>3.833333</td>\n",
       "      <td>6.750000</td>\n",
       "      <td>15.3062</td>\n",
       "      <td>6.9888</td>\n",
       "      <td>11.3568</td>\n",
       "      <td>8.378067</td>\n",
       "      <td>8.111133</td>\n",
       "      <td>10.825967</td>\n",
       "    </tr>\n",
       "    <tr>\n",
       "      <th>1203561</th>\n",
       "      <td>20064</td>\n",
       "      <td>10001</td>\n",
       "      <td>2019-09-01</td>\n",
       "      <td>0.0</td>\n",
       "      <td>1.0</td>\n",
       "      <td>2.6208</td>\n",
       "      <td>2.6208</td>\n",
       "      <td>NaN</td>\n",
       "      <td>2.8392</td>\n",
       "      <td>15.3062</td>\n",
       "      <td>...</td>\n",
       "      <td>5.0</td>\n",
       "      <td>2.333333</td>\n",
       "      <td>2.833333</td>\n",
       "      <td>6.000000</td>\n",
       "      <td>2.8392</td>\n",
       "      <td>15.3062</td>\n",
       "      <td>6.9888</td>\n",
       "      <td>6.922067</td>\n",
       "      <td>7.595467</td>\n",
       "      <td>9.897767</td>\n",
       "    </tr>\n",
       "    <tr>\n",
       "      <th>1203562</th>\n",
       "      <td>20064</td>\n",
       "      <td>10001</td>\n",
       "      <td>2019-10-01</td>\n",
       "      <td>0.0</td>\n",
       "      <td>1.0</td>\n",
       "      <td>9.6096</td>\n",
       "      <td>9.6096</td>\n",
       "      <td>NaN</td>\n",
       "      <td>2.6208</td>\n",
       "      <td>2.8392</td>\n",
       "      <td>...</td>\n",
       "      <td>4.0</td>\n",
       "      <td>1.333333</td>\n",
       "      <td>2.666667</td>\n",
       "      <td>4.916667</td>\n",
       "      <td>2.6208</td>\n",
       "      <td>2.8392</td>\n",
       "      <td>15.3062</td>\n",
       "      <td>5.023200</td>\n",
       "      <td>8.120233</td>\n",
       "      <td>9.042367</td>\n",
       "    </tr>\n",
       "  </tbody>\n",
       "</table>\n",
       "<p>9 rows × 52 columns</p>\n",
       "</div>"
      ],
      "text/plain": [
       "         product_id  customer_id    periodo  plan_precios_cuidados  \\\n",
       "1203554       20064        10001 2019-02-01                    0.0   \n",
       "1203555       20064        10001 2019-03-01                    0.0   \n",
       "1203556       20064        10001 2019-04-01                    0.0   \n",
       "1203557       20064        10001 2019-05-01                    0.0   \n",
       "1203558       20064        10001 2019-06-01                    0.0   \n",
       "1203559       20064        10001 2019-07-01                    0.0   \n",
       "1203560       20064        10001 2019-08-01                    0.0   \n",
       "1203561       20064        10001 2019-09-01                    0.0   \n",
       "1203562       20064        10001 2019-10-01                    0.0   \n",
       "\n",
       "         cust_request_qty  cust_request_tn       tn  tn_t_plus_2  tn_lag_1  \\\n",
       "1203554               4.0           3.4944   3.4944       6.4610   24.8976   \n",
       "1203555               7.0           5.7148   5.7148      11.3568    3.4944   \n",
       "1203556               2.0           6.4610   6.4610       6.9888    5.7148   \n",
       "1203557               3.0          11.3568  11.3568      15.3062    6.4610   \n",
       "1203558               5.0           6.9888   6.9888       2.8392   11.3568   \n",
       "1203559               4.0          15.3062  15.3062       2.6208    6.9888   \n",
       "1203560               2.0           2.8392   2.8392       9.6096   15.3062   \n",
       "1203561               1.0           2.6208   2.6208          NaN    2.8392   \n",
       "1203562               1.0           9.6096   9.6096          NaN    2.6208   \n",
       "\n",
       "         tn_lag_2  ...  cust_request_qty_lag_3  cust_request_qty_rollmean_3  \\\n",
       "1203554   10.4832  ...                     7.0                     9.000000   \n",
       "1203555   24.8976  ...                     5.0                     9.666667   \n",
       "1203556    3.4944  ...                    18.0                     4.333333   \n",
       "1203557    5.7148  ...                     4.0                     4.000000   \n",
       "1203558    6.4610  ...                     7.0                     3.333333   \n",
       "1203559   11.3568  ...                     2.0                     4.000000   \n",
       "1203560    6.9888  ...                     3.0                     3.666667   \n",
       "1203561   15.3062  ...                     5.0                     2.333333   \n",
       "1203562    2.8392  ...                     4.0                     1.333333   \n",
       "\n",
       "         cust_request_qty_rollmean_6  cust_request_qty_rollmean_12  \\\n",
       "1203554                     9.666667                      6.916667   \n",
       "1203555                     9.166667                      7.250000   \n",
       "1203556                     7.166667                      7.250000   \n",
       "1203557                     6.500000                      7.333333   \n",
       "1203558                     6.500000                      7.333333   \n",
       "1203559                     4.166667                      7.083333   \n",
       "1203560                     3.833333                      6.750000   \n",
       "1203561                     2.833333                      6.000000   \n",
       "1203562                     2.666667                      4.916667   \n",
       "\n",
       "         cust_request_tn_lag_1  cust_request_tn_lag_2  cust_request_tn_lag_3  \\\n",
       "1203554                24.8976                10.4832                 8.7360   \n",
       "1203555                 3.4944                24.8976                10.4832   \n",
       "1203556                 5.7148                 3.4944                24.8976   \n",
       "1203557                 6.4610                 5.7148                 3.4944   \n",
       "1203558                11.3568                 6.4610                 5.7148   \n",
       "1203559                 6.9888                11.3568                 6.4610   \n",
       "1203560                15.3062                 6.9888                11.3568   \n",
       "1203561                 2.8392                15.3062                 6.9888   \n",
       "1203562                 2.6208                 2.8392                15.3062   \n",
       "\n",
       "         cust_request_tn_rollmean_3  cust_request_tn_rollmean_6  \\\n",
       "1203554                   12.958400                   13.540800   \n",
       "1203555                   11.368933                   12.200067   \n",
       "1203556                    5.223400                    9.964500   \n",
       "1203557                    7.844200                   10.401300   \n",
       "1203558                    8.268867                    9.818900   \n",
       "1203559                   11.217267                    8.220333   \n",
       "1203560                    8.378067                    8.111133   \n",
       "1203561                    6.922067                    7.595467   \n",
       "1203562                    5.023200                    8.120233   \n",
       "\n",
       "         cust_request_tn_rollmean_12  \n",
       "1203554                    10.155600  \n",
       "1203555                     9.867433  \n",
       "1203556                    10.242050  \n",
       "1203557                    10.933650  \n",
       "1203558                    10.751650  \n",
       "1203559                    11.444767  \n",
       "1203560                    10.825967  \n",
       "1203561                     9.897767  \n",
       "1203562                     9.042367  \n",
       "\n",
       "[9 rows x 52 columns]"
      ]
     },
     "execution_count": 21,
     "metadata": {},
     "output_type": "execute_result"
    }
   ],
   "source": [
    "# Verifico los valores de product_id = 20001 y customer_id = 10063\n",
    "# train[(train['product_id'] == 20001) & (train['customer_id'] == 10063) & (train['periodo'] > pd.to_datetime('2019-01-01'))]\n",
    "df_full[(df_full['product_id'] == 20064) & (df_full['customer_id'] == 10001) & (df_full['periodo'] > pd.to_datetime('2019-01-01'))]"
   ]
  },
  {
   "cell_type": "code",
   "execution_count": null,
   "metadata": {},
   "outputs": [],
   "source": [
    "'''# Entrenamiento y validación\n",
    "train = df_full[df_full['periodo'] < pd.to_datetime('2019-10-01')]\n",
    "train = train[train['tn_t_plus_2'].notnull()] # Filtro con target válido\n",
    "valid = df_full[df_full['periodo'] == pd.to_datetime('2019-10-01')]\n",
    "valid = valid[valid['tn_t_plus_2'].notnull()] # Filtro con target válido\n",
    "test = df_full[df_full['periodo'] == pd.to_datetime('2019-12-01')]\n",
    "\n",
    "X_train = train[feature_cols]\n",
    "y_train = train['tn_t_plus_2']\n",
    "X_valid = valid[feature_cols]\n",
    "y_valid = valid['tn_t_plus_2']\n",
    "X_test = test[feature_cols]'''"
   ]
  },
  {
   "cell_type": "code",
   "execution_count": null,
   "metadata": {},
   "outputs": [
    {
     "name": "stdout",
     "output_type": "stream",
     "text": [
      "NaNs en y_train: 0\n",
      "NaNs en y_valid: 0\n"
     ]
    }
   ],
   "source": [
    "'''# Chequeo de NaNs en y_train y y_valid\n",
    "print(\"NaNs en y_train:\", y_train.isnull().sum())\n",
    "print(\"NaNs en y_valid:\", y_valid.isnull().sum())\n",
    "'''\n"
   ]
  },
  {
   "cell_type": "code",
   "execution_count": 27,
   "metadata": {},
   "outputs": [
    {
     "data": {
      "text/plain": [
       "'invalid_rows = valid[valid[\\'tn_t_plus_2\\'].isnull()]\\n\\n\\nproductos_con_nan_target = invalid_rows[\\'product_id\\'].unique()\\nprint(\"Productos con target nulo:\", productos_con_nan_target)'"
      ]
     },
     "execution_count": 27,
     "metadata": {},
     "output_type": "execute_result"
    }
   ],
   "source": [
    "'''invalid_rows = valid[valid['tn_t_plus_2'].isnull()]\n",
    "\n",
    "\n",
    "productos_con_nan_target = invalid_rows['product_id'].unique()\n",
    "print(\"Productos con target nulo:\", productos_con_nan_target)'''\n"
   ]
  },
  {
   "cell_type": "code",
   "execution_count": 28,
   "metadata": {},
   "outputs": [
    {
     "data": {
      "text/plain": [
       "'productos_activos = df_ids[\\'product_id\\'].unique()\\nprint(\"Productos activos en 2019-12:\", productos_activos)'"
      ]
     },
     "execution_count": 28,
     "metadata": {},
     "output_type": "execute_result"
    }
   ],
   "source": [
    "\n",
    "'''productos_activos = df_ids['product_id'].unique()\n",
    "print(\"Productos activos en 2019-12:\", productos_activos)'''\n"
   ]
  },
  {
   "cell_type": "code",
   "execution_count": 29,
   "metadata": {},
   "outputs": [
    {
     "data": {
      "text/plain": [
       "\"df_resultado = pd.DataFrame({'product_id': productos_con_nan_target})\\ndf_resultado['activo_en_201912'] = df_resultado['product_id'].isin(productos_activos)\\nprint(df_resultado)\""
      ]
     },
     "execution_count": 29,
     "metadata": {},
     "output_type": "execute_result"
    }
   ],
   "source": [
    "'''df_resultado = pd.DataFrame({'product_id': productos_con_nan_target})\n",
    "df_resultado['activo_en_201912'] = df_resultado['product_id'].isin(productos_activos)\n",
    "print(df_resultado)'''\n",
    "\n"
   ]
  },
  {
   "cell_type": "markdown",
   "metadata": {},
   "source": [
    "Entrena el modelo LightGBM"
   ]
  },
  {
   "cell_type": "code",
   "execution_count": null,
   "metadata": {},
   "outputs": [
    {
     "name": "stderr",
     "output_type": "stream",
     "text": [
      "[I 2025-06-11 16:10:58,879] Using an existing study with name 'model_tuning' instead of creating a new one.\n"
     ]
    },
    {
     "name": "stdout",
     "output_type": "stream",
     "text": [
      "[LightGBM] [Info] Auto-choosing row-wise multi-threading, the overhead of testing was 0.473114 seconds.\n",
      "You can set `force_row_wise=true` to remove the overhead.\n",
      "And if memory is not enough, you can set `force_col_wise=true`.\n",
      "[LightGBM] [Info] Total Bins 5109\n",
      "[LightGBM] [Info] Number of data points in the train set: 15197117, number of used features: 24\n",
      "[LightGBM] [Info] Start training from score 0.079931\n"
     ]
    },
    {
     "name": "stderr",
     "output_type": "stream",
     "text": [
      "[I 2025-06-11 16:12:16,619] Trial 137 finished with value: 1.0966817988038904 and parameters: {'learning_rate': 0.0720981537623799, 'num_leaves': 29, 'max_depth': 13, 'subsample': 0.6395523697013361, 'colsample_bytree': 0.5478199786444611}. Best is trial 136 with value: 0.862806847784841.\n"
     ]
    },
    {
     "name": "stdout",
     "output_type": "stream",
     "text": [
      "Best params: {'learning_rate': 0.07905132294070043, 'num_leaves': 29, 'max_depth': 13, 'subsample': 0.6262454327760815, 'colsample_bytree': 0.5136598902019459}\n",
      "Best Total Forecast Error: 0.862806847784841\n"
     ]
    }
   ],
   "source": [
    "'''import numpy as np\n",
    "import lightgbm as lgb\n",
    "import optuna\n",
    "\n",
    "\n",
    "storage = optuna.storages.RDBStorage(\n",
    "    url=\"sqlite:///optuna_study.db\"\n",
    ")\n",
    "\n",
    "def total_forecast_error(y_true, y_pred):\n",
    "    error_abs = np.abs(y_true - y_pred)\n",
    "    return np.sum(error_abs) / np.sum(y_true)\n",
    "\n",
    "def objective(trial):\n",
    "    param = {\n",
    "        'objective': 'regression',\n",
    "        'metric': 'mse', \n",
    "        'n_estimators': 1000,\n",
    "        'learning_rate': trial.suggest_float('learning_rate', 0.01, 0.2, log=True),\n",
    "        'num_leaves': trial.suggest_int('num_leaves', 20, 150),\n",
    "        'max_depth': trial.suggest_int('max_depth', 3, 15),\n",
    "        'subsample': trial.suggest_float('subsample', 0.5, 1.0),\n",
    "        'colsample_bytree': trial.suggest_float('colsample_bytree', 0.5, 1.0)\n",
    "    }\n",
    "\n",
    "    model = lgb.LGBMRegressor(**param)\n",
    "    model.fit(\n",
    "        X_train, y_train,\n",
    "        eval_set=[(X_valid, y_valid)]\n",
    "    )\n",
    "\n",
    "    y_pred = model.predict(X_valid)\n",
    "    tfe = total_forecast_error(y_valid, y_pred)\n",
    "    return tfe\n",
    "\n",
    "study2 = optuna.create_study(study_name=\"model_tuning\",direction='minimize', storage=storage,\n",
    "    load_if_exists=True)\n",
    "study2.optimize(objective, n_trials=1)\n",
    "\n",
    "print(\"Best params:\", study2.best_params)\n",
    "print(\"Best Total Forecast Error:\", study2.best_value)\n",
    "'''"
   ]
  },
  {
   "cell_type": "code",
   "execution_count": null,
   "metadata": {},
   "outputs": [],
   "source": [
    "import numpy as np\n",
    "import lightgbm as lgb\n",
    "import optuna\n",
    "\n",
    "\n",
    "storage = optuna.storages.RDBStorage(\n",
    "    url=\"sqlite:///optuna_study.db\"\n",
    ")\n",
    "\n",
    "def total_forecast_error(y_true, y_pred):\n",
    "    error_abs = np.abs(y_true - y_pred)\n",
    "    return np.sum(error_abs) / np.sum(y_true)\n",
    "\n",
    "\n",
    "def objective(trial):\n",
    "    param = {\n",
    "        'objective': 'regression',\n",
    "        'metric': 'mse', \n",
    "        'n_estimators': 1000,\n",
    "        'learning_rate': trial.suggest_float('learning_rate', 0.01, 0.2, log=True),\n",
    "        'num_leaves': trial.suggest_int('num_leaves', 20, 150),\n",
    "        'max_depth': trial.suggest_int('max_depth', 3, 15),\n",
    "        'subsample': trial.suggest_float('subsample', 0.5, 1.0),\n",
    "        'colsample_bytree': trial.suggest_float('colsample_bytree', 0.5, 1.0)\n",
    "    }\n",
    "\n",
    "    # Fechas de validación (expanding window)\n",
    "    valid_dates = [pd.to_datetime('2019-08-01'), \n",
    "                   pd.to_datetime('2019-09-01'), \n",
    "                   pd.to_datetime('2019-10-01')]\n",
    "\n",
    "    tfes = []\n",
    "\n",
    "    for valid_date in valid_dates:\n",
    "        train = df_full[df_full['periodo'] < valid_date]\n",
    "        train = train[train['tn_t_plus_2'].notnull()]\n",
    "        valid = df_full[df_full['periodo'] == valid_date]\n",
    "        valid = valid[valid['tn_t_plus_2'].notnull()]\n",
    "\n",
    "        X_train = train[feature_cols]\n",
    "        y_train = train['tn_t_plus_2']\n",
    "        X_valid = valid[feature_cols]\n",
    "        y_valid = valid['tn_t_plus_2']\n",
    "\n",
    "        model = lgb.LGBMRegressor(**param)\n",
    "        model.fit(X_train, y_train)\n",
    "\n",
    "        y_pred = model.predict(X_valid)\n",
    "        tfes.append(total_forecast_error(y_valid, y_pred))\n",
    "\n",
    "    return np.mean(tfes)\n",
    "\n",
    "study_wv = optuna.create_study(study_name=\"model_tuningWV\",direction='minimize', storage=storage,\n",
    "    load_if_exists=True)\n",
    "study_wv.optimize(objective, n_trials=20)\n",
    "\n",
    "print(\"Best params:\", study_wv.best_params)\n",
    "print(\"Best Total Forecast Error:\", study_wv.best_value)"
   ]
  },
  {
   "cell_type": "code",
   "execution_count": 49,
   "metadata": {},
   "outputs": [
    {
     "data": {
      "application/vnd.plotly.v1+json": {
       "config": {
        "plotlyServerURL": "https://plot.ly"
       },
       "data": [
        {
         "mode": "markers",
         "name": "Objective Value",
         "type": "scatter",
         "x": [
          0,
          1,
          2,
          3,
          4,
          5,
          6,
          7,
          8,
          9,
          10,
          11,
          12,
          13,
          14,
          15,
          16,
          17,
          18,
          19
         ],
         "y": [
          0.9668771967194069,
          0.9721733422584391,
          0.9575402753375434,
          0.9688567462336003,
          0.963191486940762,
          0.9570973314503618,
          0.9579449863176119,
          0.9582114819808535,
          0.9604390579780779,
          0.9752221031839682,
          0.965053057022763,
          0.9567038919126606,
          0.9601674678118787,
          0.968606062353539,
          0.9581810028616801,
          0.9614213324547146,
          0.9584670775284097,
          0.9591606109670313,
          0.957740000182768,
          0.9644755846913666
         ]
        },
        {
         "mode": "lines",
         "name": "Best Value",
         "type": "scatter",
         "x": [
          0,
          1,
          2,
          3,
          4,
          5,
          6,
          7,
          8,
          9,
          10,
          11,
          12,
          13,
          14,
          15,
          16,
          17,
          18,
          19
         ],
         "y": [
          0.9668771967194069,
          0.9668771967194069,
          0.9575402753375434,
          0.9575402753375434,
          0.9575402753375434,
          0.9570973314503618,
          0.9570973314503618,
          0.9570973314503618,
          0.9570973314503618,
          0.9570973314503618,
          0.9570973314503618,
          0.9567038919126606,
          0.9567038919126606,
          0.9567038919126606,
          0.9567038919126606,
          0.9567038919126606,
          0.9567038919126606,
          0.9567038919126606,
          0.9567038919126606,
          0.9567038919126606
         ]
        },
        {
         "marker": {
          "color": "#cccccc"
         },
         "mode": "markers",
         "name": "Infeasible Trial",
         "showlegend": false,
         "type": "scatter",
         "x": [],
         "y": []
        }
       ],
       "layout": {
        "template": {
         "data": {
          "bar": [
           {
            "error_x": {
             "color": "#2a3f5f"
            },
            "error_y": {
             "color": "#2a3f5f"
            },
            "marker": {
             "line": {
              "color": "#E5ECF6",
              "width": 0.5
             },
             "pattern": {
              "fillmode": "overlay",
              "size": 10,
              "solidity": 0.2
             }
            },
            "type": "bar"
           }
          ],
          "barpolar": [
           {
            "marker": {
             "line": {
              "color": "#E5ECF6",
              "width": 0.5
             },
             "pattern": {
              "fillmode": "overlay",
              "size": 10,
              "solidity": 0.2
             }
            },
            "type": "barpolar"
           }
          ],
          "carpet": [
           {
            "aaxis": {
             "endlinecolor": "#2a3f5f",
             "gridcolor": "white",
             "linecolor": "white",
             "minorgridcolor": "white",
             "startlinecolor": "#2a3f5f"
            },
            "baxis": {
             "endlinecolor": "#2a3f5f",
             "gridcolor": "white",
             "linecolor": "white",
             "minorgridcolor": "white",
             "startlinecolor": "#2a3f5f"
            },
            "type": "carpet"
           }
          ],
          "choropleth": [
           {
            "colorbar": {
             "outlinewidth": 0,
             "ticks": ""
            },
            "type": "choropleth"
           }
          ],
          "contour": [
           {
            "colorbar": {
             "outlinewidth": 0,
             "ticks": ""
            },
            "colorscale": [
             [
              0,
              "#0d0887"
             ],
             [
              0.1111111111111111,
              "#46039f"
             ],
             [
              0.2222222222222222,
              "#7201a8"
             ],
             [
              0.3333333333333333,
              "#9c179e"
             ],
             [
              0.4444444444444444,
              "#bd3786"
             ],
             [
              0.5555555555555556,
              "#d8576b"
             ],
             [
              0.6666666666666666,
              "#ed7953"
             ],
             [
              0.7777777777777778,
              "#fb9f3a"
             ],
             [
              0.8888888888888888,
              "#fdca26"
             ],
             [
              1,
              "#f0f921"
             ]
            ],
            "type": "contour"
           }
          ],
          "contourcarpet": [
           {
            "colorbar": {
             "outlinewidth": 0,
             "ticks": ""
            },
            "type": "contourcarpet"
           }
          ],
          "heatmap": [
           {
            "colorbar": {
             "outlinewidth": 0,
             "ticks": ""
            },
            "colorscale": [
             [
              0,
              "#0d0887"
             ],
             [
              0.1111111111111111,
              "#46039f"
             ],
             [
              0.2222222222222222,
              "#7201a8"
             ],
             [
              0.3333333333333333,
              "#9c179e"
             ],
             [
              0.4444444444444444,
              "#bd3786"
             ],
             [
              0.5555555555555556,
              "#d8576b"
             ],
             [
              0.6666666666666666,
              "#ed7953"
             ],
             [
              0.7777777777777778,
              "#fb9f3a"
             ],
             [
              0.8888888888888888,
              "#fdca26"
             ],
             [
              1,
              "#f0f921"
             ]
            ],
            "type": "heatmap"
           }
          ],
          "histogram": [
           {
            "marker": {
             "pattern": {
              "fillmode": "overlay",
              "size": 10,
              "solidity": 0.2
             }
            },
            "type": "histogram"
           }
          ],
          "histogram2d": [
           {
            "colorbar": {
             "outlinewidth": 0,
             "ticks": ""
            },
            "colorscale": [
             [
              0,
              "#0d0887"
             ],
             [
              0.1111111111111111,
              "#46039f"
             ],
             [
              0.2222222222222222,
              "#7201a8"
             ],
             [
              0.3333333333333333,
              "#9c179e"
             ],
             [
              0.4444444444444444,
              "#bd3786"
             ],
             [
              0.5555555555555556,
              "#d8576b"
             ],
             [
              0.6666666666666666,
              "#ed7953"
             ],
             [
              0.7777777777777778,
              "#fb9f3a"
             ],
             [
              0.8888888888888888,
              "#fdca26"
             ],
             [
              1,
              "#f0f921"
             ]
            ],
            "type": "histogram2d"
           }
          ],
          "histogram2dcontour": [
           {
            "colorbar": {
             "outlinewidth": 0,
             "ticks": ""
            },
            "colorscale": [
             [
              0,
              "#0d0887"
             ],
             [
              0.1111111111111111,
              "#46039f"
             ],
             [
              0.2222222222222222,
              "#7201a8"
             ],
             [
              0.3333333333333333,
              "#9c179e"
             ],
             [
              0.4444444444444444,
              "#bd3786"
             ],
             [
              0.5555555555555556,
              "#d8576b"
             ],
             [
              0.6666666666666666,
              "#ed7953"
             ],
             [
              0.7777777777777778,
              "#fb9f3a"
             ],
             [
              0.8888888888888888,
              "#fdca26"
             ],
             [
              1,
              "#f0f921"
             ]
            ],
            "type": "histogram2dcontour"
           }
          ],
          "mesh3d": [
           {
            "colorbar": {
             "outlinewidth": 0,
             "ticks": ""
            },
            "type": "mesh3d"
           }
          ],
          "parcoords": [
           {
            "line": {
             "colorbar": {
              "outlinewidth": 0,
              "ticks": ""
             }
            },
            "type": "parcoords"
           }
          ],
          "pie": [
           {
            "automargin": true,
            "type": "pie"
           }
          ],
          "scatter": [
           {
            "fillpattern": {
             "fillmode": "overlay",
             "size": 10,
             "solidity": 0.2
            },
            "type": "scatter"
           }
          ],
          "scatter3d": [
           {
            "line": {
             "colorbar": {
              "outlinewidth": 0,
              "ticks": ""
             }
            },
            "marker": {
             "colorbar": {
              "outlinewidth": 0,
              "ticks": ""
             }
            },
            "type": "scatter3d"
           }
          ],
          "scattercarpet": [
           {
            "marker": {
             "colorbar": {
              "outlinewidth": 0,
              "ticks": ""
             }
            },
            "type": "scattercarpet"
           }
          ],
          "scattergeo": [
           {
            "marker": {
             "colorbar": {
              "outlinewidth": 0,
              "ticks": ""
             }
            },
            "type": "scattergeo"
           }
          ],
          "scattergl": [
           {
            "marker": {
             "colorbar": {
              "outlinewidth": 0,
              "ticks": ""
             }
            },
            "type": "scattergl"
           }
          ],
          "scattermap": [
           {
            "marker": {
             "colorbar": {
              "outlinewidth": 0,
              "ticks": ""
             }
            },
            "type": "scattermap"
           }
          ],
          "scattermapbox": [
           {
            "marker": {
             "colorbar": {
              "outlinewidth": 0,
              "ticks": ""
             }
            },
            "type": "scattermapbox"
           }
          ],
          "scatterpolar": [
           {
            "marker": {
             "colorbar": {
              "outlinewidth": 0,
              "ticks": ""
             }
            },
            "type": "scatterpolar"
           }
          ],
          "scatterpolargl": [
           {
            "marker": {
             "colorbar": {
              "outlinewidth": 0,
              "ticks": ""
             }
            },
            "type": "scatterpolargl"
           }
          ],
          "scatterternary": [
           {
            "marker": {
             "colorbar": {
              "outlinewidth": 0,
              "ticks": ""
             }
            },
            "type": "scatterternary"
           }
          ],
          "surface": [
           {
            "colorbar": {
             "outlinewidth": 0,
             "ticks": ""
            },
            "colorscale": [
             [
              0,
              "#0d0887"
             ],
             [
              0.1111111111111111,
              "#46039f"
             ],
             [
              0.2222222222222222,
              "#7201a8"
             ],
             [
              0.3333333333333333,
              "#9c179e"
             ],
             [
              0.4444444444444444,
              "#bd3786"
             ],
             [
              0.5555555555555556,
              "#d8576b"
             ],
             [
              0.6666666666666666,
              "#ed7953"
             ],
             [
              0.7777777777777778,
              "#fb9f3a"
             ],
             [
              0.8888888888888888,
              "#fdca26"
             ],
             [
              1,
              "#f0f921"
             ]
            ],
            "type": "surface"
           }
          ],
          "table": [
           {
            "cells": {
             "fill": {
              "color": "#EBF0F8"
             },
             "line": {
              "color": "white"
             }
            },
            "header": {
             "fill": {
              "color": "#C8D4E3"
             },
             "line": {
              "color": "white"
             }
            },
            "type": "table"
           }
          ]
         },
         "layout": {
          "annotationdefaults": {
           "arrowcolor": "#2a3f5f",
           "arrowhead": 0,
           "arrowwidth": 1
          },
          "autotypenumbers": "strict",
          "coloraxis": {
           "colorbar": {
            "outlinewidth": 0,
            "ticks": ""
           }
          },
          "colorscale": {
           "diverging": [
            [
             0,
             "#8e0152"
            ],
            [
             0.1,
             "#c51b7d"
            ],
            [
             0.2,
             "#de77ae"
            ],
            [
             0.3,
             "#f1b6da"
            ],
            [
             0.4,
             "#fde0ef"
            ],
            [
             0.5,
             "#f7f7f7"
            ],
            [
             0.6,
             "#e6f5d0"
            ],
            [
             0.7,
             "#b8e186"
            ],
            [
             0.8,
             "#7fbc41"
            ],
            [
             0.9,
             "#4d9221"
            ],
            [
             1,
             "#276419"
            ]
           ],
           "sequential": [
            [
             0,
             "#0d0887"
            ],
            [
             0.1111111111111111,
             "#46039f"
            ],
            [
             0.2222222222222222,
             "#7201a8"
            ],
            [
             0.3333333333333333,
             "#9c179e"
            ],
            [
             0.4444444444444444,
             "#bd3786"
            ],
            [
             0.5555555555555556,
             "#d8576b"
            ],
            [
             0.6666666666666666,
             "#ed7953"
            ],
            [
             0.7777777777777778,
             "#fb9f3a"
            ],
            [
             0.8888888888888888,
             "#fdca26"
            ],
            [
             1,
             "#f0f921"
            ]
           ],
           "sequentialminus": [
            [
             0,
             "#0d0887"
            ],
            [
             0.1111111111111111,
             "#46039f"
            ],
            [
             0.2222222222222222,
             "#7201a8"
            ],
            [
             0.3333333333333333,
             "#9c179e"
            ],
            [
             0.4444444444444444,
             "#bd3786"
            ],
            [
             0.5555555555555556,
             "#d8576b"
            ],
            [
             0.6666666666666666,
             "#ed7953"
            ],
            [
             0.7777777777777778,
             "#fb9f3a"
            ],
            [
             0.8888888888888888,
             "#fdca26"
            ],
            [
             1,
             "#f0f921"
            ]
           ]
          },
          "colorway": [
           "#636efa",
           "#EF553B",
           "#00cc96",
           "#ab63fa",
           "#FFA15A",
           "#19d3f3",
           "#FF6692",
           "#B6E880",
           "#FF97FF",
           "#FECB52"
          ],
          "font": {
           "color": "#2a3f5f"
          },
          "geo": {
           "bgcolor": "white",
           "lakecolor": "white",
           "landcolor": "#E5ECF6",
           "showlakes": true,
           "showland": true,
           "subunitcolor": "white"
          },
          "hoverlabel": {
           "align": "left"
          },
          "hovermode": "closest",
          "mapbox": {
           "style": "light"
          },
          "paper_bgcolor": "white",
          "plot_bgcolor": "#E5ECF6",
          "polar": {
           "angularaxis": {
            "gridcolor": "white",
            "linecolor": "white",
            "ticks": ""
           },
           "bgcolor": "#E5ECF6",
           "radialaxis": {
            "gridcolor": "white",
            "linecolor": "white",
            "ticks": ""
           }
          },
          "scene": {
           "xaxis": {
            "backgroundcolor": "#E5ECF6",
            "gridcolor": "white",
            "gridwidth": 2,
            "linecolor": "white",
            "showbackground": true,
            "ticks": "",
            "zerolinecolor": "white"
           },
           "yaxis": {
            "backgroundcolor": "#E5ECF6",
            "gridcolor": "white",
            "gridwidth": 2,
            "linecolor": "white",
            "showbackground": true,
            "ticks": "",
            "zerolinecolor": "white"
           },
           "zaxis": {
            "backgroundcolor": "#E5ECF6",
            "gridcolor": "white",
            "gridwidth": 2,
            "linecolor": "white",
            "showbackground": true,
            "ticks": "",
            "zerolinecolor": "white"
           }
          },
          "shapedefaults": {
           "line": {
            "color": "#2a3f5f"
           }
          },
          "ternary": {
           "aaxis": {
            "gridcolor": "white",
            "linecolor": "white",
            "ticks": ""
           },
           "baxis": {
            "gridcolor": "white",
            "linecolor": "white",
            "ticks": ""
           },
           "bgcolor": "#E5ECF6",
           "caxis": {
            "gridcolor": "white",
            "linecolor": "white",
            "ticks": ""
           }
          },
          "title": {
           "x": 0.05
          },
          "xaxis": {
           "automargin": true,
           "gridcolor": "white",
           "linecolor": "white",
           "ticks": "",
           "title": {
            "standoff": 15
           },
           "zerolinecolor": "white",
           "zerolinewidth": 2
          },
          "yaxis": {
           "automargin": true,
           "gridcolor": "white",
           "linecolor": "white",
           "ticks": "",
           "title": {
            "standoff": 15
           },
           "zerolinecolor": "white",
           "zerolinewidth": 2
          }
         }
        },
        "title": {
         "text": "Optimization History Plot"
        },
        "xaxis": {
         "title": {
          "text": "Trial"
         }
        },
        "yaxis": {
         "title": {
          "text": "Objective Value"
         }
        }
       }
      }
     },
     "metadata": {},
     "output_type": "display_data"
    }
   ],
   "source": [
    "import optuna.visualization as vis\n",
    "\n",
    "vis.plot_optimization_history(study_wv)\n"
   ]
  },
  {
   "cell_type": "code",
   "execution_count": 50,
   "metadata": {},
   "outputs": [],
   "source": [
    "# Conjunto final de entrenamiento\n",
    "\n",
    "train_final = df_full[df_full['periodo'] <= pd.to_datetime('2019-11-01')]\n",
    "train_final = train_final[train_final['tn_t_plus_2'].notnull()]\n",
    "test_final = df_full[df_full['periodo'] == pd.to_datetime('2019-12-01')]\n",
    "\n",
    "X_train = train_final[feature_cols]\n",
    "y_train = train_final['tn_t_plus_2']\n",
    "\n",
    "X_test = test_final[feature_cols]\n",
    "\n"
   ]
  },
  {
   "cell_type": "code",
   "execution_count": 51,
   "metadata": {},
   "outputs": [
    {
     "name": "stdout",
     "output_type": "stream",
     "text": [
      "[LightGBM] [Info] Auto-choosing row-wise multi-threading, the overhead of testing was 0.570153 seconds.\n",
      "You can set `force_row_wise=true` to remove the overhead.\n",
      "And if memory is not enough, you can set `force_col_wise=true`.\n",
      "[LightGBM] [Info] Total Bins 10162\n",
      "[LightGBM] [Info] Number of data points in the train set: 15741687, number of used features: 44\n",
      "[LightGBM] [Info] Start training from score 0.078829\n"
     ]
    },
    {
     "data": {
      "text/html": [
       "<style>#sk-container-id-3 {\n",
       "  /* Definition of color scheme common for light and dark mode */\n",
       "  --sklearn-color-text: #000;\n",
       "  --sklearn-color-text-muted: #666;\n",
       "  --sklearn-color-line: gray;\n",
       "  /* Definition of color scheme for unfitted estimators */\n",
       "  --sklearn-color-unfitted-level-0: #fff5e6;\n",
       "  --sklearn-color-unfitted-level-1: #f6e4d2;\n",
       "  --sklearn-color-unfitted-level-2: #ffe0b3;\n",
       "  --sklearn-color-unfitted-level-3: chocolate;\n",
       "  /* Definition of color scheme for fitted estimators */\n",
       "  --sklearn-color-fitted-level-0: #f0f8ff;\n",
       "  --sklearn-color-fitted-level-1: #d4ebff;\n",
       "  --sklearn-color-fitted-level-2: #b3dbfd;\n",
       "  --sklearn-color-fitted-level-3: cornflowerblue;\n",
       "\n",
       "  /* Specific color for light theme */\n",
       "  --sklearn-color-text-on-default-background: var(--sg-text-color, var(--theme-code-foreground, var(--jp-content-font-color1, black)));\n",
       "  --sklearn-color-background: var(--sg-background-color, var(--theme-background, var(--jp-layout-color0, white)));\n",
       "  --sklearn-color-border-box: var(--sg-text-color, var(--theme-code-foreground, var(--jp-content-font-color1, black)));\n",
       "  --sklearn-color-icon: #696969;\n",
       "\n",
       "  @media (prefers-color-scheme: dark) {\n",
       "    /* Redefinition of color scheme for dark theme */\n",
       "    --sklearn-color-text-on-default-background: var(--sg-text-color, var(--theme-code-foreground, var(--jp-content-font-color1, white)));\n",
       "    --sklearn-color-background: var(--sg-background-color, var(--theme-background, var(--jp-layout-color0, #111)));\n",
       "    --sklearn-color-border-box: var(--sg-text-color, var(--theme-code-foreground, var(--jp-content-font-color1, white)));\n",
       "    --sklearn-color-icon: #878787;\n",
       "  }\n",
       "}\n",
       "\n",
       "#sk-container-id-3 {\n",
       "  color: var(--sklearn-color-text);\n",
       "}\n",
       "\n",
       "#sk-container-id-3 pre {\n",
       "  padding: 0;\n",
       "}\n",
       "\n",
       "#sk-container-id-3 input.sk-hidden--visually {\n",
       "  border: 0;\n",
       "  clip: rect(1px 1px 1px 1px);\n",
       "  clip: rect(1px, 1px, 1px, 1px);\n",
       "  height: 1px;\n",
       "  margin: -1px;\n",
       "  overflow: hidden;\n",
       "  padding: 0;\n",
       "  position: absolute;\n",
       "  width: 1px;\n",
       "}\n",
       "\n",
       "#sk-container-id-3 div.sk-dashed-wrapped {\n",
       "  border: 1px dashed var(--sklearn-color-line);\n",
       "  margin: 0 0.4em 0.5em 0.4em;\n",
       "  box-sizing: border-box;\n",
       "  padding-bottom: 0.4em;\n",
       "  background-color: var(--sklearn-color-background);\n",
       "}\n",
       "\n",
       "#sk-container-id-3 div.sk-container {\n",
       "  /* jupyter's `normalize.less` sets `[hidden] { display: none; }`\n",
       "     but bootstrap.min.css set `[hidden] { display: none !important; }`\n",
       "     so we also need the `!important` here to be able to override the\n",
       "     default hidden behavior on the sphinx rendered scikit-learn.org.\n",
       "     See: https://github.com/scikit-learn/scikit-learn/issues/21755 */\n",
       "  display: inline-block !important;\n",
       "  position: relative;\n",
       "}\n",
       "\n",
       "#sk-container-id-3 div.sk-text-repr-fallback {\n",
       "  display: none;\n",
       "}\n",
       "\n",
       "div.sk-parallel-item,\n",
       "div.sk-serial,\n",
       "div.sk-item {\n",
       "  /* draw centered vertical line to link estimators */\n",
       "  background-image: linear-gradient(var(--sklearn-color-text-on-default-background), var(--sklearn-color-text-on-default-background));\n",
       "  background-size: 2px 100%;\n",
       "  background-repeat: no-repeat;\n",
       "  background-position: center center;\n",
       "}\n",
       "\n",
       "/* Parallel-specific style estimator block */\n",
       "\n",
       "#sk-container-id-3 div.sk-parallel-item::after {\n",
       "  content: \"\";\n",
       "  width: 100%;\n",
       "  border-bottom: 2px solid var(--sklearn-color-text-on-default-background);\n",
       "  flex-grow: 1;\n",
       "}\n",
       "\n",
       "#sk-container-id-3 div.sk-parallel {\n",
       "  display: flex;\n",
       "  align-items: stretch;\n",
       "  justify-content: center;\n",
       "  background-color: var(--sklearn-color-background);\n",
       "  position: relative;\n",
       "}\n",
       "\n",
       "#sk-container-id-3 div.sk-parallel-item {\n",
       "  display: flex;\n",
       "  flex-direction: column;\n",
       "}\n",
       "\n",
       "#sk-container-id-3 div.sk-parallel-item:first-child::after {\n",
       "  align-self: flex-end;\n",
       "  width: 50%;\n",
       "}\n",
       "\n",
       "#sk-container-id-3 div.sk-parallel-item:last-child::after {\n",
       "  align-self: flex-start;\n",
       "  width: 50%;\n",
       "}\n",
       "\n",
       "#sk-container-id-3 div.sk-parallel-item:only-child::after {\n",
       "  width: 0;\n",
       "}\n",
       "\n",
       "/* Serial-specific style estimator block */\n",
       "\n",
       "#sk-container-id-3 div.sk-serial {\n",
       "  display: flex;\n",
       "  flex-direction: column;\n",
       "  align-items: center;\n",
       "  background-color: var(--sklearn-color-background);\n",
       "  padding-right: 1em;\n",
       "  padding-left: 1em;\n",
       "}\n",
       "\n",
       "\n",
       "/* Toggleable style: style used for estimator/Pipeline/ColumnTransformer box that is\n",
       "clickable and can be expanded/collapsed.\n",
       "- Pipeline and ColumnTransformer use this feature and define the default style\n",
       "- Estimators will overwrite some part of the style using the `sk-estimator` class\n",
       "*/\n",
       "\n",
       "/* Pipeline and ColumnTransformer style (default) */\n",
       "\n",
       "#sk-container-id-3 div.sk-toggleable {\n",
       "  /* Default theme specific background. It is overwritten whether we have a\n",
       "  specific estimator or a Pipeline/ColumnTransformer */\n",
       "  background-color: var(--sklearn-color-background);\n",
       "}\n",
       "\n",
       "/* Toggleable label */\n",
       "#sk-container-id-3 label.sk-toggleable__label {\n",
       "  cursor: pointer;\n",
       "  display: flex;\n",
       "  width: 100%;\n",
       "  margin-bottom: 0;\n",
       "  padding: 0.5em;\n",
       "  box-sizing: border-box;\n",
       "  text-align: center;\n",
       "  align-items: start;\n",
       "  justify-content: space-between;\n",
       "  gap: 0.5em;\n",
       "}\n",
       "\n",
       "#sk-container-id-3 label.sk-toggleable__label .caption {\n",
       "  font-size: 0.6rem;\n",
       "  font-weight: lighter;\n",
       "  color: var(--sklearn-color-text-muted);\n",
       "}\n",
       "\n",
       "#sk-container-id-3 label.sk-toggleable__label-arrow:before {\n",
       "  /* Arrow on the left of the label */\n",
       "  content: \"▸\";\n",
       "  float: left;\n",
       "  margin-right: 0.25em;\n",
       "  color: var(--sklearn-color-icon);\n",
       "}\n",
       "\n",
       "#sk-container-id-3 label.sk-toggleable__label-arrow:hover:before {\n",
       "  color: var(--sklearn-color-text);\n",
       "}\n",
       "\n",
       "/* Toggleable content - dropdown */\n",
       "\n",
       "#sk-container-id-3 div.sk-toggleable__content {\n",
       "  max-height: 0;\n",
       "  max-width: 0;\n",
       "  overflow: hidden;\n",
       "  text-align: left;\n",
       "  /* unfitted */\n",
       "  background-color: var(--sklearn-color-unfitted-level-0);\n",
       "}\n",
       "\n",
       "#sk-container-id-3 div.sk-toggleable__content.fitted {\n",
       "  /* fitted */\n",
       "  background-color: var(--sklearn-color-fitted-level-0);\n",
       "}\n",
       "\n",
       "#sk-container-id-3 div.sk-toggleable__content pre {\n",
       "  margin: 0.2em;\n",
       "  border-radius: 0.25em;\n",
       "  color: var(--sklearn-color-text);\n",
       "  /* unfitted */\n",
       "  background-color: var(--sklearn-color-unfitted-level-0);\n",
       "}\n",
       "\n",
       "#sk-container-id-3 div.sk-toggleable__content.fitted pre {\n",
       "  /* unfitted */\n",
       "  background-color: var(--sklearn-color-fitted-level-0);\n",
       "}\n",
       "\n",
       "#sk-container-id-3 input.sk-toggleable__control:checked~div.sk-toggleable__content {\n",
       "  /* Expand drop-down */\n",
       "  max-height: 200px;\n",
       "  max-width: 100%;\n",
       "  overflow: auto;\n",
       "}\n",
       "\n",
       "#sk-container-id-3 input.sk-toggleable__control:checked~label.sk-toggleable__label-arrow:before {\n",
       "  content: \"▾\";\n",
       "}\n",
       "\n",
       "/* Pipeline/ColumnTransformer-specific style */\n",
       "\n",
       "#sk-container-id-3 div.sk-label input.sk-toggleable__control:checked~label.sk-toggleable__label {\n",
       "  color: var(--sklearn-color-text);\n",
       "  background-color: var(--sklearn-color-unfitted-level-2);\n",
       "}\n",
       "\n",
       "#sk-container-id-3 div.sk-label.fitted input.sk-toggleable__control:checked~label.sk-toggleable__label {\n",
       "  background-color: var(--sklearn-color-fitted-level-2);\n",
       "}\n",
       "\n",
       "/* Estimator-specific style */\n",
       "\n",
       "/* Colorize estimator box */\n",
       "#sk-container-id-3 div.sk-estimator input.sk-toggleable__control:checked~label.sk-toggleable__label {\n",
       "  /* unfitted */\n",
       "  background-color: var(--sklearn-color-unfitted-level-2);\n",
       "}\n",
       "\n",
       "#sk-container-id-3 div.sk-estimator.fitted input.sk-toggleable__control:checked~label.sk-toggleable__label {\n",
       "  /* fitted */\n",
       "  background-color: var(--sklearn-color-fitted-level-2);\n",
       "}\n",
       "\n",
       "#sk-container-id-3 div.sk-label label.sk-toggleable__label,\n",
       "#sk-container-id-3 div.sk-label label {\n",
       "  /* The background is the default theme color */\n",
       "  color: var(--sklearn-color-text-on-default-background);\n",
       "}\n",
       "\n",
       "/* On hover, darken the color of the background */\n",
       "#sk-container-id-3 div.sk-label:hover label.sk-toggleable__label {\n",
       "  color: var(--sklearn-color-text);\n",
       "  background-color: var(--sklearn-color-unfitted-level-2);\n",
       "}\n",
       "\n",
       "/* Label box, darken color on hover, fitted */\n",
       "#sk-container-id-3 div.sk-label.fitted:hover label.sk-toggleable__label.fitted {\n",
       "  color: var(--sklearn-color-text);\n",
       "  background-color: var(--sklearn-color-fitted-level-2);\n",
       "}\n",
       "\n",
       "/* Estimator label */\n",
       "\n",
       "#sk-container-id-3 div.sk-label label {\n",
       "  font-family: monospace;\n",
       "  font-weight: bold;\n",
       "  display: inline-block;\n",
       "  line-height: 1.2em;\n",
       "}\n",
       "\n",
       "#sk-container-id-3 div.sk-label-container {\n",
       "  text-align: center;\n",
       "}\n",
       "\n",
       "/* Estimator-specific */\n",
       "#sk-container-id-3 div.sk-estimator {\n",
       "  font-family: monospace;\n",
       "  border: 1px dotted var(--sklearn-color-border-box);\n",
       "  border-radius: 0.25em;\n",
       "  box-sizing: border-box;\n",
       "  margin-bottom: 0.5em;\n",
       "  /* unfitted */\n",
       "  background-color: var(--sklearn-color-unfitted-level-0);\n",
       "}\n",
       "\n",
       "#sk-container-id-3 div.sk-estimator.fitted {\n",
       "  /* fitted */\n",
       "  background-color: var(--sklearn-color-fitted-level-0);\n",
       "}\n",
       "\n",
       "/* on hover */\n",
       "#sk-container-id-3 div.sk-estimator:hover {\n",
       "  /* unfitted */\n",
       "  background-color: var(--sklearn-color-unfitted-level-2);\n",
       "}\n",
       "\n",
       "#sk-container-id-3 div.sk-estimator.fitted:hover {\n",
       "  /* fitted */\n",
       "  background-color: var(--sklearn-color-fitted-level-2);\n",
       "}\n",
       "\n",
       "/* Specification for estimator info (e.g. \"i\" and \"?\") */\n",
       "\n",
       "/* Common style for \"i\" and \"?\" */\n",
       "\n",
       ".sk-estimator-doc-link,\n",
       "a:link.sk-estimator-doc-link,\n",
       "a:visited.sk-estimator-doc-link {\n",
       "  float: right;\n",
       "  font-size: smaller;\n",
       "  line-height: 1em;\n",
       "  font-family: monospace;\n",
       "  background-color: var(--sklearn-color-background);\n",
       "  border-radius: 1em;\n",
       "  height: 1em;\n",
       "  width: 1em;\n",
       "  text-decoration: none !important;\n",
       "  margin-left: 0.5em;\n",
       "  text-align: center;\n",
       "  /* unfitted */\n",
       "  border: var(--sklearn-color-unfitted-level-1) 1pt solid;\n",
       "  color: var(--sklearn-color-unfitted-level-1);\n",
       "}\n",
       "\n",
       ".sk-estimator-doc-link.fitted,\n",
       "a:link.sk-estimator-doc-link.fitted,\n",
       "a:visited.sk-estimator-doc-link.fitted {\n",
       "  /* fitted */\n",
       "  border: var(--sklearn-color-fitted-level-1) 1pt solid;\n",
       "  color: var(--sklearn-color-fitted-level-1);\n",
       "}\n",
       "\n",
       "/* On hover */\n",
       "div.sk-estimator:hover .sk-estimator-doc-link:hover,\n",
       ".sk-estimator-doc-link:hover,\n",
       "div.sk-label-container:hover .sk-estimator-doc-link:hover,\n",
       ".sk-estimator-doc-link:hover {\n",
       "  /* unfitted */\n",
       "  background-color: var(--sklearn-color-unfitted-level-3);\n",
       "  color: var(--sklearn-color-background);\n",
       "  text-decoration: none;\n",
       "}\n",
       "\n",
       "div.sk-estimator.fitted:hover .sk-estimator-doc-link.fitted:hover,\n",
       ".sk-estimator-doc-link.fitted:hover,\n",
       "div.sk-label-container:hover .sk-estimator-doc-link.fitted:hover,\n",
       ".sk-estimator-doc-link.fitted:hover {\n",
       "  /* fitted */\n",
       "  background-color: var(--sklearn-color-fitted-level-3);\n",
       "  color: var(--sklearn-color-background);\n",
       "  text-decoration: none;\n",
       "}\n",
       "\n",
       "/* Span, style for the box shown on hovering the info icon */\n",
       ".sk-estimator-doc-link span {\n",
       "  display: none;\n",
       "  z-index: 9999;\n",
       "  position: relative;\n",
       "  font-weight: normal;\n",
       "  right: .2ex;\n",
       "  padding: .5ex;\n",
       "  margin: .5ex;\n",
       "  width: min-content;\n",
       "  min-width: 20ex;\n",
       "  max-width: 50ex;\n",
       "  color: var(--sklearn-color-text);\n",
       "  box-shadow: 2pt 2pt 4pt #999;\n",
       "  /* unfitted */\n",
       "  background: var(--sklearn-color-unfitted-level-0);\n",
       "  border: .5pt solid var(--sklearn-color-unfitted-level-3);\n",
       "}\n",
       "\n",
       ".sk-estimator-doc-link.fitted span {\n",
       "  /* fitted */\n",
       "  background: var(--sklearn-color-fitted-level-0);\n",
       "  border: var(--sklearn-color-fitted-level-3);\n",
       "}\n",
       "\n",
       ".sk-estimator-doc-link:hover span {\n",
       "  display: block;\n",
       "}\n",
       "\n",
       "/* \"?\"-specific style due to the `<a>` HTML tag */\n",
       "\n",
       "#sk-container-id-3 a.estimator_doc_link {\n",
       "  float: right;\n",
       "  font-size: 1rem;\n",
       "  line-height: 1em;\n",
       "  font-family: monospace;\n",
       "  background-color: var(--sklearn-color-background);\n",
       "  border-radius: 1rem;\n",
       "  height: 1rem;\n",
       "  width: 1rem;\n",
       "  text-decoration: none;\n",
       "  /* unfitted */\n",
       "  color: var(--sklearn-color-unfitted-level-1);\n",
       "  border: var(--sklearn-color-unfitted-level-1) 1pt solid;\n",
       "}\n",
       "\n",
       "#sk-container-id-3 a.estimator_doc_link.fitted {\n",
       "  /* fitted */\n",
       "  border: var(--sklearn-color-fitted-level-1) 1pt solid;\n",
       "  color: var(--sklearn-color-fitted-level-1);\n",
       "}\n",
       "\n",
       "/* On hover */\n",
       "#sk-container-id-3 a.estimator_doc_link:hover {\n",
       "  /* unfitted */\n",
       "  background-color: var(--sklearn-color-unfitted-level-3);\n",
       "  color: var(--sklearn-color-background);\n",
       "  text-decoration: none;\n",
       "}\n",
       "\n",
       "#sk-container-id-3 a.estimator_doc_link.fitted:hover {\n",
       "  /* fitted */\n",
       "  background-color: var(--sklearn-color-fitted-level-3);\n",
       "}\n",
       "</style><div id=\"sk-container-id-3\" class=\"sk-top-container\"><div class=\"sk-text-repr-fallback\"><pre>LGBMRegressor(colsample_bytree=0.5149387950390263,\n",
       "              learning_rate=0.02767959737493024, max_depth=12, metric=&#x27;mse&#x27;,\n",
       "              n_estimators=1000, num_leaves=88, objective=&#x27;regression&#x27;,\n",
       "              subsample=0.866029950828112)</pre><b>In a Jupyter environment, please rerun this cell to show the HTML representation or trust the notebook. <br />On GitHub, the HTML representation is unable to render, please try loading this page with nbviewer.org.</b></div><div class=\"sk-container\" hidden><div class=\"sk-item\"><div class=\"sk-estimator fitted sk-toggleable\"><input class=\"sk-toggleable__control sk-hidden--visually\" id=\"sk-estimator-id-3\" type=\"checkbox\" checked><label for=\"sk-estimator-id-3\" class=\"sk-toggleable__label fitted sk-toggleable__label-arrow\"><div><div>LGBMRegressor</div></div><div><span class=\"sk-estimator-doc-link fitted\">i<span>Fitted</span></span></div></label><div class=\"sk-toggleable__content fitted\"><pre>LGBMRegressor(colsample_bytree=0.5149387950390263,\n",
       "              learning_rate=0.02767959737493024, max_depth=12, metric=&#x27;mse&#x27;,\n",
       "              n_estimators=1000, num_leaves=88, objective=&#x27;regression&#x27;,\n",
       "              subsample=0.866029950828112)</pre></div> </div></div></div></div>"
      ],
      "text/plain": [
       "LGBMRegressor(colsample_bytree=0.5149387950390263,\n",
       "              learning_rate=0.02767959737493024, max_depth=12, metric='mse',\n",
       "              n_estimators=1000, num_leaves=88, objective='regression',\n",
       "              subsample=0.866029950828112)"
      ]
     },
     "execution_count": 51,
     "metadata": {},
     "output_type": "execute_result"
    }
   ],
   "source": [
    "# Model final con los mejores parámetros\n",
    "\n",
    "best_params = study_wv.best_params\n",
    "best_params['objective'] = 'regression'\n",
    "best_params['metric'] = 'mse'\n",
    "best_params['n_estimators'] = 1000\n",
    "\n",
    "final_model = lgb.LGBMRegressor(**best_params)\n",
    "final_model.fit(X_train, y_train)\n"
   ]
  },
  {
   "cell_type": "markdown",
   "metadata": {},
   "source": [
    "Feature importance"
   ]
  },
  {
   "cell_type": "code",
   "execution_count": 52,
   "metadata": {},
   "outputs": [
    {
     "name": "stdout",
     "output_type": "stream",
     "text": [
      "                         feature  importance\n",
      "37  cust_request_qty_rollmean_12        6453\n",
      "36   cust_request_qty_rollmean_6        6307\n",
      "35   cust_request_qty_rollmean_3        5747\n",
      "32        cust_request_qty_lag_1        4447\n",
      "33        cust_request_qty_lag_2        4408\n",
      "34        cust_request_qty_lag_3        4354\n",
      "4                       tn_lag_4        2709\n",
      "10                     tn_lag_10        2551\n",
      "5                       tn_lag_5        2534\n",
      "1                       tn_lag_1        2424\n",
      "8                       tn_lag_8        2382\n",
      "6                       tn_lag_6        2352\n",
      "7                       tn_lag_7        2299\n",
      "11                     tn_lag_11        2208\n",
      "9                       tn_lag_9        2195\n",
      "15                     tn_lag_15        2008\n",
      "3                       tn_lag_3        1929\n",
      "39         cust_request_tn_lag_2        1893\n",
      "12                     tn_lag_12        1869\n",
      "2                       tn_lag_2        1852\n"
     ]
    }
   ],
   "source": [
    "\n",
    "# Obtener la importancia de las variables\n",
    "importancias = final_model.feature_importances_\n",
    "\n",
    "# Crear un DataFrame ordenado\n",
    "df_importancia = pd.DataFrame({\n",
    "    'feature': feature_cols,\n",
    "    'importance': importancias\n",
    "}).sort_values(by='importance', ascending=False)\n",
    "\n",
    "# Mostrar las 20 más importantes\n",
    "print(df_importancia.head(20))"
   ]
  },
  {
   "cell_type": "code",
   "execution_count": 53,
   "metadata": {},
   "outputs": [
    {
     "data": {
      "application/vnd.plotly.v1+json": {
       "config": {
        "plotlyServerURL": "https://plot.ly"
       },
       "data": [
        {
         "hovertemplate": "importance=%{x}<br>feature=%{y}<extra></extra>",
         "legendgroup": "",
         "marker": {
          "color": "#636efa",
          "pattern": {
           "shape": ""
          }
         },
         "name": "",
         "orientation": "h",
         "showlegend": false,
         "textposition": "auto",
         "type": "bar",
         "x": {
          "bdata": "UAAAAP4AAAABAQAACwEAABQBAAAqAQAAhgEAAIsBAAClAgAApgIAABcDAAAUBQAALAUAADoFAAA8BQAARwUAANIFAAAABgAAAgYAAAQGAABXBgAAwwYAAOYGAAAvBwAAPAcAAE0HAABlBwAAiQcAANgHAACTCAAAoAgAAPsIAAAwCQAATgkAAHgJAADmCQAA9wkAAJUKAAACEQAAOBEAAF8RAABzFgAAoxgAADUZAAA=",
          "dtype": "i4"
         },
         "xaxis": "x",
         "y": [
          "plan_precios_cuidados",
          "tn_rollmean_9",
          "tn_rollmean_15",
          "cust_request_tn_rollmean_12",
          "tn_rollmean_12",
          "tn_rollmean_18",
          "cust_request_tn_rollmean_6",
          "tn_rollmean_6",
          "tn_rollmean_3",
          "cust_request_tn_rollmean_3",
          "tn_rollsum_3",
          "tn_lag_21",
          "tn_lag_20",
          "tn_lag_18",
          "tn_lag_22",
          "tn_lag_23",
          "tn_lag_19",
          "tn_lag_16",
          "cust_request_tn_lag_3",
          "tn_lag_17",
          "tn_lag_24",
          "cust_request_tn_lag_1",
          "tn_lag_14",
          "tn_lag_13",
          "tn_lag_2",
          "tn_lag_12",
          "cust_request_tn_lag_2",
          "tn_lag_3",
          "tn_lag_15",
          "tn_lag_9",
          "tn_lag_11",
          "tn_lag_7",
          "tn_lag_6",
          "tn_lag_8",
          "tn_lag_1",
          "tn_lag_5",
          "tn_lag_10",
          "tn_lag_4",
          "cust_request_qty_lag_3",
          "cust_request_qty_lag_2",
          "cust_request_qty_lag_1",
          "cust_request_qty_rollmean_3",
          "cust_request_qty_rollmean_6",
          "cust_request_qty_rollmean_12"
         ],
         "yaxis": "y"
        }
       ],
       "layout": {
        "barmode": "relative",
        "height": 600,
        "legend": {
         "tracegroupgap": 0
        },
        "template": {
         "data": {
          "bar": [
           {
            "error_x": {
             "color": "#2a3f5f"
            },
            "error_y": {
             "color": "#2a3f5f"
            },
            "marker": {
             "line": {
              "color": "#E5ECF6",
              "width": 0.5
             },
             "pattern": {
              "fillmode": "overlay",
              "size": 10,
              "solidity": 0.2
             }
            },
            "type": "bar"
           }
          ],
          "barpolar": [
           {
            "marker": {
             "line": {
              "color": "#E5ECF6",
              "width": 0.5
             },
             "pattern": {
              "fillmode": "overlay",
              "size": 10,
              "solidity": 0.2
             }
            },
            "type": "barpolar"
           }
          ],
          "carpet": [
           {
            "aaxis": {
             "endlinecolor": "#2a3f5f",
             "gridcolor": "white",
             "linecolor": "white",
             "minorgridcolor": "white",
             "startlinecolor": "#2a3f5f"
            },
            "baxis": {
             "endlinecolor": "#2a3f5f",
             "gridcolor": "white",
             "linecolor": "white",
             "minorgridcolor": "white",
             "startlinecolor": "#2a3f5f"
            },
            "type": "carpet"
           }
          ],
          "choropleth": [
           {
            "colorbar": {
             "outlinewidth": 0,
             "ticks": ""
            },
            "type": "choropleth"
           }
          ],
          "contour": [
           {
            "colorbar": {
             "outlinewidth": 0,
             "ticks": ""
            },
            "colorscale": [
             [
              0,
              "#0d0887"
             ],
             [
              0.1111111111111111,
              "#46039f"
             ],
             [
              0.2222222222222222,
              "#7201a8"
             ],
             [
              0.3333333333333333,
              "#9c179e"
             ],
             [
              0.4444444444444444,
              "#bd3786"
             ],
             [
              0.5555555555555556,
              "#d8576b"
             ],
             [
              0.6666666666666666,
              "#ed7953"
             ],
             [
              0.7777777777777778,
              "#fb9f3a"
             ],
             [
              0.8888888888888888,
              "#fdca26"
             ],
             [
              1,
              "#f0f921"
             ]
            ],
            "type": "contour"
           }
          ],
          "contourcarpet": [
           {
            "colorbar": {
             "outlinewidth": 0,
             "ticks": ""
            },
            "type": "contourcarpet"
           }
          ],
          "heatmap": [
           {
            "colorbar": {
             "outlinewidth": 0,
             "ticks": ""
            },
            "colorscale": [
             [
              0,
              "#0d0887"
             ],
             [
              0.1111111111111111,
              "#46039f"
             ],
             [
              0.2222222222222222,
              "#7201a8"
             ],
             [
              0.3333333333333333,
              "#9c179e"
             ],
             [
              0.4444444444444444,
              "#bd3786"
             ],
             [
              0.5555555555555556,
              "#d8576b"
             ],
             [
              0.6666666666666666,
              "#ed7953"
             ],
             [
              0.7777777777777778,
              "#fb9f3a"
             ],
             [
              0.8888888888888888,
              "#fdca26"
             ],
             [
              1,
              "#f0f921"
             ]
            ],
            "type": "heatmap"
           }
          ],
          "histogram": [
           {
            "marker": {
             "pattern": {
              "fillmode": "overlay",
              "size": 10,
              "solidity": 0.2
             }
            },
            "type": "histogram"
           }
          ],
          "histogram2d": [
           {
            "colorbar": {
             "outlinewidth": 0,
             "ticks": ""
            },
            "colorscale": [
             [
              0,
              "#0d0887"
             ],
             [
              0.1111111111111111,
              "#46039f"
             ],
             [
              0.2222222222222222,
              "#7201a8"
             ],
             [
              0.3333333333333333,
              "#9c179e"
             ],
             [
              0.4444444444444444,
              "#bd3786"
             ],
             [
              0.5555555555555556,
              "#d8576b"
             ],
             [
              0.6666666666666666,
              "#ed7953"
             ],
             [
              0.7777777777777778,
              "#fb9f3a"
             ],
             [
              0.8888888888888888,
              "#fdca26"
             ],
             [
              1,
              "#f0f921"
             ]
            ],
            "type": "histogram2d"
           }
          ],
          "histogram2dcontour": [
           {
            "colorbar": {
             "outlinewidth": 0,
             "ticks": ""
            },
            "colorscale": [
             [
              0,
              "#0d0887"
             ],
             [
              0.1111111111111111,
              "#46039f"
             ],
             [
              0.2222222222222222,
              "#7201a8"
             ],
             [
              0.3333333333333333,
              "#9c179e"
             ],
             [
              0.4444444444444444,
              "#bd3786"
             ],
             [
              0.5555555555555556,
              "#d8576b"
             ],
             [
              0.6666666666666666,
              "#ed7953"
             ],
             [
              0.7777777777777778,
              "#fb9f3a"
             ],
             [
              0.8888888888888888,
              "#fdca26"
             ],
             [
              1,
              "#f0f921"
             ]
            ],
            "type": "histogram2dcontour"
           }
          ],
          "mesh3d": [
           {
            "colorbar": {
             "outlinewidth": 0,
             "ticks": ""
            },
            "type": "mesh3d"
           }
          ],
          "parcoords": [
           {
            "line": {
             "colorbar": {
              "outlinewidth": 0,
              "ticks": ""
             }
            },
            "type": "parcoords"
           }
          ],
          "pie": [
           {
            "automargin": true,
            "type": "pie"
           }
          ],
          "scatter": [
           {
            "fillpattern": {
             "fillmode": "overlay",
             "size": 10,
             "solidity": 0.2
            },
            "type": "scatter"
           }
          ],
          "scatter3d": [
           {
            "line": {
             "colorbar": {
              "outlinewidth": 0,
              "ticks": ""
             }
            },
            "marker": {
             "colorbar": {
              "outlinewidth": 0,
              "ticks": ""
             }
            },
            "type": "scatter3d"
           }
          ],
          "scattercarpet": [
           {
            "marker": {
             "colorbar": {
              "outlinewidth": 0,
              "ticks": ""
             }
            },
            "type": "scattercarpet"
           }
          ],
          "scattergeo": [
           {
            "marker": {
             "colorbar": {
              "outlinewidth": 0,
              "ticks": ""
             }
            },
            "type": "scattergeo"
           }
          ],
          "scattergl": [
           {
            "marker": {
             "colorbar": {
              "outlinewidth": 0,
              "ticks": ""
             }
            },
            "type": "scattergl"
           }
          ],
          "scattermap": [
           {
            "marker": {
             "colorbar": {
              "outlinewidth": 0,
              "ticks": ""
             }
            },
            "type": "scattermap"
           }
          ],
          "scattermapbox": [
           {
            "marker": {
             "colorbar": {
              "outlinewidth": 0,
              "ticks": ""
             }
            },
            "type": "scattermapbox"
           }
          ],
          "scatterpolar": [
           {
            "marker": {
             "colorbar": {
              "outlinewidth": 0,
              "ticks": ""
             }
            },
            "type": "scatterpolar"
           }
          ],
          "scatterpolargl": [
           {
            "marker": {
             "colorbar": {
              "outlinewidth": 0,
              "ticks": ""
             }
            },
            "type": "scatterpolargl"
           }
          ],
          "scatterternary": [
           {
            "marker": {
             "colorbar": {
              "outlinewidth": 0,
              "ticks": ""
             }
            },
            "type": "scatterternary"
           }
          ],
          "surface": [
           {
            "colorbar": {
             "outlinewidth": 0,
             "ticks": ""
            },
            "colorscale": [
             [
              0,
              "#0d0887"
             ],
             [
              0.1111111111111111,
              "#46039f"
             ],
             [
              0.2222222222222222,
              "#7201a8"
             ],
             [
              0.3333333333333333,
              "#9c179e"
             ],
             [
              0.4444444444444444,
              "#bd3786"
             ],
             [
              0.5555555555555556,
              "#d8576b"
             ],
             [
              0.6666666666666666,
              "#ed7953"
             ],
             [
              0.7777777777777778,
              "#fb9f3a"
             ],
             [
              0.8888888888888888,
              "#fdca26"
             ],
             [
              1,
              "#f0f921"
             ]
            ],
            "type": "surface"
           }
          ],
          "table": [
           {
            "cells": {
             "fill": {
              "color": "#EBF0F8"
             },
             "line": {
              "color": "white"
             }
            },
            "header": {
             "fill": {
              "color": "#C8D4E3"
             },
             "line": {
              "color": "white"
             }
            },
            "type": "table"
           }
          ]
         },
         "layout": {
          "annotationdefaults": {
           "arrowcolor": "#2a3f5f",
           "arrowhead": 0,
           "arrowwidth": 1
          },
          "autotypenumbers": "strict",
          "coloraxis": {
           "colorbar": {
            "outlinewidth": 0,
            "ticks": ""
           }
          },
          "colorscale": {
           "diverging": [
            [
             0,
             "#8e0152"
            ],
            [
             0.1,
             "#c51b7d"
            ],
            [
             0.2,
             "#de77ae"
            ],
            [
             0.3,
             "#f1b6da"
            ],
            [
             0.4,
             "#fde0ef"
            ],
            [
             0.5,
             "#f7f7f7"
            ],
            [
             0.6,
             "#e6f5d0"
            ],
            [
             0.7,
             "#b8e186"
            ],
            [
             0.8,
             "#7fbc41"
            ],
            [
             0.9,
             "#4d9221"
            ],
            [
             1,
             "#276419"
            ]
           ],
           "sequential": [
            [
             0,
             "#0d0887"
            ],
            [
             0.1111111111111111,
             "#46039f"
            ],
            [
             0.2222222222222222,
             "#7201a8"
            ],
            [
             0.3333333333333333,
             "#9c179e"
            ],
            [
             0.4444444444444444,
             "#bd3786"
            ],
            [
             0.5555555555555556,
             "#d8576b"
            ],
            [
             0.6666666666666666,
             "#ed7953"
            ],
            [
             0.7777777777777778,
             "#fb9f3a"
            ],
            [
             0.8888888888888888,
             "#fdca26"
            ],
            [
             1,
             "#f0f921"
            ]
           ],
           "sequentialminus": [
            [
             0,
             "#0d0887"
            ],
            [
             0.1111111111111111,
             "#46039f"
            ],
            [
             0.2222222222222222,
             "#7201a8"
            ],
            [
             0.3333333333333333,
             "#9c179e"
            ],
            [
             0.4444444444444444,
             "#bd3786"
            ],
            [
             0.5555555555555556,
             "#d8576b"
            ],
            [
             0.6666666666666666,
             "#ed7953"
            ],
            [
             0.7777777777777778,
             "#fb9f3a"
            ],
            [
             0.8888888888888888,
             "#fdca26"
            ],
            [
             1,
             "#f0f921"
            ]
           ]
          },
          "colorway": [
           "#636efa",
           "#EF553B",
           "#00cc96",
           "#ab63fa",
           "#FFA15A",
           "#19d3f3",
           "#FF6692",
           "#B6E880",
           "#FF97FF",
           "#FECB52"
          ],
          "font": {
           "color": "#2a3f5f"
          },
          "geo": {
           "bgcolor": "white",
           "lakecolor": "white",
           "landcolor": "#E5ECF6",
           "showlakes": true,
           "showland": true,
           "subunitcolor": "white"
          },
          "hoverlabel": {
           "align": "left"
          },
          "hovermode": "closest",
          "mapbox": {
           "style": "light"
          },
          "paper_bgcolor": "white",
          "plot_bgcolor": "#E5ECF6",
          "polar": {
           "angularaxis": {
            "gridcolor": "white",
            "linecolor": "white",
            "ticks": ""
           },
           "bgcolor": "#E5ECF6",
           "radialaxis": {
            "gridcolor": "white",
            "linecolor": "white",
            "ticks": ""
           }
          },
          "scene": {
           "xaxis": {
            "backgroundcolor": "#E5ECF6",
            "gridcolor": "white",
            "gridwidth": 2,
            "linecolor": "white",
            "showbackground": true,
            "ticks": "",
            "zerolinecolor": "white"
           },
           "yaxis": {
            "backgroundcolor": "#E5ECF6",
            "gridcolor": "white",
            "gridwidth": 2,
            "linecolor": "white",
            "showbackground": true,
            "ticks": "",
            "zerolinecolor": "white"
           },
           "zaxis": {
            "backgroundcolor": "#E5ECF6",
            "gridcolor": "white",
            "gridwidth": 2,
            "linecolor": "white",
            "showbackground": true,
            "ticks": "",
            "zerolinecolor": "white"
           }
          },
          "shapedefaults": {
           "line": {
            "color": "#2a3f5f"
           }
          },
          "ternary": {
           "aaxis": {
            "gridcolor": "white",
            "linecolor": "white",
            "ticks": ""
           },
           "baxis": {
            "gridcolor": "white",
            "linecolor": "white",
            "ticks": ""
           },
           "bgcolor": "#E5ECF6",
           "caxis": {
            "gridcolor": "white",
            "linecolor": "white",
            "ticks": ""
           }
          },
          "title": {
           "x": 0.05
          },
          "xaxis": {
           "automargin": true,
           "gridcolor": "white",
           "linecolor": "white",
           "ticks": "",
           "title": {
            "standoff": 15
           },
           "zerolinecolor": "white",
           "zerolinewidth": 2
          },
          "yaxis": {
           "automargin": true,
           "gridcolor": "white",
           "linecolor": "white",
           "ticks": "",
           "title": {
            "standoff": 15
           },
           "zerolinecolor": "white",
           "zerolinewidth": 2
          }
         }
        },
        "title": {
         "text": "Feature Importance - LightGBM"
        },
        "xaxis": {
         "anchor": "y",
         "domain": [
          0,
          1
         ],
         "title": {
          "text": "importance"
         }
        },
        "yaxis": {
         "anchor": "x",
         "domain": [
          0,
          1
         ],
         "title": {
          "text": "feature"
         }
        }
       }
      }
     },
     "metadata": {},
     "output_type": "display_data"
    }
   ],
   "source": [
    "import plotly.express as px\n",
    "# Ordenar descendente y mostrar todas las features\n",
    "df_importancia_sorted = df_importancia.sort_values(by='importance', ascending=True)\n",
    "fig = px.bar(\n",
    "    df_importancia_sorted,\n",
    "    x='importance',\n",
    "    y='feature',\n",
    "    orientation='h',\n",
    "    title='Feature Importance - LightGBM',\n",
    ")\n",
    "fig.update_layout(height=600)\n",
    "fig.show()\n",
    "\n"
   ]
  },
  {
   "cell_type": "code",
   "execution_count": 35,
   "metadata": {},
   "outputs": [],
   "source": [
    "#pip install shap"
   ]
  },
  {
   "cell_type": "code",
   "execution_count": 54,
   "metadata": {},
   "outputs": [
    {
     "data": {
      "image/png": "[encoded data removed]",
      "text/plain": [
       "<Figure size 800x950 with 1 Axes>"
      ]
     },
     "metadata": {},
     "output_type": "display_data"
    },
    {
     "data": {
      "image/png": "[encoded data removed]",
      "text/plain": [
       "<Figure size 800x950 with 2 Axes>"
      ]
     },
     "metadata": {},
     "output_type": "display_data"
    }
   ],
   "source": [
    "import shap\n",
    "\n",
    "# Explicador para modelos de LightGBM\n",
    "explainer = shap.TreeExplainer(final_model)\n",
    "shap_values = explainer.shap_values(X_test)\n",
    "\n",
    "# Resumen global de importancia (barplot)\n",
    "shap.summary_plot(shap_values, X_test, plot_type=\"bar\")\n",
    "\n",
    "# Resumen detallado (beeswarm)\n",
    "shap.summary_plot(shap_values, X_test)"
   ]
  },
  {
   "cell_type": "markdown",
   "metadata": {},
   "source": [
    "Predicciones para febrero 2020"
   ]
  },
  {
   "cell_type": "code",
   "execution_count": 58,
   "metadata": {},
   "outputs": [
    {
     "name": "stderr",
     "output_type": "stream",
     "text": [
      "/var/folders/jc/2ck28b4s2s96h7nsbqgph0zh0000gn/T/ipykernel_20046/424627630.py:2: SettingWithCopyWarning:\n",
      "\n",
      "\n",
      "A value is trying to be set on a copy of a slice from a DataFrame.\n",
      "Try using .loc[row_indexer,col_indexer] = value instead\n",
      "\n",
      "See the caveats in the documentation: https://pandas.pydata.org/pandas-docs/stable/user_guide/indexing.html#returning-a-view-versus-a-copy\n",
      "\n"
     ]
    }
   ],
   "source": [
    "# Predicciones\n",
    "test_final['tn_pred_202002'] = final_model.predict(X_test)\n",
    "\n"
   ]
  },
  {
   "cell_type": "markdown",
   "metadata": {},
   "source": [
    "Archivo para Kaggle"
   ]
  },
  {
   "cell_type": "code",
   "execution_count": 56,
   "metadata": {},
   "outputs": [
    {
     "data": {
      "text/plain": [
       "(780, 2)"
      ]
     },
     "execution_count": 56,
     "metadata": {},
     "output_type": "execute_result"
    }
   ],
   "source": [
    "# Ensamble\n",
    "# Cargar promedio ult 12M *0,98\n",
    "df_prom = pd.read_csv('Prom12M098.csv')\n",
    "#df_prom.head()\n",
    "df_prom.shape"
   ]
  },
  {
   "cell_type": "code",
   "execution_count": 57,
   "metadata": {},
   "outputs": [],
   "source": [
    "# Agregar por product_id\n",
    "submission_agg = test_final.groupby('product_id')['tn_pred_202002'].sum().reset_index()\n",
    "\n",
    "# Renombrar \n",
    "submission_agg.rename(columns={'tn_pred_202002': 'tn'}, inplace=True)\n",
    "\n",
    "# Merge con dataframe ids por product_id\n",
    "submission_agg2 = pd.merge(submission_agg, df_ids, on='product_id', how='inner')\n",
    "submission_agg3 = submission_agg2.copy()\n",
    "#submission_agg2.head()\n",
    "#submission_agg2.shape\n",
    "\n",
    "# Hago el promedio para el ensamble\n",
    "submission_agg3['tn'] = (df_prom['tn'] + submission_agg3['tn']) / 2\n",
    "#submission_agg2.head()\n",
    "\n",
    "# Exportar a CSV LightGBM & Ensamble\n",
    "submission_agg2.to_csv('submission.csv', index=False)\n",
    "submission_agg3.to_csv('submission_e.csv', index=False)"
   ]
  },
  {
   "cell_type": "markdown",
   "metadata": {},
   "source": [
    "df_full 2019 12 - predicción vs realidad"
   ]
  },
  {
   "cell_type": "code",
   "execution_count": null,
   "metadata": {},
   "outputs": [
    {
     "data": {
      "text/html": [
       "<div>\n",
       "<style scoped>\n",
       "    .dataframe tbody tr th:only-of-type {\n",
       "        vertical-align: middle;\n",
       "    }\n",
       "\n",
       "    .dataframe tbody tr th {\n",
       "        vertical-align: top;\n",
       "    }\n",
       "\n",
       "    .dataframe thead th {\n",
       "        text-align: right;\n",
       "    }\n",
       "</style>\n",
       "<table border=\"1\" class=\"dataframe\">\n",
       "  <thead>\n",
       "    <tr style=\"text-align: right;\">\n",
       "      <th></th>\n",
       "      <th>product_id</th>\n",
       "      <th>tn</th>\n",
       "    </tr>\n",
       "  </thead>\n",
       "  <tbody>\n",
       "    <tr>\n",
       "      <th>0</th>\n",
       "      <td>20001</td>\n",
       "      <td>1504.68856</td>\n",
       "    </tr>\n",
       "    <tr>\n",
       "      <th>1</th>\n",
       "      <td>20002</td>\n",
       "      <td>1087.30855</td>\n",
       "    </tr>\n",
       "    <tr>\n",
       "      <th>2</th>\n",
       "      <td>20003</td>\n",
       "      <td>892.50129</td>\n",
       "    </tr>\n",
       "    <tr>\n",
       "      <th>3</th>\n",
       "      <td>20004</td>\n",
       "      <td>637.90002</td>\n",
       "    </tr>\n",
       "    <tr>\n",
       "      <th>4</th>\n",
       "      <td>20005</td>\n",
       "      <td>593.24443</td>\n",
       "    </tr>\n",
       "  </tbody>\n",
       "</table>\n",
       "</div>"
      ],
      "text/plain": [
       "   product_id          tn\n",
       "0       20001  1504.68856\n",
       "1       20002  1087.30855\n",
       "2       20003   892.50129\n",
       "3       20004   637.90002\n",
       "4       20005   593.24443"
      ]
     },
     "execution_count": 40,
     "metadata": {},
     "output_type": "execute_result"
    }
   ],
   "source": [
    "'''# df_full 2019 12 - predicción vs realidad\n",
    "\n",
    "df_real = df_full[(df_full['periodo'] == pd.to_datetime('2019-12-01'))]\n",
    "\n",
    "# Agregar por product_id\n",
    "df_real = df_real.groupby('product_id')['tn'].sum().reset_index()\n",
    "\n",
    "df_real.head()'''"
   ]
  },
  {
   "cell_type": "code",
   "execution_count": null,
   "metadata": {},
   "outputs": [
    {
     "data": {
      "text/html": [
       "<div>\n",
       "<style scoped>\n",
       "    .dataframe tbody tr th:only-of-type {\n",
       "        vertical-align: middle;\n",
       "    }\n",
       "\n",
       "    .dataframe tbody tr th {\n",
       "        vertical-align: top;\n",
       "    }\n",
       "\n",
       "    .dataframe thead th {\n",
       "        text-align: right;\n",
       "    }\n",
       "</style>\n",
       "<table border=\"1\" class=\"dataframe\">\n",
       "  <thead>\n",
       "    <tr style=\"text-align: right;\">\n",
       "      <th></th>\n",
       "      <th>product_id</th>\n",
       "      <th>tn_x</th>\n",
       "      <th>tn_y</th>\n",
       "    </tr>\n",
       "  </thead>\n",
       "  <tbody>\n",
       "    <tr>\n",
       "      <th>0</th>\n",
       "      <td>20001</td>\n",
       "      <td>1504.68856</td>\n",
       "      <td>1133.409448</td>\n",
       "    </tr>\n",
       "    <tr>\n",
       "      <th>1</th>\n",
       "      <td>20002</td>\n",
       "      <td>1087.30855</td>\n",
       "      <td>822.800399</td>\n",
       "    </tr>\n",
       "    <tr>\n",
       "      <th>2</th>\n",
       "      <td>20003</td>\n",
       "      <td>892.50129</td>\n",
       "      <td>661.516040</td>\n",
       "    </tr>\n",
       "    <tr>\n",
       "      <th>3</th>\n",
       "      <td>20004</td>\n",
       "      <td>637.90002</td>\n",
       "      <td>545.372065</td>\n",
       "    </tr>\n",
       "    <tr>\n",
       "      <th>4</th>\n",
       "      <td>20005</td>\n",
       "      <td>593.24443</td>\n",
       "      <td>566.507833</td>\n",
       "    </tr>\n",
       "  </tbody>\n",
       "</table>\n",
       "</div>"
      ],
      "text/plain": [
       "   product_id        tn_x         tn_y\n",
       "0       20001  1504.68856  1133.409448\n",
       "1       20002  1087.30855   822.800399\n",
       "2       20003   892.50129   661.516040\n",
       "3       20004   637.90002   545.372065\n",
       "4       20005   593.24443   566.507833"
      ]
     },
     "execution_count": 41,
     "metadata": {},
     "output_type": "execute_result"
    }
   ],
   "source": [
    "'''# Merge con dataframe por product_id\n",
    "df_real = pd.merge(df_real, submission_agg2, on='product_id', how='inner')\n",
    "\n",
    "df_real.head()'''"
   ]
  },
  {
   "cell_type": "code",
   "execution_count": null,
   "metadata": {},
   "outputs": [
    {
     "data": {
      "image/png": "[encoded data removed]",
      "text/plain": [
       "<Figure size 800x600 with 1 Axes>"
      ]
     },
     "metadata": {},
     "output_type": "display_data"
    }
   ],
   "source": [
    "'''import matplotlib.pyplot as plt\n",
    "\n",
    "\n",
    "plt.figure(figsize=(8, 6))\n",
    "plt.scatter(df_real['tn_x'], df_real['tn_y'], alpha=0.6)\n",
    "plt.plot([df_real['tn_x'].min(), df_real['tn_x'].max()],\n",
    "         [df_real['tn_x'].min(), df_real['tn_x'].max()],\n",
    "         'r--', label='Perfecta predicción')\n",
    "plt.xlabel('Ventas reales (tn) 2019-12')\n",
    "plt.ylabel('Predicción modelo (tn) 2019-12')\n",
    "plt.title('Comparación: Real vs Predicción')\n",
    "plt.legend()\n",
    "plt.grid(True)\n",
    "plt.show()'''"
   ]
  },
  {
   "cell_type": "code",
   "execution_count": null,
   "metadata": {},
   "outputs": [
    {
     "data": {
      "application/vnd.plotly.v1+json": {
       "config": {
        "plotlyServerURL": "https://plot.ly"
       },
       "data": [
        {
         "customdata": {
          "bdata": "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",
          "dtype": "i2",
          "shape": "780, 1"
         },
         "hovertemplate": "Ventas reales (tn) 2019-12=%{x}<br>Predicción modelo (tn) 2019-12=%{y}<br>product_id=%{customdata[0]}<extra></extra>",
         "legendgroup": "",
         "marker": {
          "color": "#636efa",
          "symbol": "circle"
         },
         "mode": "markers",
         "name": "",
         "orientation": "v",
         "showlegend": false,
         "type": "scatter",
         "x": {
          "bdata": "VmXfFcGCl0C5/If0O/2QQH/eVKQC5ItA+I2vPTPvg0BKQbeX9ImCQD24O2u3E3pA+z+H+fJmeECS6GUUy2toQIwyG2SS8H5AEeSghJl5dkA3GsBbIIZ4QIBlpUkppGVAcAhVanbhc0DRBfUtcwBxQHsxlBNtlHJANdJSeTsTcUAj88gfDB1rQCbChqdXtGFAu0T11sD4dUDgSnZsBKFwQEFl/PuMeGlAuycPC7VaakB6/N6mP6RmQAOV8e8z53BAw0zbv7I6bkA/UkSGVWNtQGowDcNHaGNAZY16iEZ7W0DA54cRwtRiQP8h/fZ1sFlADhXj/E19YUDi5H6HYn6AQCno9pLGMFhAgVt381R/ZkCd9L7xta9PQAZpxqLptWNAezGUE+0MYEAoJ9pVSEdcQMbE5uPaDF9ATFRvDWxxV0BsIchBCc9NQPIk6ZrJvGJARiV1Apq+YkCL4H8r2d9RQAPPvYdLNl9AaNDQP8FBXUBxd9Zuu45gQCmuKvuu4FdAMnIW9rRLYkD+ZffkYU1eQEbT2cngdlBAXf5D+u3bT0DLLa2GxKthQHqlLEMcdV1AF2AfnbrgW0CC4seYu5xaQOqymNh8vlZAthDkoIThWUAXK2owDX9TQKDDfHkB0l1A3Xu45LgfVkCoUrMHWjtXQIZVvJF5FGFATrnCu1wcUUAziuWWVjFaQFHaG3xhIkBAADrMlxeeXkB798d71YRYQDYC8bp+W1pA02pI3GMdUUCsVib8UktBQHMR34lZrztAVaTC2EKwIUB7SWO0jpBXQPksz4O7t1NATwZHyaurV0BZNJ2dDLJrQNhkjXqIQkVAR3cQO1NoVkD9vKlIhZVZQD4ipkQS/UFAhA1Pr5QPV0BS1QRR97lHQO4IpwUvUlJADcNHxJSQTUBz9Pi9TYc8QPqbUIiAH0ZAWipvRzilS0AvxVVl3+lMQIxK6gQ0EfY/hUIEHEIzUkBLqyFxjy0zQIHPDyOE/09AotEdxM6gUkByv0NRoINVQKPp7GRwLE1AXf5D+u3rTkCGPe3w13hXQOdvQiECxFpAv9TPm4oURkCjI7n8h6ZdQFyPwvUoBEJASBYwgVuTTkBKtU/HYyJCQPZ698d7DVJAz4jS3uC9U0D9h/Tb1ydQQOz17o/3kk1AmUf+YOANQ0D51RwgmMdHQMxAZfz7vFdAinYVUn5KZUAKur2kMXZKQKs+V1ux01RASP5g4LkLRECvtmJ/2dU+QNKpK5/l/UhAeekmMQhCWUAKou4DkMZCQJLLf0i/VTxAtKuQ8pO+SkBQjZduEhNNQGaDTDJy8kFATI47pYPtPUBJopdRLKdEQBFwCFVqWlBAfzUHCOZ4PkAGacai6ZRMQAXAeAYNrUlA1cqEX+pnRkAvL8A+Ou03QP5g4Ln3ZEhATmIQWDmgTkBs7BLVW+NLQGzPLAlQg0tAuAGfH0bkTkAHX5hMFZhFQK5H4XoUdkFA5Pc2/dm3SUCM22gAb9VRQCxIMxZNw0BA04IXfQXtRUCsIXGPpU8uQJhMFYxKGlBAAd4CCYrHVkDMf0i/fbUzQBxfe2ZJ4DdAFVeVfVeEOECL4H8r2dlDQHWw/s9hekJAH9eGinGuQEAMPPceLuE0QOC593DJeTRAGa2jqgkiOkB2ieqtgf0zQAisHFpk4zZA1VsDWyVMQECHbYsyG3Q1QAWLw5lf7ThALdSa5h2XQUBiLT4FwOg7QLh1N091aDZAKT+p9ungNEBRwkzbvyo6QN4f71UrezhAUPwYc9eaS0DvA5DaxCE9QKz/c5gvbzdA+KV+3lSEMkCxM4XOayQ0QE2+2ebGFDBA48KBkCxkTUCyEYjX9RswQEpjtI6qfjZA5EnSNZNrTUAkfzDw3CM3QCuk/KTaZyJAPMJpwYteP0D6J7hYURs3QKyL22gAdzNAiLoPQGoDNUCwj05d+UQ1QCjyJOmaqTBAnYU97fCnJkBJv30dOFtDQJ5GWipvJxRAvR3htOAtMkAbgXhdv1A1QA5Pr5RlSDxAzlMdcjPMQUC/Q1GgT2QTQBr6J7hYEUBA9dbAVglaQUCx3NJqSIQ9QKAy/n3GnTBAGFsIclAaNEAicY+lD4UzQFInoImwoSlAMGR1q+ckEEC8y0V8J3Y6QGuCqPsAnDhAcVXZd0UAIEArajANw5ctQAzqW+Z0aShAKA8LtaaJLkA5KGGm7XcxQBsS91j6UChA/OO9amWiMUBQwkzbv+JJQD6zJEBN3ShAHVVNEHXfRUCIhVrTvKM5QCUeUDbl2jRAW/CiryCVMEBxj6UPXVASQDOny2Jix0hAhlW8kXkEMkAH0zB8RPwnQBrdQexMITNABsB4Bg0dG0BtVn2utrIgQBXj/E0oVClAzO7Jw0LtKEDiBnx+GOEtQOONzCN/oDJARRK9jGI5I0ApBd1e0hgZQFj/5zBfBjFArd12obmeI0C8BRIUP6YpQC8012mkpSlAnG1uTE+YJ0DA7J48LFQRQLMpV3iXR0lAukkMAisfNUCF61G4HgUkQA1xrIvbkDVAjPhOzHqBI0BcyY6NQJwjQKfLYmLzMRhAoaF/goulMkAIrBxaZItBQIo8SbpmkiZAm1q21hc5JUA9D+7O2iUxQBx8YTJVoCBAXmOXqN7aAkCIY13cRmMyQNC4cCAkixdAm3KFd7mIBECK6q2BrSJAQAaGrG71DCtAfXTqymc5IECqz9VW7H8jQEKVmj3QKjJAuHU3T3UoO0CLjuTyH9oyQOnxe5v+pDBAlX1XBP87O0CF8GjjiKUtQKsEi8OZnydAoE/kSdL1KkB/3lSkwqA7QDihEAGHUBZAxr/PuHBoOEALur2kMeolQG4Xmus0EhVA63O1FftLL0BbttYXCc0nQCY7NgLxqiJAz2bV52obJkDXFwltOZcrQFafq63Y7ylAtpxLcVXZxz+rz9VW7I8nQEax3NJqOCFALq2GxD2mK0BKmGn7V0YgQBefAmA8IyBAlZ9U+3TsIED4/DBCePQnQM+9h0uO6ydA7MA5I0r7L0A+lj50Qe0tQMAEbt3NcydAkSxgArd2MUAxsfm4NtTzP5nwS/28KSxAqB3+mqxZMUAmHlA25YoaQIGyKVd4lyhARP8EFyuiOUASMSWS6KUrQDMzMzMzUzJA16NwPQrXJUD3zJIANVUsQPZiKCfaJStAK/uuCP53GkDYX3ZPHrY+QOYivhOzziVAxAjh0caxJEDvrN12oRkjQBkEVg4t0iRA1/oioS2nEkBfDOVEu4oRQNCbilQY+xxARKhSswe6HkBxGw3gLdAZQNTUsrW+SC1APL1SliE2MkB0JJf/kJ4iQAZM4NbdvB1Am49rQ8XYHEBPr5RliOMdQMFz7+GScyZAWyVYHM4sIUC1+BQA45kaQG+70FynRUFACfmgZ7OKIkDjiLX4FKg6QP7xXrUywRdA4JwRpb3B8D9agSGrW30jQIfEPZY+VCJAnrXbLjQ3LkC5jQbwFuglQBaHM7+agyJAsJRliGONJEAnFCLgEIoaQFovhnKijSdA2XxcGypGA0DtZHCUvEokQHL+JhQiQCJAfCdmvRiCPEABNbVsrW8TQEa28/3UeOs/PZtVn6uNHUDRs1n1udrgPxu7RPXWMCtAQwQcQpXqJ0BSmzi536HtPwNbJVgcrhVAJemayTcbIEDiQEgWMIH6P04QdR+A1O8/fa62Yn/ZFUD+DkWBPoEvQE34pX7ehCBAZXCUvDpHMEBATS1b6yNBQFHaG3xhyjdAxVVl3xUBIECP39v0Z58aQOxph78ma/E/8KKvIM34GECWJqWg21MwQJkSSfQyahhAsktUbw18NkAKur2kMdouQPZiKCfa5SFAWd3qOeltJEB2ieqtgW0MQMB4Bg39UwxA2zNLAtQUHUAEHEKVmr0dQJUrvMtFjCBAUcJM279yGkDmdFlMbE4jQDLJyFnYuzNAeJeL+E4MGEDsF+yGbWsVQBea6zTSsh9Ayk+qfTreFEDqW+Z0WXwhQHReY5eovhZACKwcWmQLIUBcrKjBNAz5P3KndLD+PyFAdRppqbwd3z9tc2N6wuInQHdKB+v/TClAZjGx+bj2GUA830+Nly4WQLNBJhk5OyFAfsaFAyFZF0CwrDQpBd3qP2h5HtydtfY/foy5awkZEEDSxhFr8anxP0jhehSuJyJAeH+8V62MKUAP7s7abRcXQHZPHhZqDRBAoyO5/If0G0BmvRjKiRYjQNC4cCAkSylALSY2H9eGHkD6m1CIgAMLQBlz1xLy4S9A/wQXK2pQK0D0+L1Nf/YeQEVHcvkPqQVAUps4ud/RKEDn49pQMY4ZQA+cM6K0VxVA4L4OnDMiKEDY9Qt2wxYYQLubpzrkRhdAE4PAyqHFGUCNtFTejmAgQBkcJa/OgSBAAg6hSs2+GUASa/EpAHYoQAnE6/oFeyhAz2vsEtW7EECYhuEjYooUQAVR9wFILQNA/g5FgT4xHEA7U+i8xq78P0OLbOf7qQtAbHh6pSyDHEASpb3BF6YUQDW1bK0vEtg/zTtO0ZHcHUAGgZVDi6wOQCApIsMqHhxAWaMeotHdBkCm1ZC4x7IpQECH+fICjBtADXGsi9tIHUBFniRdMzkPQB2xFp8C4ARAsFWCxeE8IkBPr5RliKMoQL+36c9+5CBAZRniWBe3C0ACK4cW2c4IQMPwETEl0i9AODKP/MFADUDbFmU2yGQcQL6HS447pdU/f0i/fR044z+YUSy3tPoaQNV46SYxGChAIuAQqtRcIEDnAMEcPf4RQOBKdmwE4s0/0vvG1545EkA4oRABh9D4P6SNI9biU+I/AMYzaOgfCkAbEvdY+tAeQLFoOjsZXCpAXANbJVi8GUAao3VUNcECQHCxogbTMN4/o1huaTVkIkCVK7zLRbwQQDdsW5TZ4AFAUPwYc9ciLEB87ZklAer1P7yReeQPphtAzCiWW1rtHEDBOSNKe+MSQLNeDOVEayRANxrAWyBhFUD/5zBfXrAiQPQ3oRABRwpAlgm/1M+bAkC0jqomiHoAQNdppKXythtAx2MGKuPf1z8BGM+gof8SQMwLsI9OrSBA7Q2+MJnqE0DhfyvZsdEFQPOrOUAwhwFAcLGiBtMwCEC62or9ZfcEQINuL2mMNhBAWJBmLJrO/j+9++O9apUtQDS6g9iZAgNA6s9+pIiMDUCB7PXuj3cLQDCBW3fz9BRA3dJqSNyjBEBTliGOdbENQIRHG0esRQtA/z7jwoHwHkCe76fGSzfNP+nUlc/yvAtA4umVsgwBJ0CitDf4wmTGPyAMPPcergdARbbz/dR4AUDFG5lH/mAEQJPBUfLqHOs/xcTm49pQC0CS6GUUy00iQC9pjNZRxSBAfEljtI4qAUBBSBYwgVsCQKAaL90kBtk/SkbOwp6WJEBgkzXqIboUQJsg6j4AqSFASb99HThnFUCamZmZmZnoP47k8h/Sb+4/bCbfbHMzI0Bjf9k9eVgCQFitTPil/h9A/3ivWpmwDUDlszwP7s4hQOXQItv5/hNAtYmT+x3KBED2l92Th0UIQEbrqGqC6AhA1CtlGeIYDkA7NgLxuj4AQJF++zpw7iJApfJ2hNOC8D9iEFg5tGgTQIUlHlA2RRFAfjoeM1BJIUBoImx4egUcQLByaJHtfPc/lj50QX3rEED2QCswZPX5PwcI5ujx+x5AEY3uIHbmIUCPwvUoXI+6P9C4cCAki/c/gnNGlPYG1z89D+7O2m35Pw1Uxr/P2BdA1hwgmKPH8T9uNIC3QAL2P96rVib8kgBA374OnDNiB0BG66hqgqj1Pzl/EwoRcO0/zvxqDhDM8T/Brbt5qkMPQJolAWpq2fQ/klz+Q/oNEUCwOJz51dwFQPFo44i1+PU/ZK93f7xXCECVSKKXURwhQFlpUgq6nRFAdmwE4nX9AkB3MjhKXn0RQNL7xtee2fc/HEKVmj3QA0CNQLyuX1AbQFKbOLnfodA/qYdodAcx+D+jO4idKXTuP8mwijcyTwRA0PI8uDtrxz96jV2iessVQNxLGqN1lAFAcy7FVWWfAEBCW86luKrmP6YKRiV1Qg1A4UVfQZpxB0DK/Q5FgT7jPw+XHHdKh/c/okCfyJMk9z+r7Lsi+B8FQMb5m1CIgAxA8G36sx8p5T+6oL5lTpf6Pw6EZAETuPA/VACMZ9BQ8D817zhFRzIBQCvB4nDmlwlAFk1nJ4Oj+T/7V1aalEIFQDT0T3Cxoug/SNxj6UNXGUDRrkLKT6r1P091yM1wA/k/WS+GcqLd/T8aqIx/n7EXQLsnDwu1pvw/QBh47j1c0j/ajxSRYZX8PwA6zJcX4ARARIZVvJF53j9e1y/YDdvxP0ZCW86lOAVAflLt0/GYzT9kARO4dTfvP1MFo5I6gf8/rd12obnO+z8Sa/EpAMboP2YUyy2txgFA4XoUrkfh4T+5UzpY/2fwP8HnhxHCowBA/G8lOzYC0z8clDDT9i8HQGu3XWiuU/Q//+cwX16ACECRRC+jWO70P08eFmpNc/E/6J/gYkWN8z9dxHdi1gv7PxHkoISZNvU/Ece6uI0G6j+9NbBVgkX0P7PSpBR0e/c/+8vuycPC9z+wyRr1EI3rP5xoVyHlp/c/0GG+vAB78T8hQfFjzF3xPy2yne+nRv4/kL3e/fGeAkDa/pWVJqXnP7iSHRuB+Pg/scQDyqY8EkBL6gQ0ETbnP96rVib80gtAWkdVE0RdAkC/YDdsW9QUQHK/Q1GgTwhAXwzlRLsK6T+wcmiR7fzwPy9RvTWwVQJA/g5FgT6R2z/Kw0Ktad4DQFXZd0Xwv/A/Bd1e0hitDUBl/PuMCwfhP/IMGvoneAhAeNFXkGZsB0AwL8A+OvX2P+tRuB6F6/0/cJnTZTFxDUAe/pqsUQ/FP3U8ZqAyfvA/i08BMJ5B6j/PoKF/gov7Pw2reCPzyOs/wf9WsmMjCUBO845TdCTdP6MeotEdxNo/fO2ZJQFq7D8ofoy5awnVP40o7Q2+MANAEEBqEyf34j8PtAJDVrfxP5lH/mDgueo/rUz4pX7e/z/Ox7WhYpzhP1N5O8Jpwfs/BOJ1/YLd+D9QU8vW+qL+P07udygK9Ns/B1+YTBUM+z8TRN0HILXjPx8pIsMq3sA/yJOkaybf5z9nRGlv8IXiP9GuQspPqsU/7C+7Jw8L3T+vQspPqn3CP5SHhVrTvMc/Yn/ZPXnY+D8JG55eKcvMP5sb0xOWeOw/+rMfKSLD4D9AahMn9zvcP72MYrml1e4/OtGuQsrP/D/V7IFWYMjvP4czv5oDhPE/pmH4iJgS3T8yOEpenWPoP19BmrFoOtk/aVch5SfV+z8BwRw9fm/hPzNt/8pKk8Y/E4PAyqFF9D+GyVTBqKThP3AlOzYC8fw/W7G/7J483D80gLdAguLbPyfVPh2PGf8/BoasbvWc5D8zUBn/PuP5P64NFeP8Tfw/MGmM1lHV3D/P1VbsL7vTP5xtbkxPWNo/fcucLouJ5D83VIzzN6HlP4V80LNZdf0/88gfDDz31D/zdoTTghfjP2QjEK/rF+g/fERMiSR6aT//lZUmpaDLP4BlpUkp6OU/QLyuX7Ab2D/Arbt5qkPeP2/YtiizQeQ/XwfOGVFa8D/7Bbth26K0PwlQU8vW+u8/AJF++zpw0j/AIVSp2YP1P5KumXyzzcU/vrwA++jU2z/Y8PRKWYbuP0rvG197Zvg/3dJqSNxj9z+r7Lsi+N/hPy/APjp15fc/5ssLsI9O0z/y6hwDslfyP667eapDbt4/LGUZ4lgX6T+UMNP2r6y0P0fJq3MMyNI/GLK61XPS4T9nlgSoqWW7P0pBt5c0Rtc/YMjqVs9J2T+An3HhQEjQP4mAQ6hSs78/otEdxM4Uzj+PGaiMf5/FP0JD/wQXK8I/GQRWDi2y1T9GCI82jljDP1ClZg+0Ars/8x/Sb18Hwj8aaam8HeGkP1hWmpSCbtM/G6N1VDVB3D9uxf6ye/LSP3sUrkfhepQ/rKjBNAwfsT/qW+Z0WUzEP/evrDQpBcE/fjoeM1AZtz9e7/54r1qJP3Gsi9toALc/w9MrZRniyD89uDtrt13AP99PjZduEsc/lSu8y0V8pz8/V1uxv+y+P9E/wcWKGrQ/mPp5U5EKuz+Gj4gpkUTPP4fhI2JKJKE/6IL6ljldlj8lehnFckuzPwspP6n26ag/Ox4zUBn/2j8R/G8lOzaiPw2reCPzyI8/QdR9AFKbmD9aEqCmlq2VP3O6LCY2H4c/KKCJsOHptT+AQ6hSsweKP7STwVHy6ow/uaXVkLjHkj+mCkYldQKKPxd9BWnGoqk/Y9F0djI4qj/GOH8TChGQP2kYPiKmRII/",
          "dtype": "f8"
         },
         "xaxis": "x",
         "y": {
          "bdata": "NG1yRqO1kUAYjYo3Z7aJQDb2ZNkgrIRAsGk9/fkKgUBm+pUKELSBQPQvpK2X93dAKERYQP1lfUD4aWo2Ld10QEvv6NzOQntAtw3CtoG6dUAV3N4UVq11QErFkKDY8nJAjosM8qXWekAu+26Ox+Z1QLJAHesHKnVArmDimnQHc0A0LxpQYg5sQCm8hw1mK21Au+ORQvMRdUBdtSJlZoxvQFf4dymW2GxALaT/524SbUB+9+I9S/VvQI5GSfJQzmlAqayo46oZaUAFzOCruJRuQJlpmIhuA2pAz81vSkBTZ0DjYfnwzfJlQIkY+475+1pAHfp0sZRTZEDb/vETwz98QCd+weTksWJAqntji/MVZEB7Ern5H7BiQI9GPVGvvmRAn60PwR+gX0DnKp2+wAxgQOxxAv0IzGFAWizQTSckX0AJfU+/idtiQOY+IuNNmWNAZ6wfJaf5X0DncTQcpuNiQG2j2pxIWGVAfk71PSVHXkAyzDls+lJhQHDjaY0eIFpA2XbNJLgCYUC9GPsew/VeQF6usjv13lZAZLc6ThCRX0B0BGTXbzJfQEqao6bdRltA7ILZng7bYECzB/+cpGFeQAin/3Amp1ZACncmW8PoWUBUmwIU8d1dQJGh8b8+CVxAJKFuteEXWEACiqAqHaNZQKv5fpXxA1xAZQIOT+guWEByLexWTo5aQKUcESj6XVRAYKPlWoWHW0CZS7CMMMlWQKwKmqBMQ15AlB3AKLu6VkCkO9OyWVhWQAirzvDT1UtA7SuAI3AbVkDRV1pH9MRUQCBmrTviV1BApGj3/4LcXECzVrhB4BRmQIxdWPsb9k9AFnStd0dUVEC+KGpp8bhjQJeJlz0FhlBA6esebekCV0BIII9enpNOQKEqDLysNFNAF7Nu0mBFV0BEQKss0ItWQPDWMw4PtFFAzjM22y7lT0DLNqOSNolQQCxZ33Muc1RA7xTGChiIUUAfISNSPA1BQEpnxPkFF1FAp990VoY0UEAvdW6JxWdWQJ7oIihGWVBA/vm3n8T0SUCPlCd5YiRTQF3biNG1j1NAhFKHcgtBTUD+jmHnfEpZQPpAW2C8t0VArsxbtacJTEBv4szCnshTQNm1jzYDjk9ApGEPtqwuVECJDn04KjlPQLxQnqlKYU1AJHfRtfsySEAvE7yyLv1OQPNw3PlPs1NANXJCSSl6a0CUlAEc+3xNQI7g7wZcnldA4vmbIyIATUClGxsZMANKQC0t85aZzUtAGL9Cj+ToVEA/M1FxbahIQItq+LfUhUJAHGpikolwS0Ah73gRBflPQLl19Bgtx0pAX3hKWhfSV0AtC71AGxZHQBaz1/eBLU5ADeRepzdnRkBP1Va2HSNQQI9ErQcKfFBArCDaPNjaR0CjySM+oKZHQEd+K3/1b0lAZjZWM+RzSEBrfHPk9WhJQCoeILC1eU1AAT9ZILAbUkCoYWq8UaVIQMhqTNUWRkpAAtCyNLkrSED2zhSv4X9MQJV9GFuPBkVAbaL4n3rZRED+qMrFlEM1QJTimmZNh1JAva8u/WCUXkBPAfGX2L9AQBxUYdvUTkFAT87aR3AGQUBe8sPmLBxAQDzormNpn0FAzb7JgiVkQUCezsnkcG5AQOZM2VaLjjdAbxQclM5uQECJ8sOwnpI/QNcv59YIWT9AgningYMPQkDn7C2ue7JCQCE0wK6K9z9A7C1ZSl0qQ0Cv1a6qg547QCglZjCbpkBAtofFM08PQECrEFgU4tk9QP7MkMrIGEFAlEUdwoCdRkCyoCBAS6s/QFkN2eSJJT1Ax2M9V5IFNEDMou+OeeQ8QNejAa0TqzlAySI+5pb8U0AU9StVKpk3QGR0RRw3TT1AHDUjw6M7UUDWBuB7UOA5QCCG0PwqWzRAkTzO5y1mP0Av7SkI7Fw2QOajrGP3DDdAe4E4YxWYNUDrykdP2CU+QGHLjDk7azRAKzXqQlaPNEDNArgzYphEQJl3Z6K+TyxA5Ws/7WitM0Ajs6PGGWs1QG72zZo0cEFAMUA0UTECPkBNT+RwYfwvQB37xSLZMkRA3RmTHroyVkDitjKqXFlHQKg/Ml5LGDVAI75B2yihNECae/ZrV+U1QAHrviXf8TRAO6XbUmWDL0CfLO4TaxgzQJ5/rXkYTDRAz2DFUeQPMECWTExD0/MzQFyktbKisTJAWQ9IgBcnNUA+EcnC9GE3QDqixlWqhCtAHsk4evrGMUAw+uXMNDZKQLWdtp7+vTNAQCGmcssqUEBy2ix5zRs5QKCNVYlgyjNAwMwT5GKTMED+PsVGUMMvQDbYNuHQ9EBAVXow7QSPM0CBFFj9lEEyQCXaKPOokC9AqC3lBvH2NEAjue90XaQxQKkMHMOtGjBAG2OnVFaRMECc1DZc1BIzQGqrzuRtlzFAnQG2hEhQMUDD+XOPuKstQM1KNQU8xjBAoP7g3jB+L0A4hvZ7DC0zQDlx5n1N/C5A2q7eO1Y6MEBjJEDKxAkwQOuqJSsvKUhAzFButrmHLkA8SN8/VCsxQJSFx2ChEjJAbXwSGrMBMUAaARVPdQEuQESwWQZwWjBA7MQ8GcokMEDEYFkHlEM5QGc2PdidxTFA97yVU7/2M0Ae4Bnlo4cvQEkQZC/yVi5AueXub3r0J0BWvD9gXTIyQKiXwjCroChArfJevGZ2JkChXqi5Igk3QOm22HQuvi5ABbZV/FUhLkDIoDqD/6AwQEf3Si3s2DJA5jBrdq6uOUByolE3ME0wQEgP1v0LtyxAGe2j6+84O0DHRnFrPWUsQESZ/71yMC5APBNXz7CELEB7HinFISs2QIQr5dGKiiRAnQKvn/cRPEDviBMYPtwrQBqTFqu+Wh9A5V7nFII1LEAd+KpN1/IqQLb0Tz4S3y9A9pZc9uIPK0BX6cc4qhkrQCyheLXspSpAmkmF8p6uMkCR7gjQQEArQMiArb/l8ilAjdO0xnBVMUAYs3C7l+AoQDdO8SSUHDRA14Ij2/BoJkCeSgBSKhMwQB1BXNGZGS5AQTS4E7ZuMUArTiVJaVwnQHGR64CQNDFA3TXR07DUKED5NgJf85MiQAS4nJaa2jRADmVPZJdUL0B9MbEcxmomQEmdqQZALSpA5KnEMrpzQ0DutKnRZxQsQJcgGC2VLSlAbgrmHGGFJkByVMw9d+AoQLtMNggWLzFAVlOmfOHPHkDssFhfO3U9QJzrR8mNmyZA0dMsoIE1KEDseFoZrBknQMkAhXRUETJATcq3wVPJI0CP9gDT7yAkQEWsibiv6ilAS6eMmibLMUCMBobO+loiQDBc8XRRySpAa5ezm1swLECX4fcvYYEiQMWhGemHByRAus2cwEC5J0DLPoHPiVUjQBnpSJCmkSdAEsA8Y7DEK0ATUYtpPyElQK/+ZP3/iD5ANdIn3yowJ0Dw3TuD9+MyQP1RkRDU3SJA6nq2ew62HUBXqsBpY1IkQMdCyNXv5yNAmwWYw0a8KUClAagLp9opQORc/3Ab1CJArYn/lY9lKEAWI5nyyEAiQGsWrEgQxy9AXYsWVywDG0DraEC+3oIiQMv9/KTfgSJAtHNj/sn0QEBhlkm4imkfQH9lnYAxSRpA3yj50gX5JkCsYgI7HfgaQM2kcLiwNCVA2QVVnq4hKED6LEfajY8bQCMC6oRUOSBAHTBGBTT/GUB1Hq8Rcy4cQC2vE8JUShpAWZK9/j3FIEDAGxkV5pgmQN+lr409JiJABd3yrEtuJkB5lkxpZwdBQAUtj8N0SDtAVjra99PdIECJ+GSLvYAhQOWPYCTX4RpAXsgqIr5aJEBmTn1YuzclQLL7g1/wMB9AT0andUIxOkCZd/GKSuowQDtNkaIbozBALv4uEjitJEATmFIKMTIdQAUMJWYwkh5AxSYLcMWmIEBmkd6Eoz0kQK4QfSHcTiFAN6COZFz5IEBJ7bYR3ygiQMPw2cKhWDpA/uEwGOF4KEAFkO1C1hQaQK5WlQoIUi1AZBYiTM/aGUCEaSIMACsiQB9okGtYzCBAsHrNly4xIECWKPsODUgYQCP0hDsZ3CZAM8nsGgyiF0AUO1H/OY0tQMn2gVfKAS9AIZi7Ony/HkAaoJ0jPEwcQNExJ3jnhSBAuEWmRqb5G0CR/Uv3MR4sQP9W16/yAhxAyrhIerzkFkDs+UiBGUkXQBX8G4AqODRAvv44db8wI0Djq1z+wG8cQO0u2n5sVxdAFk0G+bhSH0AjJ0TIICk2QKCrKQ9A3ihAtOFCDvBGK0Al2OnOX7scQFmSQ4oWjjNAYB2wdINRNUAGo3C1Q9opQFeCRxRzchdAIvZ0VZGaMkBYKxFu3RsZQMjGYSRx7hlAjaRt/Ut5MkCv0E4IjHAcQNrxlvXxFhhAdnPATweaKEBhz3+nDmsjQNVEeZiudR9AH5vdGXRzHECN9QH7EhoqQA5CQ1EnwTFAMGLKrYRJHUDZcOnE364WQOoSVEZYGhJADYOVa4IhKUCAzbrJS34YQC5xL3iv4StAoX77h0ZdKUCW0WmFqSkVQJX4rIkOixFA/UPFhFWnF0D4Kx4abqoaQO02786NlCRAFDPwRZHDE0C1EbPdhF4lQAj3nDsAchlAoEtBJhIMI0As21fzffUSQIag5mjugRRAisCdnTTqMEBFe1ll/wwgQBsvSnuLfTFA9jsW06SwFEB3ok9X8LMTQAOQJih8vy1AgmJWIDmZE0DAcKlXXkoZQO2hhvpR2RBAMudchirfEUAGXB7AQ1caQHS9tB5zbTFA14BaBGi+MUD3gRGYaLsRQEEV3ijRPhBA2Mc0QMnpE0AGMK0y0LoTQLnKJFvpsxFAaFhO18E6EUAasQWhNF8uQC/XUkdYmxxARJ1MiqYXFUDh6IRaIsEUQGnEMhxRaBFAzlc2H8RJJUAlTyLBNzUXQBuOR43FAw9A1JpXNFpGLUCz7BoNBs4QQIJqUB6r3ydAyLUY2eM7K0DKHjuZ+U8VQP2PbYpJyihAr3EuqkuXFEDSKW2HGswhQLhp76h0hhNAlgGwaqBSDUAAiiaLnh0PQJ/DiNOC/S1AQ9xldlrtDkC7zzV4TcYTQPBgg+aUTR1Au+Vc2T3kEkC7LNgzaAkQQEMsDk9iRA9AjfjZ7QYdEUC3/BiBT5IKQBSv9DKgbBZAVACbeK1nEUBR0o2auQM2QI2uLPFeWQ1ATm3S/RlHE0CYh2QB5j8SQL/sv7Tw3hFANV2jzXdWDUDT/DyNMHUOQJW+1mwv/BJANZ2SMQJwJkDZeHL63TEMQBJyrV/cAxNAQrp0dddTKEATET8Lab8KQD6hvJuthAxA0HoI3CQKEkCrIyVickQaQD/Mb6BSjRVAInJWKFk4EkAG63uhl3kpQLbykbFv4ytAI5visXB+BkBdH2yAz64KQChvcuQnEQtAuOOLyhEcHkDNztapZKATQLBaL0JAbStAisUKVfPeHkB8hrQJwkIJQFeGyt61bQxAnsKTOh91LkC908kZ8VcgQD/CHQVtuTVACBSb9NMtEECAwnwqJxIkQCigPOkfyA9A/M6CTQzWCkA5juDKeJUQQOKZkNhT8xFAhBtpnPxLEECn1lUdnkoIQJzt7C4/MC1AnXTOm42UD0CFZAv1bX0RQBRW3QM6Dw5A0WyqSSkdHUCGr7mxrZEnQNqLu2EJjAlA4M5ZvualEEA52HhXyfcHQJKBUAGxkSNABU6DNvChJUC94tIwx6UGQLTo0uDftAlAS09681lCEEBvI6cFLa0JQERnfVVZkSZAXnkf4TdPDUAg8byNbX8JQINYekElQg5AU/fynoSpDECym4bJqTQDQC18+VjHUAhAnRVkcmoHBkC73ypQc6kLQBBACnPxcAdAWjGDmf/EIUDbh3luN0gLQKsVw3A/7g1AftwjtOyEB0B/XlEunDwkQMUjoIRncQlAo5wSQQxbFUCzrJ9xcpIMQPg75PKpZAZAthH9DNC4CkBQROGzO/8fQAZmTzdE8QRAFtkRjZcFBkD2cAL5dCoDQGTNFSjIASVAcqWurmGUA0DZCehE+G8hQP7nDL1nHwpAxegBA2vmC0B7qoi3WjIHQF7tQgBcZBFAELwfoP4rIUClyMzIJtQGQJMSjG0/YP8/W4XKMwD6BECsWtXymM8LQBWzAAx3piBAWl3PtraSAUB3m+ZhjqYGQN0lndwacwFABGaDgAaWAkDrxeCxbVwIQB4wOuM8wAtA0H+8FpHfBkCV0QGDWA8PQBmlEWOVUARA1iW865xVIECPSOSH3RYYQHSQg9lcJgZAWpL00XN8BkAAKnivJ80dQB5Cft7IhAZAnb5k92IY/z+wrILRtiUCQMQQiNIBEB5ATgRmBSvdBEA433XeWdEAQKO3I8RajAhApY9BQX1ICEAMzOoZXawVQDtjH9zQSwRAMpxaFdc/BEAx4K/cv/0DQFU5GkwuTB9A2lT6eRxoA0Dpe1fJYcMEQCbnlLrzRwVAFCwpbXqBA0Dv+Lz/jB8PQCIz2x/iewVAHwBitKpQE0AGY/bk8NwFQHY97LgWiQNAXWIm6x9FA0CLdU5ckxkEQIorb6hkzgFASh5hyAdjAkDMP9769I0DQMa0UAmY4gJA2DqNHw/iAkBQZSgzaOT+PzLowkDs0QFACsVr6u6OFEDEw6THTbwBQLo3dypccwNA2wUVZGxIEkCLg39mDIoAQOfgGxAEagpAv5/DcQEoGkBXAxXqOYv7PzXZizFaniBAtfrtefsnCUAGLqNKdLAYQPLm0uWe7hdApUzkuALLAUDkVd+DNuoAQFXA/ZWRVAxAjoCgLB5HAUDA5hsoS+sUQPkeJxvUhf0/bB3v02bQEkAXAClMcVcAQJFcnAzVshZARKxJVwiwGkDZ6tw4HWP/P8gtmmoIghFAUQ9USyLRFED4p6y6Fkn6P+VXfHuTqv4/V76XYJSg/j9gHhE16j0QQD7qHowVbAFA06T7PyhqE0Ab/SaDN3X+P7kD/pLsgP0/WOGnOT9lAECiXtBfusgAQEUIF6ls8RRAOME5UB+G+D+iYDFMYzQAQBnamNHOmP4/xo+iM13GGkC9Le2fDSP+P5ZZ63cBVgpAcdRPez4vBUDrW8n9868RQCpjx6+TePs/gGc25Y7lGUBtlT+ZDR78P1MD4DwfCvw/fD0H4dGI+j98YC6BesH+P6A9T8JA6RBAHOImFVE7AUCmhlF7geH6PxemlKCkq/g/ZAw7Cr9iGUCLn3Mkiv78P1yC/uK1NAJAFBZTJmq+/T97qrmhzvD7P6bYJcBscg9AkIyDSzyUEEAudcrHDe78Py1vC35a+/4/Sx+6lTu5+j+/aMylWpwAQCtqgeoK5/s/21maTvzKBECxUXF9vbL6P19P8e2pU/g/Hc8kQUYEBECT41jun0z/P2T3Zzlvpg1AwsiVcEM0/T+Dl025Ya35P5juwIynYw1AuBjaxn/n/D8s/cobfWYMQHAfgNE5oQxA17eFLMEB9z9fLPqlrlT3PzfREjvVnvc/NdEEtHejAEBgOPZnAKD8P6DsbXOjHgtAnQxXh7teDUCS++e7uuj6P90Jr1F8zABAnlXscsB7CUAd3eK1p2T2Py8WLNFScAtASq8VYroZ+D/O1aZLpJT8P0qEnOShoAlAfZ2jZRXHEkBZ07PmPO72P25BgJHR4AZAq/Eryqqe/j8uvoZfQ1wJQIxfFjyjHQlAdK3NFDFF/T80MPWPrA0JQGMSr/4nswlAU8GBTHVRCUD9UU3dc+4GQD6gogvU1wlAxsLGdFZI9z+ohii3XWEIQNz7suIMR/o/dp2vwI5zBkAML48aC9L2P3REx3yvYARAURZ8+OQ0BkA37LyFEmL3P7SoF6lZLAdAungWIpRlB0D+jRR5k+35P8jrsSNjEwdATF6heVf+9j9eEtDw3RH2P7jWwYKIVfg/zsJ34mI9BEDuZilqvgn4PynJtS1Ll/U/sLEXevtM+D9eZONlX6X1P52tWMC5AARAi4COdC8s+D9X4U75Do8DQLD2PK36PfU/XKO2C0fO9D9Bp0YkOlH2P4L/EzkwHvc/xi6MNluY9T87Nmd1Iij0Pw9/qPmrq/Q/BqdeyCNnA0D1i8KNpPz2P3j1EC/exvc/WfP77n949D9OLYVApTL1P3Sx2vMfXfU/0HQCZSbM9D+xru/m46kQQIMJE67+WvQ//Yguw/ZA9D9aDd7PPIn1P8kx8/3JavU/J8uHUFMVA0AhxPFhoJf0P99QFFNI+PM/iuKtQr8h9D+4dqPA//bzP+rUAYo35vM/FWu0D6sN9j+Qqjggu+vzP58cIFfH7/M/wG8d45no8z+Nqbm9FvnzPxCocObpg/Q/xsEFCQN+9D9TfwIC9az0P+ydc97CHfQ/",
          "dtype": "f8"
         },
         "yaxis": "y"
        }
       ],
       "layout": {
        "legend": {
         "tracegroupgap": 0
        },
        "shapes": [
         {
          "line": {
           "color": "red",
           "dash": "dash"
          },
          "name": "Perfecta predicción",
          "type": "line",
          "x0": 0.00311,
          "x1": 1504.68856,
          "y0": 0.00311,
          "y1": 1504.68856
         }
        ],
        "template": {
         "data": {
          "bar": [
           {
            "error_x": {
             "color": "#2a3f5f"
            },
            "error_y": {
             "color": "#2a3f5f"
            },
            "marker": {
             "line": {
              "color": "#E5ECF6",
              "width": 0.5
             },
             "pattern": {
              "fillmode": "overlay",
              "size": 10,
              "solidity": 0.2
             }
            },
            "type": "bar"
           }
          ],
          "barpolar": [
           {
            "marker": {
             "line": {
              "color": "#E5ECF6",
              "width": 0.5
             },
             "pattern": {
              "fillmode": "overlay",
              "size": 10,
              "solidity": 0.2
             }
            },
            "type": "barpolar"
           }
          ],
          "carpet": [
           {
            "aaxis": {
             "endlinecolor": "#2a3f5f",
             "gridcolor": "white",
             "linecolor": "white",
             "minorgridcolor": "white",
             "startlinecolor": "#2a3f5f"
            },
            "baxis": {
             "endlinecolor": "#2a3f5f",
             "gridcolor": "white",
             "linecolor": "white",
             "minorgridcolor": "white",
             "startlinecolor": "#2a3f5f"
            },
            "type": "carpet"
           }
          ],
          "choropleth": [
           {
            "colorbar": {
             "outlinewidth": 0,
             "ticks": ""
            },
            "type": "choropleth"
           }
          ],
          "contour": [
           {
            "colorbar": {
             "outlinewidth": 0,
             "ticks": ""
            },
            "colorscale": [
             [
              0,
              "#0d0887"
             ],
             [
              0.1111111111111111,
              "#46039f"
             ],
             [
              0.2222222222222222,
              "#7201a8"
             ],
             [
              0.3333333333333333,
              "#9c179e"
             ],
             [
              0.4444444444444444,
              "#bd3786"
             ],
             [
              0.5555555555555556,
              "#d8576b"
             ],
             [
              0.6666666666666666,
              "#ed7953"
             ],
             [
              0.7777777777777778,
              "#fb9f3a"
             ],
             [
              0.8888888888888888,
              "#fdca26"
             ],
             [
              1,
              "#f0f921"
             ]
            ],
            "type": "contour"
           }
          ],
          "contourcarpet": [
           {
            "colorbar": {
             "outlinewidth": 0,
             "ticks": ""
            },
            "type": "contourcarpet"
           }
          ],
          "heatmap": [
           {
            "colorbar": {
             "outlinewidth": 0,
             "ticks": ""
            },
            "colorscale": [
             [
              0,
              "#0d0887"
             ],
             [
              0.1111111111111111,
              "#46039f"
             ],
             [
              0.2222222222222222,
              "#7201a8"
             ],
             [
              0.3333333333333333,
              "#9c179e"
             ],
             [
              0.4444444444444444,
              "#bd3786"
             ],
             [
              0.5555555555555556,
              "#d8576b"
             ],
             [
              0.6666666666666666,
              "#ed7953"
             ],
             [
              0.7777777777777778,
              "#fb9f3a"
             ],
             [
              0.8888888888888888,
              "#fdca26"
             ],
             [
              1,
              "#f0f921"
             ]
            ],
            "type": "heatmap"
           }
          ],
          "histogram": [
           {
            "marker": {
             "pattern": {
              "fillmode": "overlay",
              "size": 10,
              "solidity": 0.2
             }
            },
            "type": "histogram"
           }
          ],
          "histogram2d": [
           {
            "colorbar": {
             "outlinewidth": 0,
             "ticks": ""
            },
            "colorscale": [
             [
              0,
              "#0d0887"
             ],
             [
              0.1111111111111111,
              "#46039f"
             ],
             [
              0.2222222222222222,
              "#7201a8"
             ],
             [
              0.3333333333333333,
              "#9c179e"
             ],
             [
              0.4444444444444444,
              "#bd3786"
             ],
             [
              0.5555555555555556,
              "#d8576b"
             ],
             [
              0.6666666666666666,
              "#ed7953"
             ],
             [
              0.7777777777777778,
              "#fb9f3a"
             ],
             [
              0.8888888888888888,
              "#fdca26"
             ],
             [
              1,
              "#f0f921"
             ]
            ],
            "type": "histogram2d"
           }
          ],
          "histogram2dcontour": [
           {
            "colorbar": {
             "outlinewidth": 0,
             "ticks": ""
            },
            "colorscale": [
             [
              0,
              "#0d0887"
             ],
             [
              0.1111111111111111,
              "#46039f"
             ],
             [
              0.2222222222222222,
              "#7201a8"
             ],
             [
              0.3333333333333333,
              "#9c179e"
             ],
             [
              0.4444444444444444,
              "#bd3786"
             ],
             [
              0.5555555555555556,
              "#d8576b"
             ],
             [
              0.6666666666666666,
              "#ed7953"
             ],
             [
              0.7777777777777778,
              "#fb9f3a"
             ],
             [
              0.8888888888888888,
              "#fdca26"
             ],
             [
              1,
              "#f0f921"
             ]
            ],
            "type": "histogram2dcontour"
           }
          ],
          "mesh3d": [
           {
            "colorbar": {
             "outlinewidth": 0,
             "ticks": ""
            },
            "type": "mesh3d"
           }
          ],
          "parcoords": [
           {
            "line": {
             "colorbar": {
              "outlinewidth": 0,
              "ticks": ""
             }
            },
            "type": "parcoords"
           }
          ],
          "pie": [
           {
            "automargin": true,
            "type": "pie"
           }
          ],
          "scatter": [
           {
            "fillpattern": {
             "fillmode": "overlay",
             "size": 10,
             "solidity": 0.2
            },
            "type": "scatter"
           }
          ],
          "scatter3d": [
           {
            "line": {
             "colorbar": {
              "outlinewidth": 0,
              "ticks": ""
             }
            },
            "marker": {
             "colorbar": {
              "outlinewidth": 0,
              "ticks": ""
             }
            },
            "type": "scatter3d"
           }
          ],
          "scattercarpet": [
           {
            "marker": {
             "colorbar": {
              "outlinewidth": 0,
              "ticks": ""
             }
            },
            "type": "scattercarpet"
           }
          ],
          "scattergeo": [
           {
            "marker": {
             "colorbar": {
              "outlinewidth": 0,
              "ticks": ""
             }
            },
            "type": "scattergeo"
           }
          ],
          "scattergl": [
           {
            "marker": {
             "colorbar": {
              "outlinewidth": 0,
              "ticks": ""
             }
            },
            "type": "scattergl"
           }
          ],
          "scattermap": [
           {
            "marker": {
             "colorbar": {
              "outlinewidth": 0,
              "ticks": ""
             }
            },
            "type": "scattermap"
           }
          ],
          "scattermapbox": [
           {
            "marker": {
             "colorbar": {
              "outlinewidth": 0,
              "ticks": ""
             }
            },
            "type": "scattermapbox"
           }
          ],
          "scatterpolar": [
           {
            "marker": {
             "colorbar": {
              "outlinewidth": 0,
              "ticks": ""
             }
            },
            "type": "scatterpolar"
           }
          ],
          "scatterpolargl": [
           {
            "marker": {
             "colorbar": {
              "outlinewidth": 0,
              "ticks": ""
             }
            },
            "type": "scatterpolargl"
           }
          ],
          "scatterternary": [
           {
            "marker": {
             "colorbar": {
              "outlinewidth": 0,
              "ticks": ""
             }
            },
            "type": "scatterternary"
           }
          ],
          "surface": [
           {
            "colorbar": {
             "outlinewidth": 0,
             "ticks": ""
            },
            "colorscale": [
             [
              0,
              "#0d0887"
             ],
             [
              0.1111111111111111,
              "#46039f"
             ],
             [
              0.2222222222222222,
              "#7201a8"
             ],
             [
              0.3333333333333333,
              "#9c179e"
             ],
             [
              0.4444444444444444,
              "#bd3786"
             ],
             [
              0.5555555555555556,
              "#d8576b"
             ],
             [
              0.6666666666666666,
              "#ed7953"
             ],
             [
              0.7777777777777778,
              "#fb9f3a"
             ],
             [
              0.8888888888888888,
              "#fdca26"
             ],
             [
              1,
              "#f0f921"
             ]
            ],
            "type": "surface"
           }
          ],
          "table": [
           {
            "cells": {
             "fill": {
              "color": "#EBF0F8"
             },
             "line": {
              "color": "white"
             }
            },
            "header": {
             "fill": {
              "color": "#C8D4E3"
             },
             "line": {
              "color": "white"
             }
            },
            "type": "table"
           }
          ]
         },
         "layout": {
          "annotationdefaults": {
           "arrowcolor": "#2a3f5f",
           "arrowhead": 0,
           "arrowwidth": 1
          },
          "autotypenumbers": "strict",
          "coloraxis": {
           "colorbar": {
            "outlinewidth": 0,
            "ticks": ""
           }
          },
          "colorscale": {
           "diverging": [
            [
             0,
             "#8e0152"
            ],
            [
             0.1,
             "#c51b7d"
            ],
            [
             0.2,
             "#de77ae"
            ],
            [
             0.3,
             "#f1b6da"
            ],
            [
             0.4,
             "#fde0ef"
            ],
            [
             0.5,
             "#f7f7f7"
            ],
            [
             0.6,
             "#e6f5d0"
            ],
            [
             0.7,
             "#b8e186"
            ],
            [
             0.8,
             "#7fbc41"
            ],
            [
             0.9,
             "#4d9221"
            ],
            [
             1,
             "#276419"
            ]
           ],
           "sequential": [
            [
             0,
             "#0d0887"
            ],
            [
             0.1111111111111111,
             "#46039f"
            ],
            [
             0.2222222222222222,
             "#7201a8"
            ],
            [
             0.3333333333333333,
             "#9c179e"
            ],
            [
             0.4444444444444444,
             "#bd3786"
            ],
            [
             0.5555555555555556,
             "#d8576b"
            ],
            [
             0.6666666666666666,
             "#ed7953"
            ],
            [
             0.7777777777777778,
             "#fb9f3a"
            ],
            [
             0.8888888888888888,
             "#fdca26"
            ],
            [
             1,
             "#f0f921"
            ]
           ],
           "sequentialminus": [
            [
             0,
             "#0d0887"
            ],
            [
             0.1111111111111111,
             "#46039f"
            ],
            [
             0.2222222222222222,
             "#7201a8"
            ],
            [
             0.3333333333333333,
             "#9c179e"
            ],
            [
             0.4444444444444444,
             "#bd3786"
            ],
            [
             0.5555555555555556,
             "#d8576b"
            ],
            [
             0.6666666666666666,
             "#ed7953"
            ],
            [
             0.7777777777777778,
             "#fb9f3a"
            ],
            [
             0.8888888888888888,
             "#fdca26"
            ],
            [
             1,
             "#f0f921"
            ]
           ]
          },
          "colorway": [
           "#636efa",
           "#EF553B",
           "#00cc96",
           "#ab63fa",
           "#FFA15A",
           "#19d3f3",
           "#FF6692",
           "#B6E880",
           "#FF97FF",
           "#FECB52"
          ],
          "font": {
           "color": "#2a3f5f"
          },
          "geo": {
           "bgcolor": "white",
           "lakecolor": "white",
           "landcolor": "#E5ECF6",
           "showlakes": true,
           "showland": true,
           "subunitcolor": "white"
          },
          "hoverlabel": {
           "align": "left"
          },
          "hovermode": "closest",
          "mapbox": {
           "style": "light"
          },
          "paper_bgcolor": "white",
          "plot_bgcolor": "#E5ECF6",
          "polar": {
           "angularaxis": {
            "gridcolor": "white",
            "linecolor": "white",
            "ticks": ""
           },
           "bgcolor": "#E5ECF6",
           "radialaxis": {
            "gridcolor": "white",
            "linecolor": "white",
            "ticks": ""
           }
          },
          "scene": {
           "xaxis": {
            "backgroundcolor": "#E5ECF6",
            "gridcolor": "white",
            "gridwidth": 2,
            "linecolor": "white",
            "showbackground": true,
            "ticks": "",
            "zerolinecolor": "white"
           },
           "yaxis": {
            "backgroundcolor": "#E5ECF6",
            "gridcolor": "white",
            "gridwidth": 2,
            "linecolor": "white",
            "showbackground": true,
            "ticks": "",
            "zerolinecolor": "white"
           },
           "zaxis": {
            "backgroundcolor": "#E5ECF6",
            "gridcolor": "white",
            "gridwidth": 2,
            "linecolor": "white",
            "showbackground": true,
            "ticks": "",
            "zerolinecolor": "white"
           }
          },
          "shapedefaults": {
           "line": {
            "color": "#2a3f5f"
           }
          },
          "ternary": {
           "aaxis": {
            "gridcolor": "white",
            "linecolor": "white",
            "ticks": ""
           },
           "baxis": {
            "gridcolor": "white",
            "linecolor": "white",
            "ticks": ""
           },
           "bgcolor": "#E5ECF6",
           "caxis": {
            "gridcolor": "white",
            "linecolor": "white",
            "ticks": ""
           }
          },
          "title": {
           "x": 0.05
          },
          "xaxis": {
           "automargin": true,
           "gridcolor": "white",
           "linecolor": "white",
           "ticks": "",
           "title": {
            "standoff": 15
           },
           "zerolinecolor": "white",
           "zerolinewidth": 2
          },
          "yaxis": {
           "automargin": true,
           "gridcolor": "white",
           "linecolor": "white",
           "ticks": "",
           "title": {
            "standoff": 15
           },
           "zerolinecolor": "white",
           "zerolinewidth": 2
          }
         }
        },
        "title": {
         "text": "Comparación: Real vs Predicción (por producto)"
        },
        "xaxis": {
         "anchor": "y",
         "domain": [
          0,
          1
         ],
         "title": {
          "text": "Ventas reales (tn) 2019-12"
         }
        },
        "yaxis": {
         "anchor": "x",
         "domain": [
          0,
          1
         ],
         "title": {
          "text": "Predicción modelo (tn) 2019-12"
         }
        }
       }
      }
     },
     "metadata": {},
     "output_type": "display_data"
    }
   ],
   "source": [
    "'''import plotly.express as px\n",
    "\n",
    "fig = px.scatter(\n",
    "    df_real,\n",
    "    x='tn_x',\n",
    "    y='tn_y',\n",
    "    hover_data=['product_id'],\n",
    "    labels={\n",
    "        'tn_x': 'Ventas reales (tn) 2019-12',\n",
    "        'tn_y': 'Predicción modelo (tn) 2019-12'\n",
    "    },\n",
    "    title='Comparación: Real vs Predicción (por producto)'\n",
    ")\n",
    "\n",
    "# Línea de referencia de predicción perfecta\n",
    "fig.add_shape(\n",
    "    type='line',\n",
    "    x0=df_real['tn_x'].min(), y0=df_real['tn_x'].min(),\n",
    "    x1=df_real['tn_x'].max(), y1=df_real['tn_x'].max(),\n",
    "    line=dict(color='red', dash='dash'),\n",
    "    name='Perfecta predicción'\n",
    ")\n",
    "\n",
    "fig.show()'''"
   ]
  },
  {
   "cell_type": "code",
   "execution_count": null,
   "metadata": {},
   "outputs": [
    {
     "data": {
      "text/html": [
       "<div>\n",
       "<style scoped>\n",
       "    .dataframe tbody tr th:only-of-type {\n",
       "        vertical-align: middle;\n",
       "    }\n",
       "\n",
       "    .dataframe tbody tr th {\n",
       "        vertical-align: top;\n",
       "    }\n",
       "\n",
       "    .dataframe thead th {\n",
       "        text-align: right;\n",
       "    }\n",
       "</style>\n",
       "<table border=\"1\" class=\"dataframe\">\n",
       "  <thead>\n",
       "    <tr style=\"text-align: right;\">\n",
       "      <th></th>\n",
       "      <th>product_id</th>\n",
       "      <th>tn_x</th>\n",
       "      <th>tn_y</th>\n",
       "      <th>real-pred</th>\n",
       "      <th>err_abs</th>\n",
       "    </tr>\n",
       "  </thead>\n",
       "  <tbody>\n",
       "    <tr>\n",
       "      <th>0</th>\n",
       "      <td>20001</td>\n",
       "      <td>1504.68856</td>\n",
       "      <td>1133.409448</td>\n",
       "      <td>371.279112</td>\n",
       "      <td>371.279112</td>\n",
       "    </tr>\n",
       "    <tr>\n",
       "      <th>1</th>\n",
       "      <td>20002</td>\n",
       "      <td>1087.30855</td>\n",
       "      <td>822.800399</td>\n",
       "      <td>264.508151</td>\n",
       "      <td>264.508151</td>\n",
       "    </tr>\n",
       "    <tr>\n",
       "      <th>2</th>\n",
       "      <td>20003</td>\n",
       "      <td>892.50129</td>\n",
       "      <td>661.516040</td>\n",
       "      <td>230.985250</td>\n",
       "      <td>230.985250</td>\n",
       "    </tr>\n",
       "    <tr>\n",
       "      <th>3</th>\n",
       "      <td>20005</td>\n",
       "      <td>593.24443</td>\n",
       "      <td>566.507833</td>\n",
       "      <td>26.736597</td>\n",
       "      <td>26.736597</td>\n",
       "    </tr>\n",
       "    <tr>\n",
       "      <th>4</th>\n",
       "      <td>20004</td>\n",
       "      <td>637.90002</td>\n",
       "      <td>545.372065</td>\n",
       "      <td>92.527955</td>\n",
       "      <td>92.527955</td>\n",
       "    </tr>\n",
       "    <tr>\n",
       "      <th>5</th>\n",
       "      <td>20007</td>\n",
       "      <td>390.43432</td>\n",
       "      <td>470.374329</td>\n",
       "      <td>-79.940009</td>\n",
       "      <td>79.940009</td>\n",
       "    </tr>\n",
       "    <tr>\n",
       "      <th>6</th>\n",
       "      <td>20032</td>\n",
       "      <td>527.79811</td>\n",
       "      <td>451.985126</td>\n",
       "      <td>75.812984</td>\n",
       "      <td>75.812984</td>\n",
       "    </tr>\n",
       "    <tr>\n",
       "      <th>7</th>\n",
       "      <td>20009</td>\n",
       "      <td>495.03574</td>\n",
       "      <td>436.175504</td>\n",
       "      <td>58.860236</td>\n",
       "      <td>58.860236</td>\n",
       "    </tr>\n",
       "    <tr>\n",
       "      <th>8</th>\n",
       "      <td>20013</td>\n",
       "      <td>318.09141</td>\n",
       "      <td>429.415514</td>\n",
       "      <td>-111.324104</td>\n",
       "      <td>111.324104</td>\n",
       "    </tr>\n",
       "    <tr>\n",
       "      <th>9</th>\n",
       "      <td>20006</td>\n",
       "      <td>417.23228</td>\n",
       "      <td>383.474531</td>\n",
       "      <td>33.757749</td>\n",
       "      <td>33.757749</td>\n",
       "    </tr>\n",
       "    <tr>\n",
       "      <th>10</th>\n",
       "      <td>20014</td>\n",
       "      <td>272.02812</td>\n",
       "      <td>350.423720</td>\n",
       "      <td>-78.395600</td>\n",
       "      <td>78.395600</td>\n",
       "    </tr>\n",
       "    <tr>\n",
       "      <th>11</th>\n",
       "      <td>20010</td>\n",
       "      <td>359.59998</td>\n",
       "      <td>347.656668</td>\n",
       "      <td>11.943312</td>\n",
       "      <td>11.943312</td>\n",
       "    </tr>\n",
       "    <tr>\n",
       "      <th>12</th>\n",
       "      <td>20011</td>\n",
       "      <td>392.38290</td>\n",
       "      <td>346.833516</td>\n",
       "      <td>45.549384</td>\n",
       "      <td>45.549384</td>\n",
       "    </tr>\n",
       "    <tr>\n",
       "      <th>13</th>\n",
       "      <td>20015</td>\n",
       "      <td>297.27663</td>\n",
       "      <td>338.626933</td>\n",
       "      <td>-41.350303</td>\n",
       "      <td>41.350303</td>\n",
       "    </tr>\n",
       "    <tr>\n",
       "      <th>14</th>\n",
       "      <td>20019</td>\n",
       "      <td>351.54708</td>\n",
       "      <td>337.121890</td>\n",
       "      <td>14.425190</td>\n",
       "      <td>14.425190</td>\n",
       "    </tr>\n",
       "    <tr>\n",
       "      <th>15</th>\n",
       "      <td>20008</td>\n",
       "      <td>195.36854</td>\n",
       "      <td>333.823538</td>\n",
       "      <td>-138.454998</td>\n",
       "      <td>138.454998</td>\n",
       "    </tr>\n",
       "    <tr>\n",
       "      <th>16</th>\n",
       "      <td>20016</td>\n",
       "      <td>273.20202</td>\n",
       "      <td>304.465968</td>\n",
       "      <td>-31.263948</td>\n",
       "      <td>31.263948</td>\n",
       "    </tr>\n",
       "    <tr>\n",
       "      <th>17</th>\n",
       "      <td>20012</td>\n",
       "      <td>173.13004</td>\n",
       "      <td>303.177888</td>\n",
       "      <td>-130.047848</td>\n",
       "      <td>130.047848</td>\n",
       "    </tr>\n",
       "    <tr>\n",
       "      <th>18</th>\n",
       "      <td>20023</td>\n",
       "      <td>181.13277</td>\n",
       "      <td>255.665435</td>\n",
       "      <td>-74.532665</td>\n",
       "      <td>74.532665</td>\n",
       "    </tr>\n",
       "    <tr>\n",
       "      <th>19</th>\n",
       "      <td>20020</td>\n",
       "      <td>266.06358</td>\n",
       "      <td>252.387499</td>\n",
       "      <td>13.676081</td>\n",
       "      <td>13.676081</td>\n",
       "    </tr>\n",
       "  </tbody>\n",
       "</table>\n",
       "</div>"
      ],
      "text/plain": [
       "    product_id        tn_x         tn_y   real-pred     err_abs\n",
       "0        20001  1504.68856  1133.409448  371.279112  371.279112\n",
       "1        20002  1087.30855   822.800399  264.508151  264.508151\n",
       "2        20003   892.50129   661.516040  230.985250  230.985250\n",
       "3        20005   593.24443   566.507833   26.736597   26.736597\n",
       "4        20004   637.90002   545.372065   92.527955   92.527955\n",
       "5        20007   390.43432   470.374329  -79.940009   79.940009\n",
       "6        20032   527.79811   451.985126   75.812984   75.812984\n",
       "7        20009   495.03574   436.175504   58.860236   58.860236\n",
       "8        20013   318.09141   429.415514 -111.324104  111.324104\n",
       "9        20006   417.23228   383.474531   33.757749   33.757749\n",
       "10       20014   272.02812   350.423720  -78.395600   78.395600\n",
       "11       20010   359.59998   347.656668   11.943312   11.943312\n",
       "12       20011   392.38290   346.833516   45.549384   45.549384\n",
       "13       20015   297.27663   338.626933  -41.350303   41.350303\n",
       "14       20019   351.54708   337.121890   14.425190   14.425190\n",
       "15       20008   195.36854   333.823538 -138.454998  138.454998\n",
       "16       20016   273.20202   304.465968  -31.263948   31.263948\n",
       "17       20012   173.13004   303.177888 -130.047848  130.047848\n",
       "18       20023   181.13277   255.665435  -74.532665   74.532665\n",
       "19       20020   266.06358   252.387499   13.676081   13.676081"
      ]
     },
     "execution_count": 48,
     "metadata": {},
     "output_type": "execute_result"
    }
   ],
   "source": [
    "'''df_real['real-pred'] = df_real['tn_x'] - df_real['tn_y']\n",
    "df_real['err_abs'] = (df_real['tn_x'] - df_real['tn_y']).abs()\n",
    "df_real.sort_values(by='tn_y', ascending=False, inplace=True)\n",
    "df_real.reset_index(drop=True, inplace=True)\n",
    "df_real.head(20)'''"
   ]
  },
  {
   "cell_type": "code",
   "execution_count": null,
   "metadata": {},
   "outputs": [
    {
     "data": {
      "application/vnd.plotly.v1+json": {
       "config": {
        "plotlyServerURL": "https://plot.ly"
       },
       "data": [
        {
         "mode": "lines+markers",
         "name": "Histórico tn",
         "type": "scatter",
         "x": [
          "2019-02-01T00:00:00.000000000",
          "2019-03-01T00:00:00.000000000",
          "2019-04-01T00:00:00.000000000",
          "2019-05-01T00:00:00.000000000",
          "2019-06-01T00:00:00.000000000",
          "2019-07-01T00:00:00.000000000",
          "2019-08-01T00:00:00.000000000",
          "2019-09-01T00:00:00.000000000",
          "2019-10-01T00:00:00.000000000",
          "2019-11-01T00:00:00.000000000",
          "2019-12-01T00:00:00.000000000"
         ],
         "y": {
          "bdata": "1edqK/b/bkATZtr+leyBQIBIv30dlnZA6BN5kvSGfkDtKqT8ZOyCQO62C8010IVAKGGm7R/5hUDT9q+sNK+DQOW4UzpYeYdAsDic+ZVVjEDi5H6HYn6AQA==",
          "dtype": "f8"
         }
        },
        {
         "marker": {
          "color": "red",
          "size": 12,
          "symbol": "star"
         },
         "mode": "markers",
         "name": "Predicción modelo",
         "type": "scatter",
         "x": [
          "2020-02-01T00:00:00"
         ],
         "y": {
          "bdata": "2/7xE8M/fEA=",
          "dtype": "f8"
         }
        }
       ],
       "layout": {
        "showlegend": false,
        "template": {
         "data": {
          "bar": [
           {
            "error_x": {
             "color": "#2a3f5f"
            },
            "error_y": {
             "color": "#2a3f5f"
            },
            "marker": {
             "line": {
              "color": "#E5ECF6",
              "width": 0.5
             },
             "pattern": {
              "fillmode": "overlay",
              "size": 10,
              "solidity": 0.2
             }
            },
            "type": "bar"
           }
          ],
          "barpolar": [
           {
            "marker": {
             "line": {
              "color": "#E5ECF6",
              "width": 0.5
             },
             "pattern": {
              "fillmode": "overlay",
              "size": 10,
              "solidity": 0.2
             }
            },
            "type": "barpolar"
           }
          ],
          "carpet": [
           {
            "aaxis": {
             "endlinecolor": "#2a3f5f",
             "gridcolor": "white",
             "linecolor": "white",
             "minorgridcolor": "white",
             "startlinecolor": "#2a3f5f"
            },
            "baxis": {
             "endlinecolor": "#2a3f5f",
             "gridcolor": "white",
             "linecolor": "white",
             "minorgridcolor": "white",
             "startlinecolor": "#2a3f5f"
            },
            "type": "carpet"
           }
          ],
          "choropleth": [
           {
            "colorbar": {
             "outlinewidth": 0,
             "ticks": ""
            },
            "type": "choropleth"
           }
          ],
          "contour": [
           {
            "colorbar": {
             "outlinewidth": 0,
             "ticks": ""
            },
            "colorscale": [
             [
              0,
              "#0d0887"
             ],
             [
              0.1111111111111111,
              "#46039f"
             ],
             [
              0.2222222222222222,
              "#7201a8"
             ],
             [
              0.3333333333333333,
              "#9c179e"
             ],
             [
              0.4444444444444444,
              "#bd3786"
             ],
             [
              0.5555555555555556,
              "#d8576b"
             ],
             [
              0.6666666666666666,
              "#ed7953"
             ],
             [
              0.7777777777777778,
              "#fb9f3a"
             ],
             [
              0.8888888888888888,
              "#fdca26"
             ],
             [
              1,
              "#f0f921"
             ]
            ],
            "type": "contour"
           }
          ],
          "contourcarpet": [
           {
            "colorbar": {
             "outlinewidth": 0,
             "ticks": ""
            },
            "type": "contourcarpet"
           }
          ],
          "heatmap": [
           {
            "colorbar": {
             "outlinewidth": 0,
             "ticks": ""
            },
            "colorscale": [
             [
              0,
              "#0d0887"
             ],
             [
              0.1111111111111111,
              "#46039f"
             ],
             [
              0.2222222222222222,
              "#7201a8"
             ],
             [
              0.3333333333333333,
              "#9c179e"
             ],
             [
              0.4444444444444444,
              "#bd3786"
             ],
             [
              0.5555555555555556,
              "#d8576b"
             ],
             [
              0.6666666666666666,
              "#ed7953"
             ],
             [
              0.7777777777777778,
              "#fb9f3a"
             ],
             [
              0.8888888888888888,
              "#fdca26"
             ],
             [
              1,
              "#f0f921"
             ]
            ],
            "type": "heatmap"
           }
          ],
          "histogram": [
           {
            "marker": {
             "pattern": {
              "fillmode": "overlay",
              "size": 10,
              "solidity": 0.2
             }
            },
            "type": "histogram"
           }
          ],
          "histogram2d": [
           {
            "colorbar": {
             "outlinewidth": 0,
             "ticks": ""
            },
            "colorscale": [
             [
              0,
              "#0d0887"
             ],
             [
              0.1111111111111111,
              "#46039f"
             ],
             [
              0.2222222222222222,
              "#7201a8"
             ],
             [
              0.3333333333333333,
              "#9c179e"
             ],
             [
              0.4444444444444444,
              "#bd3786"
             ],
             [
              0.5555555555555556,
              "#d8576b"
             ],
             [
              0.6666666666666666,
              "#ed7953"
             ],
             [
              0.7777777777777778,
              "#fb9f3a"
             ],
             [
              0.8888888888888888,
              "#fdca26"
             ],
             [
              1,
              "#f0f921"
             ]
            ],
            "type": "histogram2d"
           }
          ],
          "histogram2dcontour": [
           {
            "colorbar": {
             "outlinewidth": 0,
             "ticks": ""
            },
            "colorscale": [
             [
              0,
              "#0d0887"
             ],
             [
              0.1111111111111111,
              "#46039f"
             ],
             [
              0.2222222222222222,
              "#7201a8"
             ],
             [
              0.3333333333333333,
              "#9c179e"
             ],
             [
              0.4444444444444444,
              "#bd3786"
             ],
             [
              0.5555555555555556,
              "#d8576b"
             ],
             [
              0.6666666666666666,
              "#ed7953"
             ],
             [
              0.7777777777777778,
              "#fb9f3a"
             ],
             [
              0.8888888888888888,
              "#fdca26"
             ],
             [
              1,
              "#f0f921"
             ]
            ],
            "type": "histogram2dcontour"
           }
          ],
          "mesh3d": [
           {
            "colorbar": {
             "outlinewidth": 0,
             "ticks": ""
            },
            "type": "mesh3d"
           }
          ],
          "parcoords": [
           {
            "line": {
             "colorbar": {
              "outlinewidth": 0,
              "ticks": ""
             }
            },
            "type": "parcoords"
           }
          ],
          "pie": [
           {
            "automargin": true,
            "type": "pie"
           }
          ],
          "scatter": [
           {
            "fillpattern": {
             "fillmode": "overlay",
             "size": 10,
             "solidity": 0.2
            },
            "type": "scatter"
           }
          ],
          "scatter3d": [
           {
            "line": {
             "colorbar": {
              "outlinewidth": 0,
              "ticks": ""
             }
            },
            "marker": {
             "colorbar": {
              "outlinewidth": 0,
              "ticks": ""
             }
            },
            "type": "scatter3d"
           }
          ],
          "scattercarpet": [
           {
            "marker": {
             "colorbar": {
              "outlinewidth": 0,
              "ticks": ""
             }
            },
            "type": "scattercarpet"
           }
          ],
          "scattergeo": [
           {
            "marker": {
             "colorbar": {
              "outlinewidth": 0,
              "ticks": ""
             }
            },
            "type": "scattergeo"
           }
          ],
          "scattergl": [
           {
            "marker": {
             "colorbar": {
              "outlinewidth": 0,
              "ticks": ""
             }
            },
            "type": "scattergl"
           }
          ],
          "scattermap": [
           {
            "marker": {
             "colorbar": {
              "outlinewidth": 0,
              "ticks": ""
             }
            },
            "type": "scattermap"
           }
          ],
          "scattermapbox": [
           {
            "marker": {
             "colorbar": {
              "outlinewidth": 0,
              "ticks": ""
             }
            },
            "type": "scattermapbox"
           }
          ],
          "scatterpolar": [
           {
            "marker": {
             "colorbar": {
              "outlinewidth": 0,
              "ticks": ""
             }
            },
            "type": "scatterpolar"
           }
          ],
          "scatterpolargl": [
           {
            "marker": {
             "colorbar": {
              "outlinewidth": 0,
              "ticks": ""
             }
            },
            "type": "scatterpolargl"
           }
          ],
          "scatterternary": [
           {
            "marker": {
             "colorbar": {
              "outlinewidth": 0,
              "ticks": ""
             }
            },
            "type": "scatterternary"
           }
          ],
          "surface": [
           {
            "colorbar": {
             "outlinewidth": 0,
             "ticks": ""
            },
            "colorscale": [
             [
              0,
              "#0d0887"
             ],
             [
              0.1111111111111111,
              "#46039f"
             ],
             [
              0.2222222222222222,
              "#7201a8"
             ],
             [
              0.3333333333333333,
              "#9c179e"
             ],
             [
              0.4444444444444444,
              "#bd3786"
             ],
             [
              0.5555555555555556,
              "#d8576b"
             ],
             [
              0.6666666666666666,
              "#ed7953"
             ],
             [
              0.7777777777777778,
              "#fb9f3a"
             ],
             [
              0.8888888888888888,
              "#fdca26"
             ],
             [
              1,
              "#f0f921"
             ]
            ],
            "type": "surface"
           }
          ],
          "table": [
           {
            "cells": {
             "fill": {
              "color": "#EBF0F8"
             },
             "line": {
              "color": "white"
             }
            },
            "header": {
             "fill": {
              "color": "#C8D4E3"
             },
             "line": {
              "color": "white"
             }
            },
            "type": "table"
           }
          ]
         },
         "layout": {
          "annotationdefaults": {
           "arrowcolor": "#2a3f5f",
           "arrowhead": 0,
           "arrowwidth": 1
          },
          "autotypenumbers": "strict",
          "coloraxis": {
           "colorbar": {
            "outlinewidth": 0,
            "ticks": ""
           }
          },
          "colorscale": {
           "diverging": [
            [
             0,
             "#8e0152"
            ],
            [
             0.1,
             "#c51b7d"
            ],
            [
             0.2,
             "#de77ae"
            ],
            [
             0.3,
             "#f1b6da"
            ],
            [
             0.4,
             "#fde0ef"
            ],
            [
             0.5,
             "#f7f7f7"
            ],
            [
             0.6,
             "#e6f5d0"
            ],
            [
             0.7,
             "#b8e186"
            ],
            [
             0.8,
             "#7fbc41"
            ],
            [
             0.9,
             "#4d9221"
            ],
            [
             1,
             "#276419"
            ]
           ],
           "sequential": [
            [
             0,
             "#0d0887"
            ],
            [
             0.1111111111111111,
             "#46039f"
            ],
            [
             0.2222222222222222,
             "#7201a8"
            ],
            [
             0.3333333333333333,
             "#9c179e"
            ],
            [
             0.4444444444444444,
             "#bd3786"
            ],
            [
             0.5555555555555556,
             "#d8576b"
            ],
            [
             0.6666666666666666,
             "#ed7953"
            ],
            [
             0.7777777777777778,
             "#fb9f3a"
            ],
            [
             0.8888888888888888,
             "#fdca26"
            ],
            [
             1,
             "#f0f921"
            ]
           ],
           "sequentialminus": [
            [
             0,
             "#0d0887"
            ],
            [
             0.1111111111111111,
             "#46039f"
            ],
            [
             0.2222222222222222,
             "#7201a8"
            ],
            [
             0.3333333333333333,
             "#9c179e"
            ],
            [
             0.4444444444444444,
             "#bd3786"
            ],
            [
             0.5555555555555556,
             "#d8576b"
            ],
            [
             0.6666666666666666,
             "#ed7953"
            ],
            [
             0.7777777777777778,
             "#fb9f3a"
            ],
            [
             0.8888888888888888,
             "#fdca26"
            ],
            [
             1,
             "#f0f921"
            ]
           ]
          },
          "colorway": [
           "#636efa",
           "#EF553B",
           "#00cc96",
           "#ab63fa",
           "#FFA15A",
           "#19d3f3",
           "#FF6692",
           "#B6E880",
           "#FF97FF",
           "#FECB52"
          ],
          "font": {
           "color": "#2a3f5f"
          },
          "geo": {
           "bgcolor": "white",
           "lakecolor": "white",
           "landcolor": "#E5ECF6",
           "showlakes": true,
           "showland": true,
           "subunitcolor": "white"
          },
          "hoverlabel": {
           "align": "left"
          },
          "hovermode": "closest",
          "mapbox": {
           "style": "light"
          },
          "paper_bgcolor": "white",
          "plot_bgcolor": "#E5ECF6",
          "polar": {
           "angularaxis": {
            "gridcolor": "white",
            "linecolor": "white",
            "ticks": ""
           },
           "bgcolor": "#E5ECF6",
           "radialaxis": {
            "gridcolor": "white",
            "linecolor": "white",
            "ticks": ""
           }
          },
          "scene": {
           "xaxis": {
            "backgroundcolor": "#E5ECF6",
            "gridcolor": "white",
            "gridwidth": 2,
            "linecolor": "white",
            "showbackground": true,
            "ticks": "",
            "zerolinecolor": "white"
           },
           "yaxis": {
            "backgroundcolor": "#E5ECF6",
            "gridcolor": "white",
            "gridwidth": 2,
            "linecolor": "white",
            "showbackground": true,
            "ticks": "",
            "zerolinecolor": "white"
           },
           "zaxis": {
            "backgroundcolor": "#E5ECF6",
            "gridcolor": "white",
            "gridwidth": 2,
            "linecolor": "white",
            "showbackground": true,
            "ticks": "",
            "zerolinecolor": "white"
           }
          },
          "shapedefaults": {
           "line": {
            "color": "#2a3f5f"
           }
          },
          "ternary": {
           "aaxis": {
            "gridcolor": "white",
            "linecolor": "white",
            "ticks": ""
           },
           "baxis": {
            "gridcolor": "white",
            "linecolor": "white",
            "ticks": ""
           },
           "bgcolor": "#E5ECF6",
           "caxis": {
            "gridcolor": "white",
            "linecolor": "white",
            "ticks": ""
           }
          },
          "title": {
           "x": 0.05
          },
          "xaxis": {
           "automargin": true,
           "gridcolor": "white",
           "linecolor": "white",
           "ticks": "",
           "title": {
            "standoff": 15
           },
           "zerolinecolor": "white",
           "zerolinewidth": 2
          },
          "yaxis": {
           "automargin": true,
           "gridcolor": "white",
           "linecolor": "white",
           "ticks": "",
           "title": {
            "standoff": 15
           },
           "zerolinecolor": "white",
           "zerolinewidth": 2
          }
         }
        },
        "title": {
         "text": "Evolución de tn vendidas y predicción para product_id 20032"
        },
        "xaxis": {
         "title": {
          "text": "Periodo"
         }
        },
        "yaxis": {
         "title": {
          "text": "Toneladas vendidas"
         }
        }
       }
      }
     },
     "metadata": {},
     "output_type": "display_data"
    }
   ],
   "source": [
    "'''import plotly.graph_objects as go\n",
    "\n",
    "# Elige el product_id manualmente\n",
    "product_id_elegido = 20032  # Cambia este valor por el que quieras analizar\n",
    "\n",
    "# Agrupa y suma las toneladas por producto y periodo\n",
    "df_hist = (\n",
    "    df_full[df_full['product_id'] == product_id_elegido]\n",
    "    .groupby('periodo', as_index=False)['tn']\n",
    "    .sum()\n",
    "    .sort_values('periodo')\n",
    ")\n",
    "\n",
    "# Busca la predicción para ese producto\n",
    "pred_row = df_real[df_real['product_id'] == product_id_elegido]\n",
    "\n",
    "fig = go.Figure()\n",
    "\n",
    "# Línea de evolución histórica\n",
    "fig.add_trace(go.Scatter(\n",
    "    x=df_hist['periodo'],\n",
    "    y=df_hist['tn'],\n",
    "    mode='lines+markers',\n",
    "    name='Histórico tn'\n",
    "))\n",
    "\n",
    "# Punto de predicción (si existe)\n",
    "if not pred_row.empty:\n",
    "    # Ajusta el periodo del punto según corresponda\n",
    "    periodo_pred = pd.to_datetime('2020-02-01') # df_hist['periodo'].max()\n",
    "    fig.add_trace(go.Scatter(\n",
    "        x=[periodo_pred],\n",
    "        y=pred_row['tn_y'],\n",
    "        mode='markers',\n",
    "        marker=dict(color='red', size=12, symbol='star'),\n",
    "        name='Predicción modelo'\n",
    "    ))\n",
    "\n",
    "fig.update_layout(\n",
    "    title=f'Evolución de tn vendidas y predicción para product_id {product_id_elegido}',\n",
    "    xaxis_title='Periodo',\n",
    "    yaxis_title='Toneladas vendidas',\n",
    "    showlegend=False #,legend=dict(x=0.01, y=0.99)\n",
    ")\n",
    "fig.show()'''"
   ]
  }
 ],
 "metadata": {
  "kernelspec": {
   "display_name": ".venv",
   "language": "python",
   "name": "python3"
  },
  "language_info": {
   "codemirror_mode": {
    "name": "ipython",
    "version": 3
   },
   "file_extension": ".py",
   "mimetype": "text/x-python",
   "name": "python",
   "nbconvert_exporter": "python",
   "pygments_lexer": "ipython3",
   "version": "3.10.11"
  }
 },
 "nbformat": 4,
 "nbformat_minor": 2
}
